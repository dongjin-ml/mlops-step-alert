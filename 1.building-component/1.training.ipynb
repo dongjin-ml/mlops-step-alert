{
 "cells": [
  {
   "cell_type": "markdown",
   "id": "327dd0be-8ba8-43e5-b178-eb1db8d3d40a",
   "metadata": {
    "tags": []
   },
   "source": [
    "# <B> # SageMaker Training with Experiments and Processing </B>\n",
    "* Container: codna_python3"
   ]
  },
  {
   "cell_type": "markdown",
   "id": "37edc0d7-aa20-42d9-bd06-2883664f7dc6",
   "metadata": {
    "tags": []
   },
   "source": [
    "## 학습 작업의 실행 노트북 개요\n",
    "\n",
    "- SageMaker Training에 SageMaker 실험을 추가하여 여러 실험의 결과를 비교할 수 있습니다.\n",
    "    - [작업 실행 시 필요 라이브러리 import](#작업-실행-시-필요-라이브러리-import)\n",
    "    - [SageMaker 세션과 Role, 사용 버킷 정의](#SageMaker-세션과-Role,-사용-버킷-정의)\n",
    "    - [하이퍼파라미터 정의](#하이퍼파라미터-정의)\n",
    "    - [학습 실행 작업 정의](#학습-실행-작업-정의)\n",
    "        - 학습 코드 명\n",
    "        - 학습 코드 폴더 명\n",
    "        - 학습 코드가 사용한 Framework 종류, 버전 등\n",
    "        - 학습 인스턴스 타입과 개수\n",
    "        - SageMaker 세션\n",
    "        - 학습 작업 하이퍼파라미터 정의\n",
    "        - 학습 작업 산출물 관련 S3 버킷 설정 등\n",
    "    - [학습 데이터셋 지정](#학습-데이터셋-지정)\n",
    "        - 학습에 사용하는 데이터셋의 S3 URI 지정\n",
    "    - [SageMaker 실험 설정](#SageMaker-실험-설정)\n",
    "    - [학습 실행](#학습-실행)\n",
    "    - [데이터 세트 설명](#데이터-세트-설명)\n",
    "    - [실험 결과 보기](#실험-결과-보기)"
   ]
  },
  {
   "cell_type": "markdown",
   "id": "52ecd494-5ac0-4f66-a3cc-340e847e3c46",
   "metadata": {},
   "source": [
    "## AutoReload"
   ]
  },
  {
   "cell_type": "code",
   "execution_count": 1,
   "id": "c07a9ee3-c178-41b6-a212-2a33f65dc377",
   "metadata": {
    "tags": []
   },
   "outputs": [],
   "source": [
    "%load_ext autoreload\n",
    "%autoreload 2"
   ]
  },
  {
   "cell_type": "markdown",
   "id": "044d087e-68b7-42f2-89a7-4f0a84345ed4",
   "metadata": {},
   "source": [
    "## 0. Install packages"
   ]
  },
  {
   "cell_type": "code",
   "execution_count": 3,
   "id": "cbbc26ef-076a-4962-a893-e7db013534cf",
   "metadata": {
    "tags": []
   },
   "outputs": [],
   "source": [
    "install_needed = False  # should only be True once\n",
    "# install_needed = False"
   ]
  },
  {
   "cell_type": "code",
   "execution_count": 4,
   "id": "49be1d23-7472-47f2-889e-48b92f48a183",
   "metadata": {
    "tags": []
   },
   "outputs": [
    {
     "name": "stdout",
     "output_type": "stream",
     "text": [
      "Already revised\n"
     ]
    }
   ],
   "source": [
    "%%bash\n",
    "#!/bin/bash\n",
    "\n",
    "DAEMON_PATH=\"/etc/docker\"\n",
    "MEMORY_SIZE=10G\n",
    "\n",
    "FLAG=$(cat $DAEMON_PATH/daemon.json | jq 'has(\"data-root\")')\n",
    "# echo $FLAG\n",
    "\n",
    "if [ \"$FLAG\" == true ]; then\n",
    "    echo \"Already revised\"\n",
    "else\n",
    "    echo \"Add data-root and default-shm-size=$MEMORY_SIZE\"\n",
    "    sudo cp $DAEMON_PATH/daemon.json $DAEMON_PATH/daemon.json.bak\n",
    "    sudo cat $DAEMON_PATH/daemon.json.bak | jq '. += {\"data-root\":\"/home/ec2-user/SageMaker/.container/docker\",\"default-shm-size\":\"'$MEMORY_SIZE'\"}' | sudo tee $DAEMON_PATH/daemon.json > /dev/null\n",
    "    sudo service docker restart\n",
    "    echo \"Docker Restart\"\n",
    "fi"
   ]
  },
  {
   "cell_type": "code",
   "execution_count": 5,
   "id": "fe9fe5bf-a8f8-4275-953f-0470438c4e80",
   "metadata": {
    "collapsed": true,
    "jupyter": {
     "outputs_hidden": true
    },
    "tags": []
   },
   "outputs": [],
   "source": [
    "import sys\n",
    "import IPython\n",
    "\n",
    "if install_needed:\n",
    "    print(\"installing deps and restarting kernel\")\n",
    "    !{sys.executable} -m pip install -U pip\n",
    "    !{sys.executable} -m pip install -U smdebug sagemaker-experiments\n",
    "    !{sys.executable} -m pip install -U sagemaker\n",
    "    \n",
    "    IPython.Application.instance().kernel.do_shutdown(True)"
   ]
  },
  {
   "cell_type": "markdown",
   "id": "bccc9dda-9dad-4f81-8dd5-53b5623f1d93",
   "metadata": {
    "tags": []
   },
   "source": [
    "## 1. parameter store 설정"
   ]
  },
  {
   "cell_type": "code",
   "execution_count": 6,
   "id": "1d6e737a-557b-44c7-a5c2-f6798bf0c430",
   "metadata": {
    "tags": []
   },
   "outputs": [],
   "source": [
    "import boto3\n",
    "from utils.ssm import parameter_store"
   ]
  },
  {
   "cell_type": "code",
   "execution_count": 7,
   "id": "3f9894a8-4249-4fcc-9b44-d5f43f4fd867",
   "metadata": {
    "tags": []
   },
   "outputs": [],
   "source": [
    "strRegionName=boto3.Session().region_name\n",
    "pm = parameter_store(strRegionName)\n",
    "strPrefix = pm.get_params(key=\"PREFIX\")"
   ]
  },
  {
   "cell_type": "code",
   "execution_count": 8,
   "id": "6fe3068d-8afa-4cdd-a13e-ba2db61ed822",
   "metadata": {
    "tags": []
   },
   "outputs": [],
   "source": [
    "strBucketName = pm.get_params(key=\"-\".join([strPrefix, \"BUCKET\"]))\n",
    "strExecutionRole = pm.get_params(key=\"-\".join([strPrefix, \"SAGEMAKER-ROLE-ARN\"]))"
   ]
  },
  {
   "cell_type": "code",
   "execution_count": 9,
   "id": "cba9c0f2-1a37-47eb-9f87-98cc08f63c1b",
   "metadata": {
    "tags": []
   },
   "outputs": [
    {
     "name": "stdout",
     "output_type": "stream",
     "text": [
      "strBucketName: sagemaker-us-east-1-419974056037\n",
      "strExecutionRole: arn:aws:iam::419974056037:role/service-role/AmazonSageMaker-ExecutionRole-20221206T163436\n"
     ]
    }
   ],
   "source": [
    "print (f'strBucketName: {strBucketName}')\n",
    "print (f'strExecutionRole: {strExecutionRole}')"
   ]
  },
  {
   "cell_type": "markdown",
   "id": "968b6452-fb2f-4ed9-aae9-55e310d567ba",
   "metadata": {},
   "source": [
    "## 2. Dataset"
   ]
  },
  {
   "cell_type": "code",
   "execution_count": 10,
   "id": "e227473a-2ddc-48aa-bc76-4ba310454749",
   "metadata": {
    "tags": []
   },
   "outputs": [],
   "source": [
    "import os"
   ]
  },
  {
   "cell_type": "code",
   "execution_count": 11,
   "id": "aaecc942-d54d-44d0-8552-ec183e833bf2",
   "metadata": {
    "tags": []
   },
   "outputs": [],
   "source": [
    "strS3DataPath = f's3://{strBucketName}/DJ-SM-PIPELINE-DATA'\n",
    "strLocalDataPath = os.path.join(os.getcwd(), \"dataset\")"
   ]
  },
  {
   "cell_type": "markdown",
   "id": "c0674243-6019-4e5e-8563-2fd17ca8ae95",
   "metadata": {
    "tags": []
   },
   "source": [
    "## 3.Training-job"
   ]
  },
  {
   "cell_type": "code",
   "execution_count": 14,
   "id": "e68c1bf7-336d-46b9-940e-9e5b570e1793",
   "metadata": {
    "tags": []
   },
   "outputs": [],
   "source": [
    "import os\n",
    "import sagemaker\n",
    "from sagemaker.xgboost.estimator import XGBoost"
   ]
  },
  {
   "cell_type": "markdown",
   "id": "e0e9bb6a-d48d-46f7-bb83-a47255503b6f",
   "metadata": {},
   "source": [
    "* **Set Up SageMaker Experiment**\n",
    "    - Create or load [SageMaker Experiment](https://docs.aws.amazon.com/sagemaker/latest/dg/experiments.html) for the example training job. This will create an experiment trial object in SageMaker."
   ]
  },
  {
   "cell_type": "code",
   "execution_count": 15,
   "id": "9612750e-acc9-418c-be4f-24ce6a79726b",
   "metadata": {
    "tags": []
   },
   "outputs": [],
   "source": [
    "from time import strftime\n",
    "from smexperiments.trial import Trial\n",
    "from smexperiments.experiment import Experiment"
   ]
  },
  {
   "cell_type": "code",
   "execution_count": 16,
   "id": "c6a12e2b-2456-4419-8c75-e95d2ca6eab4",
   "metadata": {
    "tags": []
   },
   "outputs": [],
   "source": [
    "def create_experiment(experiment_name):\n",
    "    try: sm_experiment = Experiment.load(experiment_name)\n",
    "    except: sm_experiment = Experiment.create(experiment_name=experiment_name)"
   ]
  },
  {
   "cell_type": "code",
   "execution_count": 17,
   "id": "489351d8-9d95-4483-af38-0bd3f9c80add",
   "metadata": {
    "tags": []
   },
   "outputs": [],
   "source": [
    "def create_trial(experiment_name):\n",
    "    create_date = strftime(\"%m%d-%H%M%s\")\n",
    "    sm_trial = Trial.create(trial_name=f'{experiment_name}-{create_date}',\n",
    "                            experiment_name=experiment_name)\n",
    "    job_name = f'{sm_trial.trial_name}'\n",
    "    return job_name"
   ]
  },
  {
   "cell_type": "markdown",
   "id": "85e3076c-bfae-4589-963a-4f1288761e62",
   "metadata": {},
   "source": [
    "* params for training job"
   ]
  },
  {
   "cell_type": "code",
   "execution_count": 26,
   "id": "c7460084-c1f4-472d-909c-ce723634b26b",
   "metadata": {
    "tags": []
   },
   "outputs": [],
   "source": [
    "# Set to True to enable SageMaker to run locally\n",
    "local_mode = True\n",
    "\n",
    "if local_mode:\n",
    "    \n",
    "    from sagemaker.local import LocalSession\n",
    "    \n",
    "    strInstanceType = \"local\"\n",
    "    sagemaker_session = LocalSession()\n",
    "    sagemaker_session.config = {'local': {'local_code': True}}\n",
    "        \n",
    "    dicDataChannels = {\n",
    "        \"TR\": f'file://{os.path.join(strLocalDataPath, \"abalone.csv\")}',\n",
    "        \"TE\": f'file://{os.path.join(strLocalDataPath, \"abalone.csv\")}',\n",
    "    }\n",
    "    \n",
    "else:\n",
    "    strInstanceType = \"ml.m5.2xlarge\"\n",
    "    \n",
    "    sagemaker_session = sagemaker.Session()\n",
    "    dicDataChannels = {\n",
    "        \"TR\": os.path.join(strS3DataPath, \"abalone.csv\"), \n",
    "        \"TE\": os.path.join(strS3DataPath, \"abalone.csv\"), \n",
    "    }\n",
    "\n",
    "nInstanceCount = 1\n",
    "\n",
    "bSpotTraining = False\n",
    "if bSpotTraining:\n",
    "    nMaxWait = 1*60*60\n",
    "    nMaxRun = 1*60*60\n",
    "    \n",
    "else:\n",
    "    nMaxWait = None\n",
    "    nMaxRun = 1*60*60\n",
    "    \n",
    "\n",
    "bUseTrainWarmPool = False ## training image 다운받지 않음, 속도 빨라진다\n",
    "if bUseTrainWarmPool: nKeepAliveSeconds = 3600 ## 최대 1시간 동안!!, service quota에서 warmpool을 위한 request 필요\n",
    "else: nKeepAliveSeconds = None\n",
    "if bSpotTraining:\n",
    "    bUseTrainWarmPool = False # warmpool은 spot instance 사용시 활용 할 수 없음\n",
    "    nKeepAliveSeconds = None\n",
    "    \n",
    "\n",
    "\n",
    "strOutputPath = os.path.join(\n",
    "    \"s3://{}\".format(strBucketName),\n",
    "    strPrefix,\n",
    "    \"training\",\n",
    "    \"model-output\"\n",
    ")\n",
    "\n",
    "strCodeLocation = os.path.join(\n",
    "    \"s3://{}\".format(strBucketName),\n",
    "    strPrefix,\n",
    "    \"training\",\n",
    "    \"backup_codes\"\n",
    ")\n",
    "\n",
    "strExperimentName = '-'.join([strPrefix, \"experiments\"])\n",
    "\n",
    "## You can't override the metric definitions for Amazon SageMaker algorithms. \n",
    "# strNumeticRegEx = \"([0-9\\\\.]+)(e-?[[01][0-9])?\"\n",
    "# listMetricDefinitions = [\n",
    "#     {\"Name\": \"train_loss\", \"Regex\": f\"loss={strNumeticRegEx}\"},\n",
    "#     {\"Name\": \"wer\", \"Regex\": f\"wer:{strNumeticRegEx}\"}\n",
    "# ]\n",
    "\n",
    "# dicGitConfig = {\n",
    "#     'repo': f'https://{pm.get_params(key=\"-\".join([prefix, \"CODE_REPO\"]))}',\n",
    "#     'branch': 'main',\n",
    "#     'username': pm.get_params(key=\"-\".join([prefix, \"CODECOMMIT-USERNAME\"]), enc=True),\n",
    "#     'password': pm.get_params(key=\"-\".join([prefix, \"CODECOMMIT-PWD\"]), enc=True)\n",
    "# }  \n",
    "\n",
    "kwargs = {}"
   ]
  },
  {
   "cell_type": "code",
   "execution_count": 27,
   "id": "26003edf-356a-4e1d-82b1-c8085b508b76",
   "metadata": {
    "tags": []
   },
   "outputs": [
    {
     "name": "stdout",
     "output_type": "stream",
     "text": [
      "strInstanceType: local\n",
      "nInstanceCount: 1\n",
      "sagemaker_session: <sagemaker.local.local_session.LocalSession object at 0x7fb230116170>\n",
      "bSpotTraining: False\n",
      "strExperimentName: DJ-SM-PIPELINE-experiments\n",
      "dicDataChannels: {'TR': 'file:///home/ec2-user/SageMaker/mlops-step-alert/1.building-component/dataset/abalone.csv', 'TE': 'file:///home/ec2-user/SageMaker/mlops-step-alert/1.building-component/dataset/abalone.csv'}\n",
      "strOutputPath: s3://sagemaker-us-east-1-419974056037/DJ-SM-PIPELINE/training/model-output\n",
      "strCodeLocation: s3://sagemaker-us-east-1-419974056037/DJ-SM-PIPELINE/training/backup_codes\n",
      "bUseTrainWarmPool: False/None\n"
     ]
    }
   ],
   "source": [
    "print (f'strInstanceType: {strInstanceType}')\n",
    "print (f'nInstanceCount: {nInstanceCount}')\n",
    "print (f'sagemaker_session: {sagemaker_session}')\n",
    "print (f'bSpotTraining: {bSpotTraining}')\n",
    "print (f'strExperimentName: {strExperimentName}')\n",
    "print (f'dicDataChannels: {dicDataChannels}')\n",
    "print (f'strOutputPath: {strOutputPath}')\n",
    "print (f'strCodeLocation: {strCodeLocation}')\n",
    "print (f'bUseTrainWarmPool: {bUseTrainWarmPool}/{nKeepAliveSeconds}')"
   ]
  },
  {
   "cell_type": "markdown",
   "id": "5604a35c-4057-4a4f-b308-640a9cc54277",
   "metadata": {},
   "source": [
    "* Define training job"
   ]
  },
  {
   "cell_type": "code",
   "execution_count": 28,
   "id": "b12bd3c6-4217-4cb9-9d98-9eb931b73319",
   "metadata": {
    "tags": []
   },
   "outputs": [],
   "source": [
    "dicHyperparameters = {  \n",
    "    \"max_depth\": \"10\",\n",
    "    \"eta\": \"0.3\",\n",
    "    \"objective\": \"reg:squarederror\",\n",
    "    \"num_round\": \"100\",\n",
    "}"
   ]
  },
  {
   "cell_type": "code",
   "execution_count": 29,
   "id": "f029cb80-f0c9-4134-bc23-d7405805f0d6",
   "metadata": {
    "tags": []
   },
   "outputs": [
    {
     "name": "stderr",
     "output_type": "stream",
     "text": [
      "INFO:sagemaker.image_uris:Ignoring unnecessary Python version: py3.\n",
      "INFO:sagemaker.image_uris:Ignoring unnecessary instance type: local.\n"
     ]
    }
   ],
   "source": [
    "estimator = XGBoost(\n",
    "    entry_point=\"xgboost_regression.py\",\n",
    "    source_dir=\"sources/train/\",\n",
    "    output_path=strOutputPath,\n",
    "    code_location=strCodeLocation,\n",
    "    hyperparameters=dicHyperparameters, ## Contatiner내 env. variable로 들어 감\n",
    "    role=strExecutionRole,\n",
    "    sagemaker_session=sagemaker_session,\n",
    "    instance_count=nInstanceCount,\n",
    "    instance_type=strInstanceType,\n",
    "    framework_version=\"1.3-1\",\n",
    "    image_uri = 419974056037.dkr.ecr.us-east-1.amazonaws.com/mlops-custom-docker:latest\n",
    "    max_run=nMaxRun,\n",
    "    use_spot_instances=bSpotTraining,\n",
    "    max_wait=nMaxWait,\n",
    "    keep_alive_period_in_seconds=nKeepAliveSeconds,\n",
    "    enable_sagemaker_metrics=True,\n",
    "    #metric_definitions=listMetricDefinitions,\n",
    "    volume_size=256, ## GB\n",
    ")"
   ]
  },
  {
   "cell_type": "markdown",
   "id": "9883bc2a-69e5-436d-aef3-67e994c1f553",
   "metadata": {},
   "source": [
    "* run"
   ]
  },
  {
   "cell_type": "code",
   "execution_count": 33,
   "id": "8640b12b-761f-4fbd-9f09-cac4b2709d2f",
   "metadata": {
    "tags": []
   },
   "outputs": [
    {
     "name": "stderr",
     "output_type": "stream",
     "text": [
      "INFO:botocore.credentials:Found credentials from IAM Role: BaseNotebookInstanceEc2InstanceRole\n",
      "INFO:botocore.credentials:Found credentials from IAM Role: BaseNotebookInstanceEc2InstanceRole\n",
      "INFO:sagemaker:Creating training-job with name: DJ-SM-PIPELINE-experiments-0509-05531683611610\n",
      "INFO:sagemaker.local.local_session:Starting training job\n",
      "INFO:botocore.credentials:Found credentials from IAM Role: BaseNotebookInstanceEc2InstanceRole\n",
      "INFO:sagemaker.local.image:No AWS credentials found in session but credentials from EC2 Metadata Service are available.\n",
      "INFO:sagemaker.local.image:docker compose file: \n",
      "networks:\n",
      "  sagemaker-local:\n",
      "    name: sagemaker-local\n",
      "services:\n",
      "  algo-1-msvk6:\n",
      "    command: train\n",
      "    container_name: f9x2j3j42d-algo-1-msvk6\n",
      "    environment:\n",
      "    - '[Masked]'\n",
      "    - '[Masked]'\n",
      "    image: 683313688378.dkr.ecr.us-east-1.amazonaws.com/sagemaker-xgboost:1.3-1\n",
      "    networks:\n",
      "      sagemaker-local:\n",
      "        aliases:\n",
      "        - algo-1-msvk6\n",
      "    stdin_open: true\n",
      "    tty: true\n",
      "    volumes:\n",
      "    - /tmp/tmpnibhpue7/algo-1-msvk6/output:/opt/ml/output\n",
      "    - /tmp/tmpnibhpue7/algo-1-msvk6/output/data:/opt/ml/output/data\n",
      "    - /tmp/tmpnibhpue7/algo-1-msvk6/input:/opt/ml/input\n",
      "    - /tmp/tmpnibhpue7/model:/opt/ml/model\n",
      "    - /opt/ml/metadata:/opt/ml/metadata\n",
      "    - /home/ec2-user/SageMaker/mlops-step-alert/1.building-component/dataset:/opt/ml/input/data/TR\n",
      "    - /home/ec2-user/SageMaker/mlops-step-alert/1.building-component/dataset:/opt/ml/input/data/TE\n",
      "    - /home/ec2-user/SageMaker/mlops-step-alert/1.building-component/sources/train:/opt/ml/code\n",
      "    - /tmp/tmpnibhpue7/shared:/opt/ml/shared\n",
      "version: '2.3'\n",
      "\n",
      "INFO:sagemaker.local.image:docker command: docker-compose -f /tmp/tmpnibhpue7/docker-compose.yaml up --build --abort-on-container-exit\n"
     ]
    },
    {
     "name": "stdout",
     "output_type": "stream",
     "text": [
      "Creating f9x2j3j42d-algo-1-msvk6 ... \n",
      "Creating f9x2j3j42d-algo-1-msvk6 ... done\n",
      "Attaching to f9x2j3j42d-algo-1-msvk6\n",
      "\u001b[36mf9x2j3j42d-algo-1-msvk6 |\u001b[0m [2023-05-09 05:53:33.814 5e169d7d63a0:1 INFO utils.py:28] RULE_JOB_STOP_SIGNAL_FILENAME: None\n",
      "\u001b[36mf9x2j3j42d-algo-1-msvk6 |\u001b[0m [2023-05-09 05:53:33.844 5e169d7d63a0:1 INFO profiler_config_parser.py:111] Unable to find config at /opt/ml/input/config/profilerconfig.json. Profiler is disabled.\n",
      "\u001b[36mf9x2j3j42d-algo-1-msvk6 |\u001b[0m [2023-05-09:05:53:33:INFO] Imported framework sagemaker_xgboost_container.training\n",
      "\u001b[36mf9x2j3j42d-algo-1-msvk6 |\u001b[0m [2023-05-09:05:53:33:INFO] No GPUs detected (normal if no gpus installed)\n",
      "\u001b[36mf9x2j3j42d-algo-1-msvk6 |\u001b[0m [2023-05-09:05:53:33:INFO] Invoking user training script.\n",
      "\u001b[36mf9x2j3j42d-algo-1-msvk6 |\u001b[0m [2023-05-09:05:53:33:INFO] Installing module with the following command:\n",
      "\u001b[36mf9x2j3j42d-algo-1-msvk6 |\u001b[0m /miniconda3/bin/python3 -m pip install . \n",
      "\u001b[36mf9x2j3j42d-algo-1-msvk6 |\u001b[0m Processing /opt/ml/code\n",
      "\u001b[36mf9x2j3j42d-algo-1-msvk6 |\u001b[0m   Preparing metadata (setup.py) ... \u001b[?25ldone\n",
      "\u001b[36mf9x2j3j42d-algo-1-msvk6 |\u001b[0m \u001b[?25hBuilding wheels for collected packages: xgboost-regression\n",
      "\u001b[36mf9x2j3j42d-algo-1-msvk6 |\u001b[0m   Building wheel for xgboost-regression (setup.py) ... \u001b[?25ldone\n",
      "\u001b[36mf9x2j3j42d-algo-1-msvk6 |\u001b[0m \u001b[?25h  Created wheel for xgboost-regression: filename=xgboost_regression-1.0.0-py2.py3-none-any.whl size=38291 sha256=123b1f7dd655065e5585166ce8f00894705ff971450459690bb1e875aaa95f33\n",
      "\u001b[36mf9x2j3j42d-algo-1-msvk6 |\u001b[0m   Stored in directory: /home/model-server/tmp/pip-ephem-wheel-cache-m3oosyff/wheels/3e/0f/51/2f1df833dd0412c1bc2f5ee56baac195b5be563353d111dca6\n",
      "\u001b[36mf9x2j3j42d-algo-1-msvk6 |\u001b[0m Successfully built xgboost-regression\n",
      "\u001b[36mf9x2j3j42d-algo-1-msvk6 |\u001b[0m Installing collected packages: xgboost-regression\n",
      "\u001b[36mf9x2j3j42d-algo-1-msvk6 |\u001b[0m   Attempting uninstall: xgboost-regression\n",
      "\u001b[36mf9x2j3j42d-algo-1-msvk6 |\u001b[0m     Found existing installation: xgboost-regression 1.0.0\n",
      "\u001b[36mf9x2j3j42d-algo-1-msvk6 |\u001b[0m     Can't uninstall 'xgboost-regression'. No files were found to uninstall.\n",
      "\u001b[36mf9x2j3j42d-algo-1-msvk6 |\u001b[0m Successfully installed xgboost-regression-1.0.0\n",
      "\u001b[36mf9x2j3j42d-algo-1-msvk6 |\u001b[0m \u001b[33mWARNING: Running pip as the 'root' user can result in broken permissions and conflicting behaviour with the system package manager. It is recommended to use a virtual environment instead: https://pip.pypa.io/warnings/venv\u001b[0m\u001b[33m\n",
      "\u001b[36mf9x2j3j42d-algo-1-msvk6 |\u001b[0m \u001b[0m\n",
      "\u001b[36mf9x2j3j42d-algo-1-msvk6 |\u001b[0m \u001b[1m[\u001b[0m\u001b[34;49mnotice\u001b[0m\u001b[1;39;49m]\u001b[0m\u001b[39;49m A new release of pip is available: \u001b[0m\u001b[31;49m23.0.1\u001b[0m\u001b[39;49m -> \u001b[0m\u001b[32;49m23.1.2\u001b[0m\n",
      "\u001b[36mf9x2j3j42d-algo-1-msvk6 |\u001b[0m \u001b[1m[\u001b[0m\u001b[34;49mnotice\u001b[0m\u001b[1;39;49m]\u001b[0m\u001b[39;49m To update, run: \u001b[0m\u001b[32;49mpip install --upgrade pip\u001b[0m\n",
      "\u001b[36mf9x2j3j42d-algo-1-msvk6 |\u001b[0m [2023-05-09:05:53:35:INFO] No GPUs detected (normal if no gpus installed)\n",
      "\u001b[36mf9x2j3j42d-algo-1-msvk6 |\u001b[0m [2023-05-09:05:53:35:INFO] Invoking user script\n",
      "\u001b[36mf9x2j3j42d-algo-1-msvk6 |\u001b[0m \n",
      "\u001b[36mf9x2j3j42d-algo-1-msvk6 |\u001b[0m Training Env:\n",
      "\u001b[36mf9x2j3j42d-algo-1-msvk6 |\u001b[0m \n",
      "\u001b[36mf9x2j3j42d-algo-1-msvk6 |\u001b[0m {\n",
      "\u001b[36mf9x2j3j42d-algo-1-msvk6 |\u001b[0m     \"additional_framework_parameters\": {},\n",
      "\u001b[36mf9x2j3j42d-algo-1-msvk6 |\u001b[0m     \"channel_input_dirs\": {\n",
      "\u001b[36mf9x2j3j42d-algo-1-msvk6 |\u001b[0m         \"TR\": \"/opt/ml/input/data/TR\",\n",
      "\u001b[36mf9x2j3j42d-algo-1-msvk6 |\u001b[0m         \"TE\": \"/opt/ml/input/data/TE\"\n",
      "\u001b[36mf9x2j3j42d-algo-1-msvk6 |\u001b[0m     },\n",
      "\u001b[36mf9x2j3j42d-algo-1-msvk6 |\u001b[0m     \"current_host\": \"algo-1-msvk6\",\n",
      "\u001b[36mf9x2j3j42d-algo-1-msvk6 |\u001b[0m     \"framework_module\": \"sagemaker_xgboost_container.training:main\",\n",
      "\u001b[36mf9x2j3j42d-algo-1-msvk6 |\u001b[0m     \"hosts\": [\n",
      "\u001b[36mf9x2j3j42d-algo-1-msvk6 |\u001b[0m         \"algo-1-msvk6\"\n",
      "\u001b[36mf9x2j3j42d-algo-1-msvk6 |\u001b[0m     ],\n",
      "\u001b[36mf9x2j3j42d-algo-1-msvk6 |\u001b[0m     \"hyperparameters\": {\n",
      "\u001b[36mf9x2j3j42d-algo-1-msvk6 |\u001b[0m         \"max_depth\": \"10\",\n",
      "\u001b[36mf9x2j3j42d-algo-1-msvk6 |\u001b[0m         \"eta\": \"0.3\",\n",
      "\u001b[36mf9x2j3j42d-algo-1-msvk6 |\u001b[0m         \"objective\": \"reg:squarederror\",\n",
      "\u001b[36mf9x2j3j42d-algo-1-msvk6 |\u001b[0m         \"num_round\": \"100\"\n",
      "\u001b[36mf9x2j3j42d-algo-1-msvk6 |\u001b[0m     },\n",
      "\u001b[36mf9x2j3j42d-algo-1-msvk6 |\u001b[0m     \"input_config_dir\": \"/opt/ml/input/config\",\n",
      "\u001b[36mf9x2j3j42d-algo-1-msvk6 |\u001b[0m     \"input_data_config\": {\n",
      "\u001b[36mf9x2j3j42d-algo-1-msvk6 |\u001b[0m         \"TR\": {\n",
      "\u001b[36mf9x2j3j42d-algo-1-msvk6 |\u001b[0m             \"TrainingInputMode\": \"File\"\n",
      "\u001b[36mf9x2j3j42d-algo-1-msvk6 |\u001b[0m         },\n",
      "\u001b[36mf9x2j3j42d-algo-1-msvk6 |\u001b[0m         \"TE\": {\n",
      "\u001b[36mf9x2j3j42d-algo-1-msvk6 |\u001b[0m             \"TrainingInputMode\": \"File\"\n",
      "\u001b[36mf9x2j3j42d-algo-1-msvk6 |\u001b[0m         }\n",
      "\u001b[36mf9x2j3j42d-algo-1-msvk6 |\u001b[0m     },\n",
      "\u001b[36mf9x2j3j42d-algo-1-msvk6 |\u001b[0m     \"input_dir\": \"/opt/ml/input\",\n",
      "\u001b[36mf9x2j3j42d-algo-1-msvk6 |\u001b[0m     \"is_master\": true,\n",
      "\u001b[36mf9x2j3j42d-algo-1-msvk6 |\u001b[0m     \"job_name\": \"DJ-SM-PIPELINE-experiments-0509-05531683611610\",\n",
      "\u001b[36mf9x2j3j42d-algo-1-msvk6 |\u001b[0m     \"log_level\": 20,\n",
      "\u001b[36mf9x2j3j42d-algo-1-msvk6 |\u001b[0m     \"master_hostname\": \"algo-1-msvk6\",\n",
      "\u001b[36mf9x2j3j42d-algo-1-msvk6 |\u001b[0m     \"model_dir\": \"/opt/ml/model\",\n",
      "\u001b[36mf9x2j3j42d-algo-1-msvk6 |\u001b[0m     \"module_dir\": \"/opt/ml/code\",\n",
      "\u001b[36mf9x2j3j42d-algo-1-msvk6 |\u001b[0m     \"module_name\": \"xgboost_regression\",\n",
      "\u001b[36mf9x2j3j42d-algo-1-msvk6 |\u001b[0m     \"network_interface_name\": \"eth0\",\n",
      "\u001b[36mf9x2j3j42d-algo-1-msvk6 |\u001b[0m     \"num_cpus\": 8,\n",
      "\u001b[36mf9x2j3j42d-algo-1-msvk6 |\u001b[0m     \"num_gpus\": 0,\n",
      "\u001b[36mf9x2j3j42d-algo-1-msvk6 |\u001b[0m     \"output_data_dir\": \"/opt/ml/output/data\",\n",
      "\u001b[36mf9x2j3j42d-algo-1-msvk6 |\u001b[0m     \"output_dir\": \"/opt/ml/output\",\n",
      "\u001b[36mf9x2j3j42d-algo-1-msvk6 |\u001b[0m     \"output_intermediate_dir\": \"/opt/ml/output/intermediate\",\n",
      "\u001b[36mf9x2j3j42d-algo-1-msvk6 |\u001b[0m     \"resource_config\": {\n",
      "\u001b[36mf9x2j3j42d-algo-1-msvk6 |\u001b[0m         \"current_host\": \"algo-1-msvk6\",\n",
      "\u001b[36mf9x2j3j42d-algo-1-msvk6 |\u001b[0m         \"hosts\": [\n",
      "\u001b[36mf9x2j3j42d-algo-1-msvk6 |\u001b[0m             \"algo-1-msvk6\"\n",
      "\u001b[36mf9x2j3j42d-algo-1-msvk6 |\u001b[0m         ]\n",
      "\u001b[36mf9x2j3j42d-algo-1-msvk6 |\u001b[0m     },\n",
      "\u001b[36mf9x2j3j42d-algo-1-msvk6 |\u001b[0m     \"user_entry_point\": \"xgboost_regression.py\"\n",
      "\u001b[36mf9x2j3j42d-algo-1-msvk6 |\u001b[0m }\n",
      "\u001b[36mf9x2j3j42d-algo-1-msvk6 |\u001b[0m \n",
      "\u001b[36mf9x2j3j42d-algo-1-msvk6 |\u001b[0m Environment variables:\n",
      "\u001b[36mf9x2j3j42d-algo-1-msvk6 |\u001b[0m \n",
      "\u001b[36mf9x2j3j42d-algo-1-msvk6 |\u001b[0m SM_HOSTS=[\"algo-1-msvk6\"]\n",
      "\u001b[36mf9x2j3j42d-algo-1-msvk6 |\u001b[0m SM_NETWORK_INTERFACE_NAME=eth0\n",
      "\u001b[36mf9x2j3j42d-algo-1-msvk6 |\u001b[0m SM_HPS={\"eta\":\"0.3\",\"max_depth\":\"10\",\"num_round\":\"100\",\"objective\":\"reg:squarederror\"}\n",
      "\u001b[36mf9x2j3j42d-algo-1-msvk6 |\u001b[0m SM_USER_ENTRY_POINT=xgboost_regression.py\n",
      "\u001b[36mf9x2j3j42d-algo-1-msvk6 |\u001b[0m SM_FRAMEWORK_PARAMS={}\n",
      "\u001b[36mf9x2j3j42d-algo-1-msvk6 |\u001b[0m SM_RESOURCE_CONFIG={\"current_host\":\"algo-1-msvk6\",\"hosts\":[\"algo-1-msvk6\"]}\n",
      "\u001b[36mf9x2j3j42d-algo-1-msvk6 |\u001b[0m SM_INPUT_DATA_CONFIG={\"TE\":{\"TrainingInputMode\":\"File\"},\"TR\":{\"TrainingInputMode\":\"File\"}}\n",
      "\u001b[36mf9x2j3j42d-algo-1-msvk6 |\u001b[0m SM_OUTPUT_DATA_DIR=/opt/ml/output/data\n",
      "\u001b[36mf9x2j3j42d-algo-1-msvk6 |\u001b[0m SM_CHANNELS=[\"TE\",\"TR\"]\n",
      "\u001b[36mf9x2j3j42d-algo-1-msvk6 |\u001b[0m SM_CURRENT_HOST=algo-1-msvk6\n",
      "\u001b[36mf9x2j3j42d-algo-1-msvk6 |\u001b[0m SM_MODULE_NAME=xgboost_regression\n",
      "\u001b[36mf9x2j3j42d-algo-1-msvk6 |\u001b[0m SM_LOG_LEVEL=20\n",
      "\u001b[36mf9x2j3j42d-algo-1-msvk6 |\u001b[0m SM_FRAMEWORK_MODULE=sagemaker_xgboost_container.training:main\n",
      "\u001b[36mf9x2j3j42d-algo-1-msvk6 |\u001b[0m SM_INPUT_DIR=/opt/ml/input\n",
      "\u001b[36mf9x2j3j42d-algo-1-msvk6 |\u001b[0m SM_INPUT_CONFIG_DIR=/opt/ml/input/config\n",
      "\u001b[36mf9x2j3j42d-algo-1-msvk6 |\u001b[0m SM_OUTPUT_DIR=/opt/ml/output\n",
      "\u001b[36mf9x2j3j42d-algo-1-msvk6 |\u001b[0m SM_NUM_CPUS=8\n",
      "\u001b[36mf9x2j3j42d-algo-1-msvk6 |\u001b[0m SM_NUM_GPUS=0\n",
      "\u001b[36mf9x2j3j42d-algo-1-msvk6 |\u001b[0m SM_MODEL_DIR=/opt/ml/model\n",
      "\u001b[36mf9x2j3j42d-algo-1-msvk6 |\u001b[0m SM_MODULE_DIR=/opt/ml/code\n",
      "\u001b[36mf9x2j3j42d-algo-1-msvk6 |\u001b[0m SM_TRAINING_ENV={\"additional_framework_parameters\":{},\"channel_input_dirs\":{\"TE\":\"/opt/ml/input/data/TE\",\"TR\":\"/opt/ml/input/data/TR\"},\"current_host\":\"algo-1-msvk6\",\"framework_module\":\"sagemaker_xgboost_container.training:main\",\"hosts\":[\"algo-1-msvk6\"],\"hyperparameters\":{\"eta\":\"0.3\",\"max_depth\":\"10\",\"num_round\":\"100\",\"objective\":\"reg:squarederror\"},\"input_config_dir\":\"/opt/ml/input/config\",\"input_data_config\":{\"TE\":{\"TrainingInputMode\":\"File\"},\"TR\":{\"TrainingInputMode\":\"File\"}},\"input_dir\":\"/opt/ml/input\",\"is_master\":true,\"job_name\":\"DJ-SM-PIPELINE-experiments-0509-05531683611610\",\"log_level\":20,\"master_hostname\":\"algo-1-msvk6\",\"model_dir\":\"/opt/ml/model\",\"module_dir\":\"/opt/ml/code\",\"module_name\":\"xgboost_regression\",\"network_interface_name\":\"eth0\",\"num_cpus\":8,\"num_gpus\":0,\"output_data_dir\":\"/opt/ml/output/data\",\"output_dir\":\"/opt/ml/output\",\"output_intermediate_dir\":\"/opt/ml/output/intermediate\",\"resource_config\":{\"current_host\":\"algo-1-msvk6\",\"hosts\":[\"algo-1-msvk6\"]},\"user_entry_point\":\"xgboost_regression.py\"}\n",
      "\u001b[36mf9x2j3j42d-algo-1-msvk6 |\u001b[0m SM_USER_ARGS=[\"--eta\",\"0.3\",\"--max_depth\",\"10\",\"--num_round\",\"100\",\"--objective\",\"reg:squarederror\"]\n",
      "\u001b[36mf9x2j3j42d-algo-1-msvk6 |\u001b[0m SM_OUTPUT_INTERMEDIATE_DIR=/opt/ml/output/intermediate\n",
      "\u001b[36mf9x2j3j42d-algo-1-msvk6 |\u001b[0m SM_CHANNEL_TR=/opt/ml/input/data/TR\n",
      "\u001b[36mf9x2j3j42d-algo-1-msvk6 |\u001b[0m SM_CHANNEL_TE=/opt/ml/input/data/TE\n",
      "\u001b[36mf9x2j3j42d-algo-1-msvk6 |\u001b[0m SM_HP_MAX_DEPTH=10\n",
      "\u001b[36mf9x2j3j42d-algo-1-msvk6 |\u001b[0m SM_HP_ETA=0.3\n",
      "\u001b[36mf9x2j3j42d-algo-1-msvk6 |\u001b[0m SM_HP_OBJECTIVE=reg:squarederror\n",
      "\u001b[36mf9x2j3j42d-algo-1-msvk6 |\u001b[0m SM_HP_NUM_ROUND=100\n",
      "\u001b[36mf9x2j3j42d-algo-1-msvk6 |\u001b[0m PYTHONPATH=/miniconda3/bin:/:/miniconda3/lib/python/site-packages/xgboost/dmlc-core/tracker:/miniconda3/lib/python37.zip:/miniconda3/lib/python3.7:/miniconda3/lib/python3.7/lib-dynload:/miniconda3/lib/python3.7/site-packages\n",
      "\u001b[36mf9x2j3j42d-algo-1-msvk6 |\u001b[0m \n",
      "\u001b[36mf9x2j3j42d-algo-1-msvk6 |\u001b[0m Invoking script with the following command:\n",
      "\u001b[36mf9x2j3j42d-algo-1-msvk6 |\u001b[0m \n",
      "\u001b[36mf9x2j3j42d-algo-1-msvk6 |\u001b[0m /miniconda3/bin/python3 -m xgboost_regression --eta 0.3 --max_depth 10 --num_round 100 --objective reg:squarederror\n",
      "\u001b[36mf9x2j3j42d-algo-1-msvk6 |\u001b[0m \n",
      "\u001b[36mf9x2j3j42d-algo-1-msvk6 |\u001b[0m \n",
      "\u001b[36mf9x2j3j42d-algo-1-msvk6 |\u001b[0m Received arguments Namespace(early_stopping_rounds=10, eta=0.3, max_depth=10, model_dir='/opt/ml/model', nfold=5, num_round=100, objective='reg:squarederror', output_data_dir='/opt/ml/output/data', train_data_path='/opt/ml/input/data/TR')\n",
      "\u001b[36mf9x2j3j42d-algo-1-msvk6 |\u001b[0m {'max_depth': 10, 'eta': 0.3, 'objective': 'reg:squarederror'}\n",
      "\u001b[36mf9x2j3j42d-algo-1-msvk6 |\u001b[0m /miniconda3/lib/python3.7/site-packages/sklearn/model_selection/_split.py:668: UserWarning: The least populated class in y has only 1 members, which is less than n_splits=5.\n",
      "\u001b[36mf9x2j3j42d-algo-1-msvk6 |\u001b[0m   % (min_groups, self.n_splits)), UserWarning)\n",
      "\u001b[36mf9x2j3j42d-algo-1-msvk6 |\u001b[0m cv_results:      train-rmse-mean  train-rmse-std  test-rmse-mean  test-rmse-std\n",
      "\u001b[36mf9x2j3j42d-algo-1-msvk6 |\u001b[0m 0          7.169248        0.006295        7.182551       0.037983\n",
      "\u001b[36mf9x2j3j42d-algo-1-msvk6 |\u001b[0m 1          5.247820        0.006760        5.295421       0.069098\n",
      "\u001b[36mf9x2j3j42d-algo-1-msvk6 |\u001b[0m 2          3.934453        0.007571        4.066936       0.079639\n",
      "\u001b[36mf9x2j3j42d-algo-1-msvk6 |\u001b[0m 3          3.028820        0.009802        3.291411       0.097581\n",
      "\u001b[36mf9x2j3j42d-algo-1-msvk6 |\u001b[0m 4          2.406897        0.012029        2.819610       0.081363\n",
      "\u001b[36mf9x2j3j42d-algo-1-msvk6 |\u001b[0m 5          1.964017        0.015812        2.546737       0.079538\n",
      "\u001b[36mf9x2j3j42d-algo-1-msvk6 |\u001b[0m 6          1.667278        0.018702        2.399156       0.073603\n",
      "\u001b[36mf9x2j3j42d-algo-1-msvk6 |\u001b[0m 7          1.464685        0.018587        2.322895       0.062358\n",
      "\u001b[36mf9x2j3j42d-algo-1-msvk6 |\u001b[0m 8          1.316639        0.018510        2.283544       0.061268\n",
      "\u001b[36mf9x2j3j42d-algo-1-msvk6 |\u001b[0m 9          1.207059        0.015879        2.264431       0.056049\n",
      "\u001b[36mf9x2j3j42d-algo-1-msvk6 |\u001b[0m 10         1.118420        0.012044        2.252203       0.059891\n",
      "\u001b[36mf9x2j3j42d-algo-1-msvk6 |\u001b[0m 11         1.069073        0.012021        2.247285       0.061666\n",
      "\u001b[36mf9x2j3j42d-algo-1-msvk6 |\u001b[0m 12         1.017347        0.011090        2.246480       0.055280\n",
      "\u001b[36mf9x2j3j42d-algo-1-msvk6 |\u001b[0m [0]#011train-auc:1.0173466\n",
      "\u001b[36mf9x2j3j42d-algo-1-msvk6 |\u001b[0m [1]#011validation-auc:2.2464796\n",
      "\u001b[36mf9x2j3j42d-algo-1-msvk6 |\u001b[0m model\n",
      "\u001b[36mf9x2j3j42d-algo-1-msvk6 |\u001b[0m <xgboost.core.Booster object at 0x7f2596782b90>\n"
     ]
    },
    {
     "name": "stderr",
     "output_type": "stream",
     "text": [
      "INFO:root:creating /tmp/tmpnibhpue7/artifacts/output/data\n",
      "INFO:root:copying /tmp/tmpnibhpue7/algo-1-msvk6/output/data/metrics.json -> /tmp/tmpnibhpue7/artifacts/output/data\n",
      "INFO:root:copying /tmp/tmpnibhpue7/model/xgboost-model -> /tmp/tmpnibhpue7/artifacts/model\n"
     ]
    },
    {
     "name": "stdout",
     "output_type": "stream",
     "text": [
      "\u001b[36mf9x2j3j42d-algo-1-msvk6 exited with code 0\n",
      "\u001b[0mAborting on container exit...\n"
     ]
    },
    {
     "name": "stderr",
     "output_type": "stream",
     "text": [
      "WARNING:sagemaker.local.image:Failed to delete: /tmp/tmpnibhpue7/algo-1-msvk6 Please remove it manually.\n"
     ]
    },
    {
     "name": "stdout",
     "output_type": "stream",
     "text": [
      "===== Job Complete =====\n"
     ]
    }
   ],
   "source": [
    "if strInstanceType =='local_gpu': estimator.checkpoint_s3_uri = None\n",
    "\n",
    "create_experiment(strExperimentName)\n",
    "job_name = create_trial(strExperimentName)\n",
    "\n",
    "estimator.fit(\n",
    "    inputs=dicDataChannels, \n",
    "    job_name=job_name,\n",
    "    experiment_config={\n",
    "      'TrialName': job_name,\n",
    "      'TrialComponentDisplayName': job_name,\n",
    "    },\n",
    "    wait=True,\n",
    ")"
   ]
  },
  {
   "cell_type": "markdown",
   "id": "7014170a-2ee4-442b-a2f9-87b83d3c2b92",
   "metadata": {},
   "source": [
    "* save model-path, experiment-name"
   ]
  },
  {
   "cell_type": "code",
   "execution_count": 18,
   "id": "16973040-93df-4afe-a9f9-ff95c811c94f",
   "metadata": {
    "tags": []
   },
   "outputs": [
    {
     "data": {
      "text/plain": [
       "'Store suceess'"
      ]
     },
     "execution_count": 18,
     "metadata": {},
     "output_type": "execute_result"
    }
   ],
   "source": [
    "pm.put_params(key=\"-\".join([strPrefix, \"MODEL-PATH\"]), value=estimator.model_data, overwrite=True)\n",
    "pm.put_params(key=\"-\".join([strPrefix, \"EXPERI-NAME\"]), value=strExperimentName, overwrite=True)"
   ]
  },
  {
   "cell_type": "markdown",
   "id": "8e4a9ce6-4677-4e70-a8b4-8765170d5a64",
   "metadata": {},
   "source": [
    "* show experiments"
   ]
  },
  {
   "cell_type": "code",
   "execution_count": 19,
   "id": "9b60a902-36d1-41e9-b0ba-f79fec992046",
   "metadata": {
    "tags": []
   },
   "outputs": [],
   "source": [
    "from sagemaker.analytics import ExperimentAnalytics\n",
    "import pandas as pd\n",
    "#pd.options.display.max_columns = 50\n",
    "#pd.options.display.max_rows = 10\n",
    "#pd.options.display.max_colwidth = 100"
   ]
  },
  {
   "cell_type": "code",
   "execution_count": 20,
   "id": "829f874e-c961-4ae6-a3e8-47b51159842d",
   "metadata": {
    "tags": []
   },
   "outputs": [
    {
     "data": {
      "text/html": [
       "<div>\n",
       "<style scoped>\n",
       "    .dataframe tbody tr th:only-of-type {\n",
       "        vertical-align: middle;\n",
       "    }\n",
       "\n",
       "    .dataframe tbody tr th {\n",
       "        vertical-align: top;\n",
       "    }\n",
       "\n",
       "    .dataframe thead th {\n",
       "        text-align: right;\n",
       "    }\n",
       "</style>\n",
       "<table border=\"1\" class=\"dataframe\">\n",
       "  <thead>\n",
       "    <tr style=\"text-align: right;\">\n",
       "      <th></th>\n",
       "      <th>Experiments</th>\n",
       "      <th>Trials</th>\n",
       "      <th>validation:auc - Min</th>\n",
       "      <th>validation:auc - Max</th>\n",
       "      <th>validation:auc - Avg</th>\n",
       "      <th>validation:auc - StdDev</th>\n",
       "      <th>validation:auc - Last</th>\n",
       "      <th>eta</th>\n",
       "      <th>max_depth</th>\n",
       "      <th>num_round</th>\n",
       "      <th>scale_pos_weight</th>\n",
       "    </tr>\n",
       "  </thead>\n",
       "  <tbody>\n",
       "    <tr>\n",
       "      <th>0</th>\n",
       "      <td>[DJ-SM-IMD-experiments]</td>\n",
       "      <td>[DJ-SM-IMD-experiments-0424-04371682311053]</td>\n",
       "      <td>1.000000</td>\n",
       "      <td>1.000000</td>\n",
       "      <td>1.000000</td>\n",
       "      <td>0.0</td>\n",
       "      <td>1.000000</td>\n",
       "      <td>\"0.3\"</td>\n",
       "      <td>\"2\"</td>\n",
       "      <td>\"100\"</td>\n",
       "      <td>\"19\"</td>\n",
       "    </tr>\n",
       "    <tr>\n",
       "      <th>1</th>\n",
       "      <td>[DJ-SM-IMD-experiments]</td>\n",
       "      <td>[DJ-SM-IMD-experiments-0424-04281682310513]</td>\n",
       "      <td>1.000000</td>\n",
       "      <td>1.000000</td>\n",
       "      <td>1.000000</td>\n",
       "      <td>0.0</td>\n",
       "      <td>1.000000</td>\n",
       "      <td>\"0.3\"</td>\n",
       "      <td>\"2\"</td>\n",
       "      <td>\"100\"</td>\n",
       "      <td>\"19\"</td>\n",
       "    </tr>\n",
       "    <tr>\n",
       "      <th>2</th>\n",
       "      <td>[DJ-SM-IMD-experiments]</td>\n",
       "      <td>[DJ-SM-IMD-experiments-0412-10121681294361]</td>\n",
       "      <td>0.821124</td>\n",
       "      <td>0.821124</td>\n",
       "      <td>0.821124</td>\n",
       "      <td>0.0</td>\n",
       "      <td>0.821124</td>\n",
       "      <td>\"0.3\"</td>\n",
       "      <td>\"2\"</td>\n",
       "      <td>\"100\"</td>\n",
       "      <td>\"19\"</td>\n",
       "    </tr>\n",
       "    <tr>\n",
       "      <th>3</th>\n",
       "      <td>[DJ-SM-IMD-experiments]</td>\n",
       "      <td>[DJ-SM-IMD-experiments-0416-06421681627343]</td>\n",
       "      <td>0.821124</td>\n",
       "      <td>0.821124</td>\n",
       "      <td>0.821124</td>\n",
       "      <td>0.0</td>\n",
       "      <td>0.821124</td>\n",
       "      <td>\"0.3\"</td>\n",
       "      <td>\"2\"</td>\n",
       "      <td>\"100\"</td>\n",
       "      <td>\"19\"</td>\n",
       "    </tr>\n",
       "    <tr>\n",
       "      <th>4</th>\n",
       "      <td>[DJ-SM-IMD-experiments]</td>\n",
       "      <td>[DJ-SM-IMD-experiments-0419-04191681877971]</td>\n",
       "      <td>0.821124</td>\n",
       "      <td>0.821124</td>\n",
       "      <td>0.821124</td>\n",
       "      <td>0.0</td>\n",
       "      <td>0.821124</td>\n",
       "      <td>\"0.3\"</td>\n",
       "      <td>\"2\"</td>\n",
       "      <td>\"100\"</td>\n",
       "      <td>\"19\"</td>\n",
       "    </tr>\n",
       "  </tbody>\n",
       "</table>\n",
       "</div>"
      ],
      "text/plain": [
       "               Experiments                                       Trials  \\\n",
       "0  [DJ-SM-IMD-experiments]  [DJ-SM-IMD-experiments-0424-04371682311053]   \n",
       "1  [DJ-SM-IMD-experiments]  [DJ-SM-IMD-experiments-0424-04281682310513]   \n",
       "2  [DJ-SM-IMD-experiments]  [DJ-SM-IMD-experiments-0412-10121681294361]   \n",
       "3  [DJ-SM-IMD-experiments]  [DJ-SM-IMD-experiments-0416-06421681627343]   \n",
       "4  [DJ-SM-IMD-experiments]  [DJ-SM-IMD-experiments-0419-04191681877971]   \n",
       "\n",
       "   validation:auc - Min  validation:auc - Max  validation:auc - Avg  \\\n",
       "0              1.000000              1.000000              1.000000   \n",
       "1              1.000000              1.000000              1.000000   \n",
       "2              0.821124              0.821124              0.821124   \n",
       "3              0.821124              0.821124              0.821124   \n",
       "4              0.821124              0.821124              0.821124   \n",
       "\n",
       "   validation:auc - StdDev  validation:auc - Last    eta max_depth num_round  \\\n",
       "0                      0.0               1.000000  \"0.3\"       \"2\"     \"100\"   \n",
       "1                      0.0               1.000000  \"0.3\"       \"2\"     \"100\"   \n",
       "2                      0.0               0.821124  \"0.3\"       \"2\"     \"100\"   \n",
       "3                      0.0               0.821124  \"0.3\"       \"2\"     \"100\"   \n",
       "4                      0.0               0.821124  \"0.3\"       \"2\"     \"100\"   \n",
       "\n",
       "  scale_pos_weight  \n",
       "0             \"19\"  \n",
       "1             \"19\"  \n",
       "2             \"19\"  \n",
       "3             \"19\"  \n",
       "4             \"19\"  "
      ]
     },
     "execution_count": 20,
     "metadata": {},
     "output_type": "execute_result"
    }
   ],
   "source": [
    "trial_component_training_analytics = ExperimentAnalytics(\n",
    "    sagemaker_session= sagemaker_session,\n",
    "    experiment_name= strExperimentName,\n",
    "    sort_by=\"metrics.validation:auc.max\",        \n",
    "    sort_order=\"Descending\",\n",
    "    metric_names=[\"validation:auc\"]\n",
    ")\n",
    "\n",
    "trial_component_training_analytics.dataframe()[['Experiments', 'Trials', 'validation:auc - Min', 'validation:auc - Max',\n",
    "                                                'validation:auc - Avg', 'validation:auc - StdDev', 'validation:auc - Last', \n",
    "                                                'eta', 'max_depth', 'num_round', 'scale_pos_weight']]"
   ]
  },
  {
   "cell_type": "code",
   "execution_count": null,
   "id": "dc5d69ed-0e54-4df4-9220-c9c2dcb26141",
   "metadata": {},
   "outputs": [],
   "source": []
  }
 ],
 "metadata": {
  "instance_type": "ml.t3.medium",
  "kernelspec": {
   "display_name": "conda_python3",
   "language": "python",
   "name": "conda_python3"
  },
  "language_info": {
   "codemirror_mode": {
    "name": "ipython",
    "version": 3
   },
   "file_extension": ".py",
   "mimetype": "text/x-python",
   "name": "python",
   "nbconvert_exporter": "python",
   "pygments_lexer": "ipython3",
   "version": "3.10.8"
  }
 },
 "nbformat": 4,
 "nbformat_minor": 5
}
