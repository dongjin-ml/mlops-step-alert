{
 "cells": [
  {
   "cell_type": "markdown",
   "id": "96536fdc-19c0-4caf-85db-cad312ebf8e8",
   "metadata": {},
   "source": [
    "# <B> Monitor - SageMaker pipeline </B>\n",
    "* Container: conda_python3"
   ]
  },
  {
   "cell_type": "markdown",
   "id": "179d59b1-ba8b-4985-80a5-a84856ff120a",
   "metadata": {},
   "source": [
    "## AutoReload"
   ]
  },
  {
   "cell_type": "code",
   "execution_count": 1,
   "id": "587e5c24-67c3-413e-9043-4e7527c6ce43",
   "metadata": {
    "tags": []
   },
   "outputs": [],
   "source": [
    "%load_ext autoreload\n",
    "%autoreload 2"
   ]
  },
  {
   "cell_type": "markdown",
   "id": "d3916c0e-3c4f-411b-a314-0f5c3cd102a9",
   "metadata": {},
   "source": [
    "## 0. Install packages"
   ]
  },
  {
   "cell_type": "code",
   "execution_count": 3,
   "id": "e1186d35-0f5c-4015-8c4c-36ff9b86221e",
   "metadata": {
    "tags": []
   },
   "outputs": [],
   "source": [
    "install_needed = True  # should only be True once\n",
    "# install_needed = False"
   ]
  },
  {
   "cell_type": "code",
   "execution_count": 4,
   "id": "2437e943-566f-42f3-8f17-398c76b75424",
   "metadata": {
    "tags": []
   },
   "outputs": [
    {
     "name": "stdout",
     "output_type": "stream",
     "text": [
      "Already revised\n"
     ]
    }
   ],
   "source": [
    "%%bash\n",
    "#!/bin/bash\n",
    "\n",
    "DAEMON_PATH=\"/etc/docker\"\n",
    "MEMORY_SIZE=10G\n",
    "\n",
    "FLAG=$(cat $DAEMON_PATH/daemon.json | jq 'has(\"data-root\")')\n",
    "# echo $FLAG\n",
    "\n",
    "if [ \"$FLAG\" == true ]; then\n",
    "    echo \"Already revised\"\n",
    "else\n",
    "    echo \"Add data-root and default-shm-size=$MEMORY_SIZE\"\n",
    "    sudo cp $DAEMON_PATH/daemon.json $DAEMON_PATH/daemon.json.bak\n",
    "    sudo cat $DAEMON_PATH/daemon.json.bak | jq '. += {\"data-root\":\"/home/ec2-user/SageMaker/.container/docker\",\"default-shm-size\":\"'$MEMORY_SIZE'\"}' | sudo tee $DAEMON_PATH/daemon.json > /dev/null\n",
    "    sudo service docker restart\n",
    "    echo \"Docker Restart\"\n",
    "fi"
   ]
  },
  {
   "cell_type": "code",
   "execution_count": 5,
   "id": "3c758ff6-e9e8-45c8-8385-51a7fcddb0fc",
   "metadata": {
    "tags": []
   },
   "outputs": [
    {
     "name": "stdout",
     "output_type": "stream",
     "text": [
      "installing deps and restarting kernel\n",
      "Looking in indexes: https://pypi.org/simple, https://pip.repos.neuron.amazonaws.com\n",
      "Requirement already satisfied: pip in /home/ec2-user/anaconda3/envs/python3/lib/python3.10/site-packages (23.1.2)\n",
      "Looking in indexes: https://pypi.org/simple, https://pip.repos.neuron.amazonaws.com\n",
      "Requirement already satisfied: smdebug in /home/ec2-user/anaconda3/envs/python3/lib/python3.10/site-packages (1.0.12)\n",
      "Requirement already satisfied: sagemaker-experiments in /home/ec2-user/anaconda3/envs/python3/lib/python3.10/site-packages (0.1.43)\n",
      "Requirement already satisfied: protobuf>=3.6.0 in /home/ec2-user/anaconda3/envs/python3/lib/python3.10/site-packages (from smdebug) (3.20.3)\n",
      "Requirement already satisfied: numpy>=1.16.0 in /home/ec2-user/anaconda3/envs/python3/lib/python3.10/site-packages (from smdebug) (1.22.3)\n",
      "Requirement already satisfied: packaging in /home/ec2-user/anaconda3/envs/python3/lib/python3.10/site-packages (from smdebug) (21.3)\n",
      "Requirement already satisfied: boto3>=1.10.32 in /home/ec2-user/anaconda3/envs/python3/lib/python3.10/site-packages (from smdebug) (1.26.114)\n",
      "Requirement already satisfied: pyinstrument==3.4.2 in /home/ec2-user/anaconda3/envs/python3/lib/python3.10/site-packages (from smdebug) (3.4.2)\n",
      "Requirement already satisfied: pyinstrument-cext>=0.2.2 in /home/ec2-user/anaconda3/envs/python3/lib/python3.10/site-packages (from pyinstrument==3.4.2->smdebug) (0.2.4)\n",
      "Requirement already satisfied: botocore<1.30.0,>=1.29.114 in /home/ec2-user/anaconda3/envs/python3/lib/python3.10/site-packages (from boto3>=1.10.32->smdebug) (1.29.114)\n",
      "Requirement already satisfied: jmespath<2.0.0,>=0.7.1 in /home/ec2-user/anaconda3/envs/python3/lib/python3.10/site-packages (from boto3>=1.10.32->smdebug) (1.0.1)\n",
      "Requirement already satisfied: s3transfer<0.7.0,>=0.6.0 in /home/ec2-user/anaconda3/envs/python3/lib/python3.10/site-packages (from boto3>=1.10.32->smdebug) (0.6.0)\n",
      "Requirement already satisfied: pyparsing!=3.0.5,>=2.0.2 in /home/ec2-user/anaconda3/envs/python3/lib/python3.10/site-packages (from packaging->smdebug) (3.0.9)\n",
      "Requirement already satisfied: python-dateutil<3.0.0,>=2.1 in /home/ec2-user/anaconda3/envs/python3/lib/python3.10/site-packages (from botocore<1.30.0,>=1.29.114->boto3>=1.10.32->smdebug) (2.8.2)\n",
      "Requirement already satisfied: urllib3<1.27,>=1.25.4 in /home/ec2-user/anaconda3/envs/python3/lib/python3.10/site-packages (from botocore<1.30.0,>=1.29.114->boto3>=1.10.32->smdebug) (1.26.8)\n",
      "Requirement already satisfied: six>=1.5 in /home/ec2-user/anaconda3/envs/python3/lib/python3.10/site-packages (from python-dateutil<3.0.0,>=2.1->botocore<1.30.0,>=1.29.114->boto3>=1.10.32->smdebug) (1.16.0)\n",
      "Looking in indexes: https://pypi.org/simple, https://pip.repos.neuron.amazonaws.com\n",
      "Requirement already satisfied: sagemaker in /home/ec2-user/anaconda3/envs/python3/lib/python3.10/site-packages (2.154.0)\n",
      "Requirement already satisfied: attrs<23,>=20.3.0 in /home/ec2-user/anaconda3/envs/python3/lib/python3.10/site-packages (from sagemaker) (22.2.0)\n",
      "Requirement already satisfied: boto3<2.0,>=1.26.28 in /home/ec2-user/anaconda3/envs/python3/lib/python3.10/site-packages (from sagemaker) (1.26.114)\n",
      "Requirement already satisfied: cloudpickle==2.2.1 in /home/ec2-user/anaconda3/envs/python3/lib/python3.10/site-packages (from sagemaker) (2.2.1)\n",
      "Requirement already satisfied: google-pasta in /home/ec2-user/anaconda3/envs/python3/lib/python3.10/site-packages (from sagemaker) (0.2.0)\n",
      "Requirement already satisfied: numpy<2.0,>=1.9.0 in /home/ec2-user/anaconda3/envs/python3/lib/python3.10/site-packages (from sagemaker) (1.22.3)\n",
      "Requirement already satisfied: protobuf<4.0,>=3.1 in /home/ec2-user/anaconda3/envs/python3/lib/python3.10/site-packages (from sagemaker) (3.20.3)\n",
      "Requirement already satisfied: protobuf3-to-dict<1.0,>=0.1.5 in /home/ec2-user/anaconda3/envs/python3/lib/python3.10/site-packages (from sagemaker) (0.1.5)\n",
      "Requirement already satisfied: smdebug-rulesconfig==1.0.1 in /home/ec2-user/anaconda3/envs/python3/lib/python3.10/site-packages (from sagemaker) (1.0.1)\n",
      "Requirement already satisfied: importlib-metadata<5.0,>=1.4.0 in /home/ec2-user/anaconda3/envs/python3/lib/python3.10/site-packages (from sagemaker) (4.13.0)\n",
      "Requirement already satisfied: packaging>=20.0 in /home/ec2-user/anaconda3/envs/python3/lib/python3.10/site-packages (from sagemaker) (21.3)\n",
      "Requirement already satisfied: pandas in /home/ec2-user/anaconda3/envs/python3/lib/python3.10/site-packages (from sagemaker) (1.5.2)\n",
      "Requirement already satisfied: pathos in /home/ec2-user/anaconda3/envs/python3/lib/python3.10/site-packages (from sagemaker) (0.3.0)\n",
      "Requirement already satisfied: schema in /home/ec2-user/anaconda3/envs/python3/lib/python3.10/site-packages (from sagemaker) (0.7.5)\n",
      "Requirement already satisfied: PyYAML==5.4.1 in /home/ec2-user/anaconda3/envs/python3/lib/python3.10/site-packages (from sagemaker) (5.4.1)\n",
      "Requirement already satisfied: jsonschema in /home/ec2-user/anaconda3/envs/python3/lib/python3.10/site-packages (from sagemaker) (3.2.0)\n",
      "Requirement already satisfied: platformdirs in /home/ec2-user/anaconda3/envs/python3/lib/python3.10/site-packages (from sagemaker) (2.6.2)\n",
      "Requirement already satisfied: tblib==1.7.0 in /home/ec2-user/anaconda3/envs/python3/lib/python3.10/site-packages (from sagemaker) (1.7.0)\n",
      "Requirement already satisfied: botocore<1.30.0,>=1.29.114 in /home/ec2-user/anaconda3/envs/python3/lib/python3.10/site-packages (from boto3<2.0,>=1.26.28->sagemaker) (1.29.114)\n",
      "Requirement already satisfied: jmespath<2.0.0,>=0.7.1 in /home/ec2-user/anaconda3/envs/python3/lib/python3.10/site-packages (from boto3<2.0,>=1.26.28->sagemaker) (1.0.1)\n",
      "Requirement already satisfied: s3transfer<0.7.0,>=0.6.0 in /home/ec2-user/anaconda3/envs/python3/lib/python3.10/site-packages (from boto3<2.0,>=1.26.28->sagemaker) (0.6.0)\n",
      "Requirement already satisfied: zipp>=0.5 in /home/ec2-user/anaconda3/envs/python3/lib/python3.10/site-packages (from importlib-metadata<5.0,>=1.4.0->sagemaker) (3.11.0)\n",
      "Requirement already satisfied: pyparsing!=3.0.5,>=2.0.2 in /home/ec2-user/anaconda3/envs/python3/lib/python3.10/site-packages (from packaging>=20.0->sagemaker) (3.0.9)\n",
      "Requirement already satisfied: six in /home/ec2-user/anaconda3/envs/python3/lib/python3.10/site-packages (from protobuf3-to-dict<1.0,>=0.1.5->sagemaker) (1.16.0)\n",
      "Requirement already satisfied: pyrsistent>=0.14.0 in /home/ec2-user/anaconda3/envs/python3/lib/python3.10/site-packages (from jsonschema->sagemaker) (0.19.3)\n",
      "Requirement already satisfied: setuptools in /home/ec2-user/anaconda3/envs/python3/lib/python3.10/site-packages (from jsonschema->sagemaker) (65.6.3)\n",
      "Requirement already satisfied: python-dateutil>=2.8.1 in /home/ec2-user/anaconda3/envs/python3/lib/python3.10/site-packages (from pandas->sagemaker) (2.8.2)\n",
      "Requirement already satisfied: pytz>=2020.1 in /home/ec2-user/anaconda3/envs/python3/lib/python3.10/site-packages (from pandas->sagemaker) (2022.7)\n",
      "Requirement already satisfied: ppft>=1.7.6.6 in /home/ec2-user/anaconda3/envs/python3/lib/python3.10/site-packages (from pathos->sagemaker) (1.7.6.6)\n",
      "Requirement already satisfied: dill>=0.3.6 in /home/ec2-user/anaconda3/envs/python3/lib/python3.10/site-packages (from pathos->sagemaker) (0.3.6)\n",
      "Requirement already satisfied: pox>=0.3.2 in /home/ec2-user/anaconda3/envs/python3/lib/python3.10/site-packages (from pathos->sagemaker) (0.3.2)\n",
      "Requirement already satisfied: multiprocess>=0.70.14 in /home/ec2-user/anaconda3/envs/python3/lib/python3.10/site-packages (from pathos->sagemaker) (0.70.14)\n",
      "Requirement already satisfied: contextlib2>=0.5.5 in /home/ec2-user/anaconda3/envs/python3/lib/python3.10/site-packages (from schema->sagemaker) (21.6.0)\n",
      "Requirement already satisfied: urllib3<1.27,>=1.25.4 in /home/ec2-user/anaconda3/envs/python3/lib/python3.10/site-packages (from botocore<1.30.0,>=1.29.114->boto3<2.0,>=1.26.28->sagemaker) (1.26.8)\n",
      "\u001b[33mWARNING: Skipping pycodestyle as it is not installed.\u001b[0m\u001b[33m\n",
      "\u001b[0m"
     ]
    }
   ],
   "source": [
    "import sys\n",
    "import IPython\n",
    "\n",
    "if install_needed:\n",
    "    print(\"installing deps and restarting kernel\")\n",
    "    !{sys.executable} -m pip install -U pip\n",
    "    !{sys.executable} -m pip install -U smdebug sagemaker-experiments\n",
    "    !{sys.executable} -m pip install -U sagemaker\n",
    "    !{sys.executable} -m pip uninstall pycodestyle -y\n",
    "\n",
    "    IPython.Application.instance().kernel.do_shutdown(True)"
   ]
  },
  {
   "cell_type": "markdown",
   "id": "f6fa302d-d31f-4b40-b620-c8d5aec820c3",
   "metadata": {},
   "source": [
    "## 1. parameter store 설정"
   ]
  },
  {
   "cell_type": "code",
   "execution_count": 2,
   "id": "7bbe4b78-60fc-4c02-bbe5-8683627d7526",
   "metadata": {
    "tags": []
   },
   "outputs": [],
   "source": [
    "import boto3\n",
    "from utils.ssm import parameter_store"
   ]
  },
  {
   "cell_type": "code",
   "execution_count": 3,
   "id": "483c0664-7572-414d-908e-a062f56f090c",
   "metadata": {
    "tags": []
   },
   "outputs": [],
   "source": [
    "strRegionName=boto3.Session().region_name\n",
    "pm = parameter_store(strRegionName)\n",
    "strPrefix = pm.get_params(key=\"PREFIX\")"
   ]
  },
  {
   "cell_type": "code",
   "execution_count": 4,
   "id": "5a5ab97e-a447-4d0b-a441-4f0023b43550",
   "metadata": {
    "tags": []
   },
   "outputs": [],
   "source": [
    "strBucketName = pm.get_params(key=\"-\".join([strPrefix, \"BUCKET\"]))\n",
    "strExecutionRole = pm.get_params(key=\"-\".join([strPrefix, \"SAGEMAKER-ROLE-ARN\"]))"
   ]
  },
  {
   "cell_type": "code",
   "execution_count": 5,
   "id": "c2c0ff90-2b49-4c7f-982a-6cfb017fb7c4",
   "metadata": {
    "tags": []
   },
   "outputs": [
    {
     "name": "stdout",
     "output_type": "stream",
     "text": [
      "strExecutionRole: arn:aws:iam::419974056037:role/service-role/AmazonSageMaker-ExecutionRole-20240211T155431\n"
     ]
    }
   ],
   "source": [
    "print (f'strExecutionRole: {strExecutionRole}')"
   ]
  },
  {
   "cell_type": "markdown",
   "id": "06ca684e-5649-42a4-820d-24b09296967b",
   "metadata": {},
   "source": [
    "## 2. EventBridge - Lambda - SNS 설정"
   ]
  },
  {
   "cell_type": "code",
   "execution_count": 17,
   "id": "1ef01535-f5ed-4f8a-bc66-065ecd4a8414",
   "metadata": {
    "tags": []
   },
   "outputs": [],
   "source": [
    "import boto3"
   ]
  },
  {
   "cell_type": "markdown",
   "id": "4723bea7-fa90-4a66-8a4d-2dfa824a8111",
   "metadata": {},
   "source": [
    "### 2.1 SNS Topoc 생성"
   ]
  },
  {
   "cell_type": "markdown",
   "id": "ac81b730-5855-49f7-826a-f09779b7920f",
   "metadata": {},
   "source": [
    "1. 토픽생성 : Topic - Create Topic\n",
    "2. 구독생성 : Subscriptions - Create subscription \n",
    "    1. Topic ARN - 1.에서 생성한 Topic ARN 선택\n",
    "    2. Protocol - Email 선택\n",
    "    3. Endpoint - 알람을 받을 이메일 입력\n",
    "    4. Endpoint의 이메일을 받으면 Confirm subscription 선택"
   ]
  },
  {
   "cell_type": "code",
   "execution_count": 18,
   "id": "ecddb2ce-3cc2-49d1-af3a-c66642da05ca",
   "metadata": {
    "tags": []
   },
   "outputs": [],
   "source": [
    "strSNSTopicArn = \"arn:aws:sns:us-east-1:419974056037:Monitor-SageMaker-Pipeline\" # <Your ARN>"
   ]
  },
  {
   "cell_type": "markdown",
   "id": "7efc6819-dda5-4521-bd14-5043f4b92ffc",
   "metadata": {
    "tags": []
   },
   "source": [
    "### 2-1. Lambda function 생성"
   ]
  },
  {
   "cell_type": "code",
   "execution_count": 19,
   "id": "deed5d33-21c6-4354-909e-6170821cc7a6",
   "metadata": {
    "tags": []
   },
   "outputs": [],
   "source": [
    "import shutil\n",
    "import zipfile\n",
    "import tempfile\n",
    "from utils.lambda_func import lambda_handler"
   ]
  },
  {
   "cell_type": "code",
   "execution_count": 20,
   "id": "e13a6e67-1fd6-457b-9451-3dfb5d4867d3",
   "metadata": {
    "tags": []
   },
   "outputs": [],
   "source": [
    "lam_handler = lambda_handler(region_name=strRegionName)"
   ]
  },
  {
   "cell_type": "code",
   "execution_count": 21,
   "id": "546747a8-f7f3-4494-81bb-6b8775abdbd9",
   "metadata": {
    "tags": []
   },
   "outputs": [
    {
     "name": "stdout",
     "output_type": "stream",
     "text": [
      "Overwriting ./monitor/lambda/pipeline_monitor_lambda.py\n"
     ]
    }
   ],
   "source": [
    "%%writefile ./monitor/lambda/pipeline_monitor_lambda.py\n",
    "\n",
    "import os\n",
    "import boto3\n",
    "import json\n",
    "from pprint import pprint\n",
    "\n",
    "TOPIC_ARN = os.environ['TOPIC_ARN']\n",
    "\n",
    "def lambda_handler(event, context):\n",
    "    \n",
    "    # TODO implement\n",
    "    \n",
    "    pprint (event)\n",
    "    print (\"==\")\n",
    "    \n",
    "    strPipelineArn = event[\"detail\"][\"pipelineArn\"]\n",
    "    strStepName = event[\"detail\"][\"stepName\"]\n",
    "    strCurrentStepStatus = event[\"detail\"][\"currentStepStatus\"]\n",
    "    strFailReasion = event[\"detail\"][\"failureReason\"]\n",
    "    strEndTime = event[\"detail\"][\"stepEndTime\"]\n",
    "    strMetaData = str(event[\"detail\"][\"metadata\"])\n",
    "    \n",
    "    \n",
    "    print (f'strPipelineArn: {strPipelineArn}')\n",
    "    print (f'strStepName: {strStepName}')\n",
    "    print (f'strMetaData: {strMetaData}')\n",
    "    print (f'strCurrentStepStatus: {strCurrentStepStatus}')\n",
    "    print (f'strFailReasion: {strFailReasion}')\n",
    "    print (f'strEndTime: {strEndTime}')\n",
    "    \n",
    "    print (\"TOPIC_ARN\", TOPIC_ARN)\n",
    "    \n",
    "        # Send message to SNS\n",
    "    MY_SNS_TOPIC_ARN = TOPIC_ARN #'<Topic ARN, SNS - Topics에서 확인, arn:aws:sns:us-east-1:계정:TestTopic >'\n",
    "    msg = \"\\n\".join(\n",
    "        [\n",
    "            f'Pipeline ARN: {strPipelineArn}',\n",
    "            f'Step Name: {strStepName}',\n",
    "            f'Job Name: {strMetaData}',\n",
    "            f'Status: {strCurrentStepStatus}',\n",
    "            f'Fail Reason: {strFailReasion}',\n",
    "            f'End time: {strEndTime}'\n",
    "        ]\n",
    "    )\n",
    "    \n",
    "    sns_client = boto3.client('sns')\n",
    "    sns_client.publish(\n",
    "        TopicArn=MY_SNS_TOPIC_ARN,\n",
    "        Subject='[AWS Notification] Monitor for SageMaker pipleine',\n",
    "        Message=msg\n",
    "    )\n",
    "\n",
    "    return {\n",
    "        'statusCode': 200,\n",
    "        'body': json.dumps('Hello from Lambda!')\n",
    "    }"
   ]
  },
  {
   "cell_type": "code",
   "execution_count": 22,
   "id": "70aae646-ab8f-4bf3-a8e6-136b00bd896f",
   "metadata": {
    "tags": []
   },
   "outputs": [],
   "source": [
    "strLambdaRoleArn = pm.get_params(key=\"-\".join([strPrefix, \"LAMBDA-ROLE-ARN\"]))\n",
    "strLambdaFuncName = \"-\".join([strPrefix, \"LAMBDA\"])\n",
    "strLambdaSrcDir = \"./monitor/lambda\"\n",
    "strLambdaHandler = \"pipeline_monitor_lambda.lambda_handler\""
   ]
  },
  {
   "cell_type": "code",
   "execution_count": 23,
   "id": "9c29f623-1849-4d3e-975b-910a28157135",
   "metadata": {
    "tags": []
   },
   "outputs": [
    {
     "name": "stdout",
     "output_type": "stream",
     "text": [
      "strLambdaRoleArn: arn:aws:iam::419974056037:role/DJ-SM-IMD-LabmdaRole\n",
      "strRegionName: us-west-2\n"
     ]
    }
   ],
   "source": [
    "print (f'strLambdaRoleArn: {strLambdaRoleArn}')\n",
    "print (f'strRegionName: {strRegionName}')"
   ]
  },
  {
   "cell_type": "code",
   "execution_count": 24,
   "id": "bbe29e02-8d4c-45fb-a6e3-3d9dd5ece9fd",
   "metadata": {
    "tags": []
   },
   "outputs": [
    {
     "name": "stdout",
     "output_type": "stream",
     "text": [
      "== CREATE LAMBDA FUNCTION ==\n",
      "Argments for lambda below:\n",
      "\n",
      "{'Architectures': ['x86_64'],\n",
      " 'CodeSha256': 'Uub8ZPdrJATUEX9TV1yIk/+sDe1hX5W15p+P5Y3b/Lg=',\n",
      " 'CodeSize': 789,\n",
      " 'Description': 'SageMaker IMD: Lambda for Automating Amazon SageMaker with '\n",
      "                'Amazon EventBridge',\n",
      " 'Environment': {'Variables': {'REGION': 'us-west-2',\n",
      "                               'TOPIC_ARN': 'arn:aws:sns:us-east-1:419974056037:Monitor-SageMaker-Pipeline'}},\n",
      " 'EphemeralStorage': {'Size': 512},\n",
      " 'FunctionArn': 'arn:aws:lambda:us-west-2:419974056037:function:DJ-SM-IMD-LAMBDA',\n",
      " 'FunctionName': 'DJ-SM-IMD-LAMBDA',\n",
      " 'Handler': 'pipeline_monitor_lambda.lambda_handler',\n",
      " 'LastModified': '2025-01-10T09:03:33.310+0000',\n",
      " 'LoggingConfig': {'LogFormat': 'Text',\n",
      "                   'LogGroup': '/aws/lambda/DJ-SM-IMD-LAMBDA'},\n",
      " 'MemorySize': 128,\n",
      " 'PackageType': 'Zip',\n",
      " 'ResponseMetadata': {'HTTPHeaders': {'connection': 'keep-alive',\n",
      "                                      'content-length': '1538',\n",
      "                                      'content-type': 'application/json',\n",
      "                                      'date': 'Fri, 10 Jan 2025 09:03:33 GMT',\n",
      "                                      'x-amzn-requestid': '5c7367ca-6cdd-44f6-b281-45b25505f80b'},\n",
      "                      'HTTPStatusCode': 201,\n",
      "                      'RequestId': '5c7367ca-6cdd-44f6-b281-45b25505f80b',\n",
      "                      'RetryAttempts': 0},\n",
      " 'RevisionId': 'f5fc0a9f-b0ee-410e-aba7-b410db552fa3',\n",
      " 'Role': 'arn:aws:iam::419974056037:role/DJ-SM-IMD-LabmdaRole',\n",
      " 'Runtime': 'python3.9',\n",
      " 'RuntimeVersionConfig': {'RuntimeVersionArn': 'arn:aws:lambda:us-west-2::runtime:57e9dce4a928fd5b7bc1015238a5bc8a9146f096d69571fa4219ed8a2e76bfdf'},\n",
      " 'SnapStart': {'ApplyOn': 'None', 'OptimizationStatus': 'Off'},\n",
      " 'State': 'Pending',\n",
      " 'StateReason': 'The function is being created.',\n",
      " 'StateReasonCode': 'Creating',\n",
      " 'Timeout': 3,\n",
      " 'TracingConfig': {'Mode': 'PassThrough'},\n",
      " 'Version': '1'}\n",
      "\n",
      "  lambda function: [DJ-SM-IMD-LAMBDA] is created successfully\n",
      "== COMPLETED ==\n",
      "LambdaArn: arn:aws:lambda:us-west-2:419974056037:function:DJ-SM-IMD-LAMBDA\n",
      "strLambdaFuncName: DJ-SM-IMD-LAMBDA\n"
     ]
    },
    {
     "data": {
      "text/plain": [
       "'Store suceess'"
      ]
     },
     "execution_count": 24,
     "metadata": {},
     "output_type": "execute_result"
    }
   ],
   "source": [
    "with tempfile.TemporaryDirectory() as tempDirPath:\n",
    "    \n",
    "    lambda_archive_path = shutil.make_archive(\n",
    "        base_name=tempDirPath,\n",
    "        format=\"zip\",\n",
    "        root_dir=strLambdaSrcDir,\n",
    "    )\n",
    "    \n",
    "    with open(lambda_archive_path, 'rb') as f: zipped_code = f.read()\n",
    "    \n",
    "    strLambdaArn = lam_handler.create_function(\n",
    "        Code=dict(ZipFile=zipped_code),\n",
    "        Description='SageMaker IMD: Lambda for Automating Amazon SageMaker with Amazon EventBridge',\n",
    "        Environment={\n",
    "           \"Variables\": {\n",
    "               \"REGION\":strRegionName,\n",
    "               \"TOPIC_ARN\":strSNSTopicArn\n",
    "           },\n",
    "        },\n",
    "        FunctionName=strLambdaFuncName,\n",
    "        Handler=strLambdaHandler,\n",
    "        Publish=True,\n",
    "        Role=strLambdaRoleArn,\n",
    "        Runtime='python3.9',\n",
    "    )\n",
    "    \n",
    "print (f'LambdaArn: {strLambdaArn}')\n",
    "print (f'strLambdaFuncName: {strLambdaFuncName}')\n",
    "pm.put_params(key=\"-\".join([strPrefix, \"LAMBDA-PIPELINE-MONITOR\"]), value=strLambdaFuncName, overwrite=True)"
   ]
  },
  {
   "cell_type": "markdown",
   "id": "70c84b72-52c0-4207-a128-13638ffef064",
   "metadata": {},
   "source": [
    "### 2-1. Event Rule 생성\n",
    "* [Automating Amazon SageMaker with Amazon EventBridge](https://docs.aws.amazon.com/sagemaker/latest/dg/automating-sagemaker-with-eventbridge.html#eventbridge-pipeline)\n",
    "* [BOTO3 for eventbridge](https://boto3.amazonaws.com/v1/documentation/api/latest/reference/services/events.html)"
   ]
  },
  {
   "cell_type": "code",
   "execution_count": 25,
   "id": "637ae99d-379c-44d3-a42f-547ca1a6023c",
   "metadata": {
    "tags": []
   },
   "outputs": [],
   "source": [
    "client_events = boto3.client('events')"
   ]
  },
  {
   "cell_type": "code",
   "execution_count": 26,
   "id": "6c21780e-e92a-467a-a50a-685cc43bfd72",
   "metadata": {
    "tags": []
   },
   "outputs": [
    {
     "data": {
      "text/plain": [
       "'Store suceess'"
      ]
     },
     "execution_count": 26,
     "metadata": {},
     "output_type": "execute_result"
    }
   ],
   "source": [
    "dicEventPattern = '''\n",
    "{\n",
    "    \"source\": [\"aws.sagemaker\"],\n",
    "    \"detail-type\": [\"SageMaker Model Building Pipeline Execution Step Status Change\"],\n",
    "    \"detail\": {\n",
    "        \"currentStepStatus\": [\"Failed\"]\n",
    "    }\n",
    "    \"resources\": [\"your pipeline arn\"]\n",
    "}\n",
    "'''\n",
    "strEventBridgeRole = pm.get_params(key=\"-\".join([strPrefix, \"CODE-EVENTBRIDGE-ROLE-ARN\"]))\n",
    "strEventRuleName = \"SAGEMAKER-PIPELINE-STEP-MONITOR\"\n",
    "pm.put_params(key=\"-\".join([strPrefix, \"EVENT-RULE-NAME\"]), value=strEventRuleName, overwrite=True)"
   ]
  },
  {
   "cell_type": "code",
   "execution_count": 27,
   "id": "5a237b69-765f-4af6-a9fe-1646f05fe586",
   "metadata": {
    "tags": []
   },
   "outputs": [
    {
     "name": "stdout",
     "output_type": "stream",
     "text": [
      "strEventBridgeRole: arn:aws:iam::419974056037:role/DJ-SM-IMD-EventBridgeRole\n",
      "strEventRuleName: SAGEMAKER-PIPELINE-STEP-MONITOR\n"
     ]
    }
   ],
   "source": [
    "print (f'strEventBridgeRole: {strEventBridgeRole}')\n",
    "print (f'strEventRuleName: {strEventRuleName}')"
   ]
  },
  {
   "cell_type": "code",
   "execution_count": 28,
   "id": "a194a8a3-ab95-4ce9-ab14-73ca9afd5d53",
   "metadata": {
    "tags": []
   },
   "outputs": [
    {
     "data": {
      "text/plain": [
       "{'RuleArn': 'arn:aws:events:us-west-2:419974056037:rule/SAGEMAKER-PIPELINE-STEP-MONITOR',\n",
       " 'ResponseMetadata': {'RequestId': 'd37c5f7c-7a9c-49c7-8877-76496ee9849e',\n",
       "  'HTTPStatusCode': 200,\n",
       "  'HTTPHeaders': {'x-amzn-requestid': 'd37c5f7c-7a9c-49c7-8877-76496ee9849e',\n",
       "   'content-type': 'application/x-amz-json-1.1',\n",
       "   'content-length': '88',\n",
       "   'date': 'Fri, 10 Jan 2025 09:03:34 GMT'},\n",
       "  'RetryAttempts': 0}}"
      ]
     },
     "execution_count": 28,
     "metadata": {},
     "output_type": "execute_result"
    }
   ],
   "source": [
    "rule_response = client_events.put_rule(\n",
    "    Name=strEventRuleName,\n",
    "    #ScheduleExpression='string',\n",
    "    EventPattern=dicEventPattern,\n",
    "    State=\"ENABLED\", #'ENABLED'|'DISABLED'\n",
    "    Description=\"Trigger when currentStepStatus is Failed\",\n",
    "    RoleArn=strEventBridgeRole\n",
    ")\n",
    "rule_response"
   ]
  },
  {
   "cell_type": "markdown",
   "id": "fa95b41f-6510-4b6a-a9c9-58117ce09aa3",
   "metadata": {
    "tags": []
   },
   "source": [
    "### 2.2 target 설정"
   ]
  },
  {
   "cell_type": "code",
   "execution_count": 29,
   "id": "563ec7df-ee6f-4f95-86f0-5f731e5a14b3",
   "metadata": {
    "tags": []
   },
   "outputs": [],
   "source": [
    "target_response = client_events.put_targets(\n",
    "    Rule=strEventRuleName,\n",
    "    Targets=[\n",
    "        {\n",
    "            'Id': strLambdaFuncName,\n",
    "            'Arn': strLambdaArn\n",
    "        }\n",
    "    ]\n",
    ")"
   ]
  },
  {
   "cell_type": "code",
   "execution_count": 30,
   "id": "5a3831f9-322d-4730-89df-9b16473decef",
   "metadata": {
    "tags": []
   },
   "outputs": [
    {
     "data": {
      "text/plain": [
       "{'FailedEntryCount': 0,\n",
       " 'FailedEntries': [],\n",
       " 'ResponseMetadata': {'RequestId': 'dff78766-9d44-450e-8a94-33e601ef7bc1',\n",
       "  'HTTPStatusCode': 200,\n",
       "  'HTTPHeaders': {'x-amzn-requestid': 'dff78766-9d44-450e-8a94-33e601ef7bc1',\n",
       "   'content-type': 'application/x-amz-json-1.1',\n",
       "   'content-length': '41',\n",
       "   'date': 'Fri, 10 Jan 2025 09:03:36 GMT'},\n",
       "  'RetryAttempts': 0}}"
      ]
     },
     "execution_count": 30,
     "metadata": {},
     "output_type": "execute_result"
    }
   ],
   "source": [
    "target_response"
   ]
  },
  {
   "cell_type": "code",
   "execution_count": 31,
   "id": "09553a1b-5110-4184-b8f0-1bd040db6c5a",
   "metadata": {
    "tags": []
   },
   "outputs": [
    {
     "data": {
      "text/plain": [
       "{'ResponseMetadata': {'RequestId': 'f7a5f9a1-34ea-4584-8e2d-157f97ec7611',\n",
       "  'HTTPStatusCode': 201,\n",
       "  'HTTPHeaders': {'date': 'Fri, 10 Jan 2025 09:03:38 GMT',\n",
       "   'content-type': 'application/json',\n",
       "   'content-length': '370',\n",
       "   'connection': 'keep-alive',\n",
       "   'x-amzn-requestid': 'f7a5f9a1-34ea-4584-8e2d-157f97ec7611'},\n",
       "  'RetryAttempts': 0},\n",
       " 'Statement': '{\"Sid\":\"62026DJ-SM-IMD-LAMBDA\",\"Effect\":\"Allow\",\"Principal\":{\"Service\":\"events.amazonaws.com\"},\"Action\":\"lambda:InvokeFunction\",\"Resource\":\"arn:aws:lambda:us-west-2:419974056037:function:DJ-SM-IMD-LAMBDA\",\"Condition\":{\"ArnLike\":{\"AWS:SourceArn\":\"arn:aws:events:us-west-2:419974056037:rule/SAGEMAKER-PIPELINE-STEP-MONITOR\"}}}'}"
      ]
     },
     "execution_count": 31,
     "metadata": {},
     "output_type": "execute_result"
    }
   ],
   "source": [
    "add_lambda_permission = lam_handler.add_permission(\n",
    "    strLambdaArn=strLambdaArn,\n",
    "    strLambdaFuncName=strLambdaFuncName,\n",
    "    SourceArn=rule_response[\"RuleArn\"]\n",
    ")\n",
    "add_lambda_permission"
   ]
  },
  {
   "cell_type": "code",
   "execution_count": null,
   "id": "43c72628-2c07-455d-a8c7-56c80d11bcbe",
   "metadata": {},
   "outputs": [],
   "source": []
  },
  {
   "cell_type": "code",
   "execution_count": null,
   "id": "3ac3597f-444a-4629-a91a-bc20ddfa2407",
   "metadata": {},
   "outputs": [],
   "source": []
  },
  {
   "cell_type": "code",
   "execution_count": null,
   "id": "372db6c3-5ba1-4c8f-b80d-caa6e498e8c8",
   "metadata": {},
   "outputs": [],
   "source": []
  },
  {
   "cell_type": "code",
   "execution_count": null,
   "id": "0385792f-9ce0-4215-8826-46880ab34e04",
   "metadata": {},
   "outputs": [],
   "source": []
  },
  {
   "cell_type": "code",
   "execution_count": 68,
   "id": "0698e29a-e3b9-4725-9c25-310af73a30ca",
   "metadata": {
    "tags": []
   },
   "outputs": [],
   "source": [
    "aa = {'version': '0', 'id': '317a4633-524f-2ac3-2cbb-f038c637920e', 'detail-type': 'SageMaker Model Building Pipeline Execution Step Status Change', 'source': 'aws.sagemaker', 'account': '419974056037', 'time': '2023-05-04T15:31:33Z', 'region': 'us-east-1', 'resources': ['arn:aws:sagemaker:us-east-1:419974056037:pipeline/dj-sm-imd-pipeline', 'arn:aws:sagemaker:us-east-1:419974056037:pipeline/dj-sm-imd-pipeline/execution/x1xt2felyccl'], 'detail': {'failureReason': 'ClientError: Failed to invoke sagemaker:CreateTrainingJob. Error Details: No S3 objects found under S3 URL \"s3://sagemaker-us-east-1-419974056037/dataset/train_.csv\" given in input data source. Please ensure that the bucket exists in the selected region (us-east-1), that objects exist under that S3 prefix, and that the role \"arn:aws:iam::419974056037:role/service-role/AmazonSageMaker-ExecutionRole-20221206T163436\" has \"s3:ListBucket\" permissions on bucket \"sagemaker-us-east-1-419974056037\".', 'metadata': {}, 'stepStartTime': '2023-05-04T15:31:32Z', 'stepEndTime': '2023-05-04T15:31:33Z', 'stepName': 'TrainingProcess', 'stepType': 'Training', 'previousStepStatus': 'Starting', 'currentStepStatus': 'Failed', 'pipelineArn': 'arn:aws:sagemaker:us-east-1:419974056037:pipeline/dj-sm-imd-pipeline', 'pipelineExecutionArn': 'arn:aws:sagemaker:us-east-1:419974056037:pipeline/dj-sm-imd-pipeline/execution/x1xt2felyccl'}}"
   ]
  },
  {
   "cell_type": "code",
   "execution_count": 97,
   "id": "31fc68c0-98d6-4941-9bf5-6c3eca896281",
   "metadata": {
    "tags": []
   },
   "outputs": [],
   "source": [
    "strPipelineArn = aa[\"detail\"][\"pipelineArn\"]\n",
    "strStepName = aa[\"detail\"][\"stepName\"]\n",
    "strCurrentStepStatus = aa[\"detail\"][\"currentStepStatus\"]\n",
    "strFailReasion = aa[\"detail\"][\"failureReason\"]\n",
    "strEndTime = aa[\"detail\"][\"stepEndTime\"]"
   ]
  },
  {
   "cell_type": "code",
   "execution_count": 69,
   "id": "894927a9-6840-444e-8c31-b2568bde01f6",
   "metadata": {
    "tags": []
   },
   "outputs": [],
   "source": [
    "import pprint"
   ]
  },
  {
   "cell_type": "code",
   "execution_count": 71,
   "id": "f2bc0d90-672f-48c3-a8fc-5bf207d3613d",
   "metadata": {
    "tags": []
   },
   "outputs": [
    {
     "name": "stdout",
     "output_type": "stream",
     "text": [
      "{'account': '419974056037',\n",
      " 'detail': {'currentStepStatus': 'Failed',\n",
      "            'failureReason': 'ClientError: Failed to invoke '\n",
      "                             'sagemaker:CreateTrainingJob. Error Details: No '\n",
      "                             'S3 objects found under S3 URL '\n",
      "                             '\"s3://sagemaker-us-east-1-419974056037/dataset/train_.csv\" '\n",
      "                             'given in input data source. Please ensure that '\n",
      "                             'the bucket exists in the selected region '\n",
      "                             '(us-east-1), that objects exist under that S3 '\n",
      "                             'prefix, and that the role '\n",
      "                             '\"arn:aws:iam::419974056037:role/service-role/AmazonSageMaker-ExecutionRole-20221206T163436\" '\n",
      "                             'has \"s3:ListBucket\" permissions on bucket '\n",
      "                             '\"sagemaker-us-east-1-419974056037\".',\n",
      "            'metadata': {},\n",
      "            'pipelineArn': 'arn:aws:sagemaker:us-east-1:419974056037:pipeline/dj-sm-imd-pipeline',\n",
      "            'pipelineExecutionArn': 'arn:aws:sagemaker:us-east-1:419974056037:pipeline/dj-sm-imd-pipeline/execution/x1xt2felyccl',\n",
      "            'previousStepStatus': 'Starting',\n",
      "            'stepEndTime': '2023-05-04T15:31:33Z',\n",
      "            'stepName': 'TrainingProcess',\n",
      "            'stepStartTime': '2023-05-04T15:31:32Z',\n",
      "            'stepType': 'Training'},\n",
      " 'detail-type': 'SageMaker Model Building Pipeline Execution Step Status '\n",
      "                'Change',\n",
      " 'id': '317a4633-524f-2ac3-2cbb-f038c637920e',\n",
      " 'region': 'us-east-1',\n",
      " 'resources': ['arn:aws:sagemaker:us-east-1:419974056037:pipeline/dj-sm-imd-pipeline',\n",
      "               'arn:aws:sagemaker:us-east-1:419974056037:pipeline/dj-sm-imd-pipeline/execution/x1xt2felyccl'],\n",
      " 'source': 'aws.sagemaker',\n",
      " 'time': '2023-05-04T15:31:33Z',\n",
      " 'version': '0'}\n"
     ]
    }
   ],
   "source": [
    "pprint.pprint(aa)"
   ]
  },
  {
   "cell_type": "code",
   "execution_count": 3,
   "id": "9481353e-670f-44f3-8339-07c4a0954cde",
   "metadata": {},
   "outputs": [],
   "source": [
    "meta = {'processingJob': {'arn': 'arn:aws:sagemaker:us-east-1:419974056037:processing-job/pipelines-a1bzloczzdgz-PreprocessingProcess-Z7ov8YlR7l'}}"
   ]
  },
  {
   "cell_type": "code",
   "execution_count": 6,
   "id": "70e15606-c08f-4ec8-958c-6b9d972eafc8",
   "metadata": {
    "tags": []
   },
   "outputs": [],
   "source": []
  },
  {
   "cell_type": "code",
   "execution_count": 1,
   "id": "fab7b79e-7a1a-4e27-b907-fa185374f5e1",
   "metadata": {},
   "outputs": [],
   "source": [
    "res = {'ProcessingResources': {'ClusterConfig': {'InstanceType': 'ml.m5.xlarge', 'InstanceCount': 1, 'VolumeSizeInGB': 30}}, 'AppSpecification': {'ImageUri': '419974056037.dkr.ecr.us-east-1.amazonaws.com/mlops-image-prep:latest', 'ContainerArguments': ['--prefix_prep', '/opt/ml/processing/', '--region', 'us-east-1'], 'ContainerEntrypoint': ['/bin/bash', '/opt/ml/processing/input/entrypoint/runproc.sh']}, 'RoleArn': 'arn:aws:iam::419974056037:role/service-role/AmazonSageMaker-ExecutionRole-20221206T163436', 'ProcessingInputs': [{'InputName': 'input', 'AppManaged': False, 'S3Input': {'S3Uri': 's3://sagemaker-us-east-1-419974056037/DJ-SM-PIPELINE-DATA', 'LocalPath': '/opt/ml/processing/input', 'S3DataType': 'S3Prefix', 'S3InputMode': 'File', 'S3DataDistributionType': 'FullyReplicated', 'S3CompressionType': 'None'}}, {'InputName': 'code', 'AppManaged': False, 'S3Input': {'S3Uri': 's3://sagemaker-us-east-1-419974056037/preprocessing/source/sourcedir.tar.gz', 'LocalPath': '/opt/ml/processing/input/code/', 'S3DataType': 'S3Prefix', 'S3InputMode': 'File', 'S3DataDistributionType': 'FullyReplicated', 'S3CompressionType': 'None'}}, {'InputName': 'entrypoint', 'AppManaged': False, 'S3Input': {'S3Uri': 's3://sagemaker-us-east-1-419974056037/preprocessing/source/runproc.sh', 'LocalPath': '/opt/ml/processing/input/entrypoint', 'S3DataType': 'S3Prefix', 'S3InputMode': 'File', 'S3DataDistributionType': 'FullyReplicated', 'S3CompressionType': 'None'}}], 'ProcessingOutputConfig': {'Outputs': [{'OutputName': 'train-data', 'AppManaged': False, 'S3Output': {'S3Uri': 's3://sagemaker-us-east-1-419974056037/DJ-SM-PIPELINE-MODEL-1/preprocessing/output/train-data', 'LocalPath': '/opt/ml/processing/output/train', 'S3UploadMode': 'EndOfJob'}}, {'OutputName': 'validation-data', 'AppManaged': False, 'S3Output': {'S3Uri': 's3://sagemaker-us-east-1-419974056037/DJ-SM-PIPELINE-MODEL-1/preprocessing/output/validation-data', 'LocalPath': '/opt/ml/processing/output/validation', 'S3UploadMode': 'EndOfJob'}}, {'OutputName': 'test-data', 'AppManaged': False, 'S3Output': {'S3Uri': 's3://sagemaker-us-east-1-419974056037/DJ-SM-PIPELINE-MODEL-1/preprocessing/output/test-data', 'LocalPath': '/opt/ml/processing/output/test', 'S3UploadMode': 'EndOfJob'}}]}}"
   ]
  },
  {
   "cell_type": "code",
   "execution_count": 3,
   "id": "4f48ca20-631e-4f35-96cd-491682a285a7",
   "metadata": {
    "tags": []
   },
   "outputs": [
    {
     "data": {
      "text/plain": [
       "dict_keys(['ProcessingResources', 'AppSpecification', 'RoleArn', 'ProcessingInputs', 'ProcessingOutputConfig'])"
      ]
     },
     "execution_count": 3,
     "metadata": {},
     "output_type": "execute_result"
    }
   ],
   "source": [
    "res.keys()"
   ]
  },
  {
   "cell_type": "code",
   "execution_count": 7,
   "id": "9a96a363-a01c-4551-99e7-83fe86f167d8",
   "metadata": {
    "tags": []
   },
   "outputs": [
    {
     "data": {
      "text/plain": [
       "[{'OutputName': 'train-data',\n",
       "  'AppManaged': False,\n",
       "  'S3Output': {'S3Uri': 's3://sagemaker-us-east-1-419974056037/DJ-SM-PIPELINE-MODEL-1/preprocessing/output/train-data',\n",
       "   'LocalPath': '/opt/ml/processing/output/train',\n",
       "   'S3UploadMode': 'EndOfJob'}},\n",
       " {'OutputName': 'validation-data',\n",
       "  'AppManaged': False,\n",
       "  'S3Output': {'S3Uri': 's3://sagemaker-us-east-1-419974056037/DJ-SM-PIPELINE-MODEL-1/preprocessing/output/validation-data',\n",
       "   'LocalPath': '/opt/ml/processing/output/validation',\n",
       "   'S3UploadMode': 'EndOfJob'}},\n",
       " {'OutputName': 'test-data',\n",
       "  'AppManaged': False,\n",
       "  'S3Output': {'S3Uri': 's3://sagemaker-us-east-1-419974056037/DJ-SM-PIPELINE-MODEL-1/preprocessing/output/test-data',\n",
       "   'LocalPath': '/opt/ml/processing/output/test',\n",
       "   'S3UploadMode': 'EndOfJob'}}]"
      ]
     },
     "execution_count": 7,
     "metadata": {},
     "output_type": "execute_result"
    }
   ],
   "source": [
    "res[\"ProcessingOutputConfig\"][\"Outputs\"]"
   ]
  },
  {
   "cell_type": "code",
   "execution_count": 1,
   "id": "01813cbc-4d3a-470f-85cb-9599edfa0b3a",
   "metadata": {
    "tags": []
   },
   "outputs": [],
   "source": [
    "strPipelineArn = \"23\"\n",
    "strStepName = \"23\"\n",
    "strMetaData = \"23\"\n",
    "strCurrentStepStatus = \"23\"\n",
    "strFailReasion = \"23\"\n",
    "strEndTime = \"23\"\n",
    "\n",
    "msg = \"\\n\".join(\n",
    "    [\n",
    "        f'Pipeline ARN: {strPipelineArn}',\n",
    "        f'Step Name: {strStepName}',\n",
    "        f'Job Name: {strMetaData}',\n",
    "        f'Status: {strCurrentStepStatus}',\n",
    "        f'Fail Reason: {strFailReasion}',\n",
    "        f'End time: {strEndTime}'\n",
    "    ]\n",
    ")"
   ]
  },
  {
   "cell_type": "code",
   "execution_count": 2,
   "id": "52aad569-b42d-40ca-ab65-cea620236643",
   "metadata": {
    "tags": []
   },
   "outputs": [
    {
     "data": {
      "text/plain": [
       "'Pipeline ARN: 23\\nStep Name: 23\\nJob Name: 23\\nStatus: 23\\nFail Reason: 23\\nEnd time: 23'"
      ]
     },
     "execution_count": 2,
     "metadata": {},
     "output_type": "execute_result"
    }
   ],
   "source": [
    "msg"
   ]
  },
  {
   "cell_type": "code",
   "execution_count": null,
   "id": "71c4051f-ad48-43da-acdc-6c291512c387",
   "metadata": {},
   "outputs": [],
   "source": []
  }
 ],
 "metadata": {
  "kernelspec": {
   "display_name": "conda_python3",
   "language": "python",
   "name": "conda_python3"
  },
  "language_info": {
   "codemirror_mode": {
    "name": "ipython",
    "version": 3
   },
   "file_extension": ".py",
   "mimetype": "text/x-python",
   "name": "python",
   "nbconvert_exporter": "python",
   "pygments_lexer": "ipython3",
   "version": "3.10.14"
  }
 },
 "nbformat": 4,
 "nbformat_minor": 5
}
