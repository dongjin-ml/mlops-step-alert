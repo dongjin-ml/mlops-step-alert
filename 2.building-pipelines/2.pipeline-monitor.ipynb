{
 "cells": [
  {
   "cell_type": "markdown",
   "id": "96536fdc-19c0-4caf-85db-cad312ebf8e8",
   "metadata": {},
   "source": [
    "# <B> Monitor - SageMaker pipeline </B>\n",
    "* Container: conda_python3"
   ]
  },
  {
   "cell_type": "markdown",
   "id": "179d59b1-ba8b-4985-80a5-a84856ff120a",
   "metadata": {},
   "source": [
    "## AutoReload"
   ]
  },
  {
   "cell_type": "code",
   "execution_count": 1,
   "id": "587e5c24-67c3-413e-9043-4e7527c6ce43",
   "metadata": {
    "tags": []
   },
   "outputs": [],
   "source": [
    "%load_ext autoreload\n",
    "%autoreload 2"
   ]
  },
  {
   "cell_type": "markdown",
   "id": "d3916c0e-3c4f-411b-a314-0f5c3cd102a9",
   "metadata": {},
   "source": [
    "## 0. Install packages"
   ]
  },
  {
   "cell_type": "code",
   "execution_count": 2,
   "id": "e1186d35-0f5c-4015-8c4c-36ff9b86221e",
   "metadata": {
    "tags": []
   },
   "outputs": [],
   "source": [
    "install_needed = False  # should only be True once\n",
    "# install_needed = False"
   ]
  },
  {
   "cell_type": "code",
   "execution_count": 3,
   "id": "2437e943-566f-42f3-8f17-398c76b75424",
   "metadata": {
    "tags": []
   },
   "outputs": [
    {
     "name": "stdout",
     "output_type": "stream",
     "text": [
      "Already revised\n"
     ]
    }
   ],
   "source": [
    "%%bash\n",
    "#!/bin/bash\n",
    "\n",
    "DAEMON_PATH=\"/etc/docker\"\n",
    "MEMORY_SIZE=10G\n",
    "\n",
    "FLAG=$(cat $DAEMON_PATH/daemon.json | jq 'has(\"data-root\")')\n",
    "# echo $FLAG\n",
    "\n",
    "if [ \"$FLAG\" == true ]; then\n",
    "    echo \"Already revised\"\n",
    "else\n",
    "    echo \"Add data-root and default-shm-size=$MEMORY_SIZE\"\n",
    "    sudo cp $DAEMON_PATH/daemon.json $DAEMON_PATH/daemon.json.bak\n",
    "    sudo cat $DAEMON_PATH/daemon.json.bak | jq '. += {\"data-root\":\"/home/ec2-user/SageMaker/.container/docker\",\"default-shm-size\":\"'$MEMORY_SIZE'\"}' | sudo tee $DAEMON_PATH/daemon.json > /dev/null\n",
    "    sudo service docker restart\n",
    "    echo \"Docker Restart\"\n",
    "fi"
   ]
  },
  {
   "cell_type": "code",
   "execution_count": 4,
   "id": "3c758ff6-e9e8-45c8-8385-51a7fcddb0fc",
   "metadata": {
    "tags": []
   },
   "outputs": [],
   "source": [
    "import sys\n",
    "import IPython\n",
    "\n",
    "if install_needed:\n",
    "    print(\"installing deps and restarting kernel\")\n",
    "    !{sys.executable} -m pip install -U pip\n",
    "    !{sys.executable} -m pip install -U smdebug sagemaker-experiments\n",
    "    !{sys.executable} -m pip install -U sagemaker\n",
    "\n",
    "    IPython.Application.instance().kernel.do_shutdown(True)"
   ]
  },
  {
   "cell_type": "markdown",
   "id": "f6fa302d-d31f-4b40-b620-c8d5aec820c3",
   "metadata": {},
   "source": [
    "## 1. parameter store 설정"
   ]
  },
  {
   "cell_type": "code",
   "execution_count": 8,
   "id": "7bbe4b78-60fc-4c02-bbe5-8683627d7526",
   "metadata": {
    "tags": []
   },
   "outputs": [],
   "source": [
    "import boto3\n",
    "from utils.ssm import parameter_store"
   ]
  },
  {
   "cell_type": "code",
   "execution_count": 9,
   "id": "483c0664-7572-414d-908e-a062f56f090c",
   "metadata": {
    "tags": []
   },
   "outputs": [],
   "source": [
    "strRegionName=boto3.Session().region_name\n",
    "pm = parameter_store(strRegionName)\n",
    "strPrefix = pm.get_params(key=\"PREFIX\")"
   ]
  },
  {
   "cell_type": "code",
   "execution_count": 10,
   "id": "5a5ab97e-a447-4d0b-a441-4f0023b43550",
   "metadata": {
    "tags": []
   },
   "outputs": [],
   "source": [
    "strBucketName = pm.get_params(key=\"-\".join([strPrefix, \"BUCKET\"]))\n",
    "strExecutionRole = pm.get_params(key=\"-\".join([strPrefix, \"SAGEMAKER-ROLE-ARN\"]))"
   ]
  },
  {
   "cell_type": "code",
   "execution_count": 11,
   "id": "c2c0ff90-2b49-4c7f-982a-6cfb017fb7c4",
   "metadata": {
    "tags": []
   },
   "outputs": [
    {
     "name": "stdout",
     "output_type": "stream",
     "text": [
      "strExecutionRole: arn:aws:iam::419974056037:role/service-role/AmazonSageMaker-ExecutionRole-20221206T163436\n"
     ]
    }
   ],
   "source": [
    "print (f'strExecutionRole: {strExecutionRole}')"
   ]
  },
  {
   "cell_type": "markdown",
   "id": "06ca684e-5649-42a4-820d-24b09296967b",
   "metadata": {},
   "source": [
    "## 2. EventBridge - Lambda 설정"
   ]
  },
  {
   "cell_type": "code",
   "execution_count": 12,
   "id": "1ef01535-f5ed-4f8a-bc66-065ecd4a8414",
   "metadata": {
    "tags": []
   },
   "outputs": [],
   "source": [
    "import boto3"
   ]
  },
  {
   "cell_type": "markdown",
   "id": "7efc6819-dda5-4521-bd14-5043f4b92ffc",
   "metadata": {
    "tags": []
   },
   "source": [
    "### 2-1. Lambda function 생성"
   ]
  },
  {
   "cell_type": "code",
   "execution_count": 13,
   "id": "deed5d33-21c6-4354-909e-6170821cc7a6",
   "metadata": {
    "tags": []
   },
   "outputs": [],
   "source": [
    "import shutil\n",
    "import zipfile\n",
    "import tempfile\n",
    "from utils.lambda_func import lambda_handler"
   ]
  },
  {
   "cell_type": "code",
   "execution_count": 14,
   "id": "e13a6e67-1fd6-457b-9451-3dfb5d4867d3",
   "metadata": {
    "tags": []
   },
   "outputs": [],
   "source": [
    "lam_handler = lambda_handler(region_name=strRegionName)"
   ]
  },
  {
   "cell_type": "code",
   "execution_count": 15,
   "id": "546747a8-f7f3-4494-81bb-6b8775abdbd9",
   "metadata": {
    "tags": []
   },
   "outputs": [
    {
     "name": "stdout",
     "output_type": "stream",
     "text": [
      "Overwriting ./monitor/lambda/pipeline_monitor_lambda.py\n"
     ]
    }
   ],
   "source": [
    "%%writefile ./monitor/lambda/pipeline_monitor_lambda.py\n",
    "\n",
    "import json\n",
    "from pprint import pprint\n",
    "\n",
    "def lambda_handler(event, context):\n",
    "    \n",
    "    # TODO implement\n",
    "    \n",
    "    pprint (event)\n",
    "    print (\"==\")\n",
    "    \n",
    "    strPipelineArn = event[\"detail\"][\"pipelineArn\"]\n",
    "    strStepName = event[\"detail\"][\"stepName\"]\n",
    "    strCurrentStepStatus = event[\"detail\"][\"currentStepStatus\"]\n",
    "    strFailReasion = event[\"detail\"][\"failureReason\"]\n",
    "    strEndTime = event[\"detail\"][\"stepEndTime\"]\n",
    "    strMetaData = str(event[\"detail\"][\"metadata\"])\n",
    "    \n",
    "    \n",
    "    print (f'strPipelineArn: {strPipelineArn}')\n",
    "    print (f'strStepName: {strStepName}')\n",
    "    print (f'strMetaData: {strMetaData}')\n",
    "    print (f'strCurrentStepStatus: {strCurrentStepStatus}')\n",
    "    print (f'strFailReasion: {strFailReasion}')\n",
    "    print (f'strEndTime: {strEndTime}')\n",
    "    \n",
    "    return {\n",
    "        'statusCode': 200,\n",
    "        'body': json.dumps('Hello from Lambda!')\n",
    "    }\n"
   ]
  },
  {
   "cell_type": "code",
   "execution_count": 16,
   "id": "70aae646-ab8f-4bf3-a8e6-136b00bd896f",
   "metadata": {
    "tags": []
   },
   "outputs": [],
   "source": [
    "strLambdaRoleArn = pm.get_params(key=\"-\".join([strPrefix, \"LAMBDA-ROLE-ARN\"]))\n",
    "strLambdaFuncName = \"-\".join([strPrefix, \"LAMBDA\"])\n",
    "strLambdaSrcDir = \"./monitor/lambda\"\n",
    "strLambdaHandler = \"pipeline_monitor_lambda.lambda_handler\" "
   ]
  },
  {
   "cell_type": "code",
   "execution_count": 17,
   "id": "9c29f623-1849-4d3e-975b-910a28157135",
   "metadata": {
    "tags": []
   },
   "outputs": [
    {
     "name": "stdout",
     "output_type": "stream",
     "text": [
      "strLambdaRoleArn: arn:aws:iam::419974056037:role/DJ-SM-PIPELINE-LabmdaRole\n",
      "strRegionName: us-east-1\n"
     ]
    }
   ],
   "source": [
    "print (f'strLambdaRoleArn: {strLambdaRoleArn}')\n",
    "print (f'strRegionName: {strRegionName}')"
   ]
  },
  {
   "cell_type": "code",
   "execution_count": 18,
   "id": "bbe29e02-8d4c-45fb-a6e3-3d9dd5ece9fd",
   "metadata": {
    "tags": []
   },
   "outputs": [
    {
     "name": "stdout",
     "output_type": "stream",
     "text": [
      "== CREATE LAMBDA FUNCTION ==\n",
      "  lambda function: [DJ-SM-PIPELINE-LAMBDA] is already exist!!, so, this will be deleted and re-created.\n",
      "  lambda function: [DJ-SM-PIPELINE-LAMBDA] is deleted successfully\n",
      "Argments for lambda below:\n",
      "\n",
      "{'Architectures': ['x86_64'],\n",
      " 'CodeSha256': 'HR4Sss2N7/J25ATBRvBoIyMNMb0qn8Pprys1ovVGT8k=',\n",
      " 'CodeSize': 1099,\n",
      " 'Description': 'SageMaker IMD: Lambda for Automating Amazon SageMaker with '\n",
      "                'Amazon EventBridge',\n",
      " 'Environment': {'Variables': {'REGION': 'us-east-1'}},\n",
      " 'EphemeralStorage': {'Size': 512},\n",
      " 'FunctionArn': 'arn:aws:lambda:us-east-1:419974056037:function:DJ-SM-PIPELINE-LAMBDA',\n",
      " 'FunctionName': 'DJ-SM-PIPELINE-LAMBDA',\n",
      " 'Handler': 'pipeline_monitor_lambda.lambda_handler',\n",
      " 'LastModified': '2023-05-14T00:52:38.669+0000',\n",
      " 'MemorySize': 128,\n",
      " 'PackageType': 'Zip',\n",
      " 'ResponseMetadata': {'HTTPHeaders': {'connection': 'keep-alive',\n",
      "                                      'content-length': '1350',\n",
      "                                      'content-type': 'application/json',\n",
      "                                      'date': 'Sun, 14 May 2023 00:52:39 GMT',\n",
      "                                      'x-amzn-requestid': '800c26e0-f6d9-4ac2-8db7-bcabbcfbf2fd'},\n",
      "                      'HTTPStatusCode': 201,\n",
      "                      'RequestId': '800c26e0-f6d9-4ac2-8db7-bcabbcfbf2fd',\n",
      "                      'RetryAttempts': 0},\n",
      " 'RevisionId': 'b8264a28-9ea3-4774-ab33-eb358ee1225d',\n",
      " 'Role': 'arn:aws:iam::419974056037:role/DJ-SM-PIPELINE-LabmdaRole',\n",
      " 'Runtime': 'python3.9',\n",
      " 'RuntimeVersionConfig': {'RuntimeVersionArn': 'arn:aws:lambda:us-east-1::runtime:e73d5f60c4282fb09ce24a6d3fe8997789616f3a53b903f4ed7c9132a58045f6'},\n",
      " 'SnapStart': {'ApplyOn': 'None', 'OptimizationStatus': 'Off'},\n",
      " 'State': 'Pending',\n",
      " 'StateReason': 'The function is being created.',\n",
      " 'StateReasonCode': 'Creating',\n",
      " 'Timeout': 3,\n",
      " 'TracingConfig': {'Mode': 'PassThrough'},\n",
      " 'Version': '2'}\n",
      "\n",
      "  lambda function: [DJ-SM-PIPELINE-LAMBDA] is created successfully\n",
      "== COMPLETED ==\n",
      "LambdaArn: arn:aws:lambda:us-east-1:419974056037:function:DJ-SM-PIPELINE-LAMBDA\n",
      "strLambdaFuncName: DJ-SM-PIPELINE-LAMBDA\n"
     ]
    },
    {
     "data": {
      "text/plain": [
       "'Store suceess'"
      ]
     },
     "execution_count": 18,
     "metadata": {},
     "output_type": "execute_result"
    }
   ],
   "source": [
    "with tempfile.TemporaryDirectory() as tempDirPath:\n",
    "    \n",
    "    lambda_archive_path = shutil.make_archive(\n",
    "        base_name=tempDirPath,\n",
    "        format=\"zip\",\n",
    "        root_dir=strLambdaSrcDir,\n",
    "    )\n",
    "    \n",
    "    with open(lambda_archive_path, 'rb') as f: zipped_code = f.read()\n",
    "    \n",
    "    strLambdaArn = lam_handler.create_function(\n",
    "        Code=dict(ZipFile=zipped_code),\n",
    "        Description='SageMaker IMD: Lambda for Automating Amazon SageMaker with Amazon EventBridge',\n",
    "        Environment={\n",
    "           'Variables': {\n",
    "               'REGION':strRegionName,\n",
    "           },\n",
    "        },\n",
    "        FunctionName=strLambdaFuncName,\n",
    "        Handler=strLambdaHandler,\n",
    "        Publish=True,\n",
    "        Role=strLambdaRoleArn,\n",
    "        Runtime='python3.9',\n",
    "    )\n",
    "    \n",
    "print (f'LambdaArn: {strLambdaArn}')\n",
    "print (f'strLambdaFuncName: {strLambdaFuncName}')\n",
    "pm.put_params(key=\"-\".join([strPrefix, \"LAMBDA-PIPELINE-MONITOR\"]), value=strLambdaFuncName, overwrite=True)"
   ]
  },
  {
   "cell_type": "markdown",
   "id": "70c84b72-52c0-4207-a128-13638ffef064",
   "metadata": {},
   "source": [
    "### 2-1. Event Rule 생성\n",
    "* [Automating Amazon SageMaker with Amazon EventBridge](https://docs.aws.amazon.com/sagemaker/latest/dg/automating-sagemaker-with-eventbridge.html#eventbridge-pipeline)\n",
    "* [BOTO3 for eventbridge](https://boto3.amazonaws.com/v1/documentation/api/latest/reference/services/events.html)"
   ]
  },
  {
   "cell_type": "code",
   "execution_count": 19,
   "id": "637ae99d-379c-44d3-a42f-547ca1a6023c",
   "metadata": {
    "tags": []
   },
   "outputs": [],
   "source": [
    "client_events = boto3.client('events')"
   ]
  },
  {
   "cell_type": "code",
   "execution_count": 20,
   "id": "6c21780e-e92a-467a-a50a-685cc43bfd72",
   "metadata": {
    "tags": []
   },
   "outputs": [
    {
     "data": {
      "text/plain": [
       "'Store suceess'"
      ]
     },
     "execution_count": 20,
     "metadata": {},
     "output_type": "execute_result"
    }
   ],
   "source": [
    "dicEventPattern = '''\n",
    "{\n",
    "    \"source\": [\"aws.sagemaker\"],\n",
    "    \"detail-type\": [\"SageMaker Model Building Pipeline Execution Step Status Change\"],\n",
    "    \"detail\": {\n",
    "        \"currentStepStatus\": [\"Failed\"] \n",
    "    }\n",
    "}\n",
    "'''\n",
    "strEventBridgeRole = pm.get_params(key=\"-\".join([strPrefix, \"CODE-EVENTBRIDGE-ROLE-ARN\"]))\n",
    "strEventRuleName = \"SAGEMAKER-PIPELINE-STEP-MONITOR\"\n",
    "pm.put_params(key=\"-\".join([strPrefix, \"EVENT-RULE-NAME\"]), value=strEventRuleName, overwrite=True)"
   ]
  },
  {
   "cell_type": "code",
   "execution_count": 21,
   "id": "5a237b69-765f-4af6-a9fe-1646f05fe586",
   "metadata": {
    "tags": []
   },
   "outputs": [
    {
     "name": "stdout",
     "output_type": "stream",
     "text": [
      "strEventBridgeRole: arn:aws:iam::419974056037:role/DJ-SM-PIPELINE-EventBridgeRole\n",
      "strEventRuleName: SAGEMAKER-PIPELINE-STEP-MONITOR\n"
     ]
    }
   ],
   "source": [
    "print (f'strEventBridgeRole: {strEventBridgeRole}')\n",
    "print (f'strEventRuleName: {strEventRuleName}')"
   ]
  },
  {
   "cell_type": "code",
   "execution_count": 22,
   "id": "a194a8a3-ab95-4ce9-ab14-73ca9afd5d53",
   "metadata": {
    "tags": []
   },
   "outputs": [
    {
     "data": {
      "text/plain": [
       "{'RuleArn': 'arn:aws:events:us-east-1:419974056037:rule/SAGEMAKER-PIPELINE-STEP-MONITOR',\n",
       " 'ResponseMetadata': {'RequestId': 'fd72e31d-a1f0-431d-b01f-03831c8a8672',\n",
       "  'HTTPStatusCode': 200,\n",
       "  'HTTPHeaders': {'x-amzn-requestid': 'fd72e31d-a1f0-431d-b01f-03831c8a8672',\n",
       "   'content-type': 'application/x-amz-json-1.1',\n",
       "   'content-length': '88',\n",
       "   'date': 'Sun, 14 May 2023 00:52:45 GMT'},\n",
       "  'RetryAttempts': 0}}"
      ]
     },
     "execution_count": 22,
     "metadata": {},
     "output_type": "execute_result"
    }
   ],
   "source": [
    "rule_response = client_events.put_rule(\n",
    "    Name=strEventRuleName,\n",
    "    #ScheduleExpression='string',\n",
    "    EventPattern=dicEventPattern,\n",
    "    State=\"ENABLED\", #'ENABLED'|'DISABLED'\n",
    "    Description=\"Trigger when currentStepStatus is Failed\",\n",
    "    RoleArn=strEventBridgeRole\n",
    ")\n",
    "rule_response"
   ]
  },
  {
   "cell_type": "markdown",
   "id": "fa95b41f-6510-4b6a-a9c9-58117ce09aa3",
   "metadata": {
    "tags": []
   },
   "source": [
    "### 2.2 target 설정"
   ]
  },
  {
   "cell_type": "code",
   "execution_count": 23,
   "id": "563ec7df-ee6f-4f95-86f0-5f731e5a14b3",
   "metadata": {
    "tags": []
   },
   "outputs": [],
   "source": [
    "target_response = client_events.put_targets(\n",
    "    Rule=strEventRuleName,\n",
    "    Targets=[\n",
    "        {\n",
    "            'Id': strLambdaFuncName,\n",
    "            'Arn': strLambdaArn\n",
    "        }\n",
    "    ]\n",
    ")"
   ]
  },
  {
   "cell_type": "code",
   "execution_count": 24,
   "id": "5a3831f9-322d-4730-89df-9b16473decef",
   "metadata": {
    "tags": []
   },
   "outputs": [
    {
     "data": {
      "text/plain": [
       "{'FailedEntryCount': 0,\n",
       " 'FailedEntries': [],\n",
       " 'ResponseMetadata': {'RequestId': '52b408c4-40c5-4ab5-b547-cae5fc47193a',\n",
       "  'HTTPStatusCode': 200,\n",
       "  'HTTPHeaders': {'x-amzn-requestid': '52b408c4-40c5-4ab5-b547-cae5fc47193a',\n",
       "   'content-type': 'application/x-amz-json-1.1',\n",
       "   'content-length': '41',\n",
       "   'date': 'Sun, 14 May 2023 00:52:47 GMT'},\n",
       "  'RetryAttempts': 0}}"
      ]
     },
     "execution_count": 24,
     "metadata": {},
     "output_type": "execute_result"
    }
   ],
   "source": [
    "target_response"
   ]
  },
  {
   "cell_type": "code",
   "execution_count": 25,
   "id": "09553a1b-5110-4184-b8f0-1bd040db6c5a",
   "metadata": {
    "tags": []
   },
   "outputs": [
    {
     "data": {
      "text/plain": [
       "{'ResponseMetadata': {'RequestId': 'e926ba44-d9a1-43c4-ac7c-d11a502eb65d',\n",
       "  'HTTPStatusCode': 201,\n",
       "  'HTTPHeaders': {'date': 'Sun, 14 May 2023 00:52:49 GMT',\n",
       "   'content-type': 'application/json',\n",
       "   'content-length': '380',\n",
       "   'connection': 'keep-alive',\n",
       "   'x-amzn-requestid': 'e926ba44-d9a1-43c4-ac7c-d11a502eb65d'},\n",
       "  'RetryAttempts': 0},\n",
       " 'Statement': '{\"Sid\":\"48344DJ-SM-PIPELINE-LAMBDA\",\"Effect\":\"Allow\",\"Principal\":{\"Service\":\"events.amazonaws.com\"},\"Action\":\"lambda:InvokeFunction\",\"Resource\":\"arn:aws:lambda:us-east-1:419974056037:function:DJ-SM-PIPELINE-LAMBDA\",\"Condition\":{\"ArnLike\":{\"AWS:SourceArn\":\"arn:aws:events:us-east-1:419974056037:rule/SAGEMAKER-PIPELINE-STEP-MONITOR\"}}}'}"
      ]
     },
     "execution_count": 25,
     "metadata": {},
     "output_type": "execute_result"
    }
   ],
   "source": [
    "add_lambda_permission = lam_handler.add_permission(\n",
    "    strLambdaArn=strLambdaArn,\n",
    "    strLambdaFuncName=strLambdaFuncName,\n",
    "    SourceArn=rule_response[\"RuleArn\"]\n",
    ")\n",
    "add_lambda_permission"
   ]
  },
  {
   "cell_type": "code",
   "execution_count": null,
   "id": "43c72628-2c07-455d-a8c7-56c80d11bcbe",
   "metadata": {},
   "outputs": [],
   "source": []
  },
  {
   "cell_type": "code",
   "execution_count": null,
   "id": "3ac3597f-444a-4629-a91a-bc20ddfa2407",
   "metadata": {},
   "outputs": [],
   "source": []
  },
  {
   "cell_type": "code",
   "execution_count": null,
   "id": "372db6c3-5ba1-4c8f-b80d-caa6e498e8c8",
   "metadata": {},
   "outputs": [],
   "source": []
  },
  {
   "cell_type": "code",
   "execution_count": null,
   "id": "0385792f-9ce0-4215-8826-46880ab34e04",
   "metadata": {},
   "outputs": [],
   "source": []
  },
  {
   "cell_type": "code",
   "execution_count": 68,
   "id": "0698e29a-e3b9-4725-9c25-310af73a30ca",
   "metadata": {
    "tags": []
   },
   "outputs": [],
   "source": [
    "aa = {'version': '0', 'id': '317a4633-524f-2ac3-2cbb-f038c637920e', 'detail-type': 'SageMaker Model Building Pipeline Execution Step Status Change', 'source': 'aws.sagemaker', 'account': '419974056037', 'time': '2023-05-04T15:31:33Z', 'region': 'us-east-1', 'resources': ['arn:aws:sagemaker:us-east-1:419974056037:pipeline/dj-sm-imd-pipeline', 'arn:aws:sagemaker:us-east-1:419974056037:pipeline/dj-sm-imd-pipeline/execution/x1xt2felyccl'], 'detail': {'failureReason': 'ClientError: Failed to invoke sagemaker:CreateTrainingJob. Error Details: No S3 objects found under S3 URL \"s3://sagemaker-us-east-1-419974056037/dataset/train_.csv\" given in input data source. Please ensure that the bucket exists in the selected region (us-east-1), that objects exist under that S3 prefix, and that the role \"arn:aws:iam::419974056037:role/service-role/AmazonSageMaker-ExecutionRole-20221206T163436\" has \"s3:ListBucket\" permissions on bucket \"sagemaker-us-east-1-419974056037\".', 'metadata': {}, 'stepStartTime': '2023-05-04T15:31:32Z', 'stepEndTime': '2023-05-04T15:31:33Z', 'stepName': 'TrainingProcess', 'stepType': 'Training', 'previousStepStatus': 'Starting', 'currentStepStatus': 'Failed', 'pipelineArn': 'arn:aws:sagemaker:us-east-1:419974056037:pipeline/dj-sm-imd-pipeline', 'pipelineExecutionArn': 'arn:aws:sagemaker:us-east-1:419974056037:pipeline/dj-sm-imd-pipeline/execution/x1xt2felyccl'}}"
   ]
  },
  {
   "cell_type": "code",
   "execution_count": 97,
   "id": "31fc68c0-98d6-4941-9bf5-6c3eca896281",
   "metadata": {
    "tags": []
   },
   "outputs": [],
   "source": [
    "strPipelineArn = aa[\"detail\"][\"pipelineArn\"]\n",
    "strStepName = aa[\"detail\"][\"stepName\"]\n",
    "strCurrentStepStatus = aa[\"detail\"][\"currentStepStatus\"]\n",
    "strFailReasion = aa[\"detail\"][\"failureReason\"]\n",
    "strEndTime = aa[\"detail\"][\"stepEndTime\"]"
   ]
  },
  {
   "cell_type": "code",
   "execution_count": 69,
   "id": "894927a9-6840-444e-8c31-b2568bde01f6",
   "metadata": {
    "tags": []
   },
   "outputs": [],
   "source": [
    "import pprint"
   ]
  },
  {
   "cell_type": "code",
   "execution_count": 71,
   "id": "f2bc0d90-672f-48c3-a8fc-5bf207d3613d",
   "metadata": {
    "tags": []
   },
   "outputs": [
    {
     "name": "stdout",
     "output_type": "stream",
     "text": [
      "{'account': '419974056037',\n",
      " 'detail': {'currentStepStatus': 'Failed',\n",
      "            'failureReason': 'ClientError: Failed to invoke '\n",
      "                             'sagemaker:CreateTrainingJob. Error Details: No '\n",
      "                             'S3 objects found under S3 URL '\n",
      "                             '\"s3://sagemaker-us-east-1-419974056037/dataset/train_.csv\" '\n",
      "                             'given in input data source. Please ensure that '\n",
      "                             'the bucket exists in the selected region '\n",
      "                             '(us-east-1), that objects exist under that S3 '\n",
      "                             'prefix, and that the role '\n",
      "                             '\"arn:aws:iam::419974056037:role/service-role/AmazonSageMaker-ExecutionRole-20221206T163436\" '\n",
      "                             'has \"s3:ListBucket\" permissions on bucket '\n",
      "                             '\"sagemaker-us-east-1-419974056037\".',\n",
      "            'metadata': {},\n",
      "            'pipelineArn': 'arn:aws:sagemaker:us-east-1:419974056037:pipeline/dj-sm-imd-pipeline',\n",
      "            'pipelineExecutionArn': 'arn:aws:sagemaker:us-east-1:419974056037:pipeline/dj-sm-imd-pipeline/execution/x1xt2felyccl',\n",
      "            'previousStepStatus': 'Starting',\n",
      "            'stepEndTime': '2023-05-04T15:31:33Z',\n",
      "            'stepName': 'TrainingProcess',\n",
      "            'stepStartTime': '2023-05-04T15:31:32Z',\n",
      "            'stepType': 'Training'},\n",
      " 'detail-type': 'SageMaker Model Building Pipeline Execution Step Status '\n",
      "                'Change',\n",
      " 'id': '317a4633-524f-2ac3-2cbb-f038c637920e',\n",
      " 'region': 'us-east-1',\n",
      " 'resources': ['arn:aws:sagemaker:us-east-1:419974056037:pipeline/dj-sm-imd-pipeline',\n",
      "               'arn:aws:sagemaker:us-east-1:419974056037:pipeline/dj-sm-imd-pipeline/execution/x1xt2felyccl'],\n",
      " 'source': 'aws.sagemaker',\n",
      " 'time': '2023-05-04T15:31:33Z',\n",
      " 'version': '0'}\n"
     ]
    }
   ],
   "source": [
    "pprint.pprint(aa)"
   ]
  },
  {
   "cell_type": "code",
   "execution_count": 3,
   "id": "9481353e-670f-44f3-8339-07c4a0954cde",
   "metadata": {},
   "outputs": [],
   "source": [
    "meta = {'processingJob': {'arn': 'arn:aws:sagemaker:us-east-1:419974056037:processing-job/pipelines-a1bzloczzdgz-PreprocessingProcess-Z7ov8YlR7l'}}"
   ]
  },
  {
   "cell_type": "code",
   "execution_count": 6,
   "id": "70e15606-c08f-4ec8-958c-6b9d972eafc8",
   "metadata": {
    "tags": []
   },
   "outputs": [],
   "source": []
  },
  {
   "cell_type": "code",
   "execution_count": 1,
   "id": "fab7b79e-7a1a-4e27-b907-fa185374f5e1",
   "metadata": {},
   "outputs": [],
   "source": [
    "res = {'ProcessingResources': {'ClusterConfig': {'InstanceType': 'ml.m5.xlarge', 'InstanceCount': 1, 'VolumeSizeInGB': 30}}, 'AppSpecification': {'ImageUri': '419974056037.dkr.ecr.us-east-1.amazonaws.com/mlops-image-prep:latest', 'ContainerArguments': ['--prefix_prep', '/opt/ml/processing/', '--region', 'us-east-1'], 'ContainerEntrypoint': ['/bin/bash', '/opt/ml/processing/input/entrypoint/runproc.sh']}, 'RoleArn': 'arn:aws:iam::419974056037:role/service-role/AmazonSageMaker-ExecutionRole-20221206T163436', 'ProcessingInputs': [{'InputName': 'input', 'AppManaged': False, 'S3Input': {'S3Uri': 's3://sagemaker-us-east-1-419974056037/DJ-SM-PIPELINE-DATA', 'LocalPath': '/opt/ml/processing/input', 'S3DataType': 'S3Prefix', 'S3InputMode': 'File', 'S3DataDistributionType': 'FullyReplicated', 'S3CompressionType': 'None'}}, {'InputName': 'code', 'AppManaged': False, 'S3Input': {'S3Uri': 's3://sagemaker-us-east-1-419974056037/preprocessing/source/sourcedir.tar.gz', 'LocalPath': '/opt/ml/processing/input/code/', 'S3DataType': 'S3Prefix', 'S3InputMode': 'File', 'S3DataDistributionType': 'FullyReplicated', 'S3CompressionType': 'None'}}, {'InputName': 'entrypoint', 'AppManaged': False, 'S3Input': {'S3Uri': 's3://sagemaker-us-east-1-419974056037/preprocessing/source/runproc.sh', 'LocalPath': '/opt/ml/processing/input/entrypoint', 'S3DataType': 'S3Prefix', 'S3InputMode': 'File', 'S3DataDistributionType': 'FullyReplicated', 'S3CompressionType': 'None'}}], 'ProcessingOutputConfig': {'Outputs': [{'OutputName': 'train-data', 'AppManaged': False, 'S3Output': {'S3Uri': 's3://sagemaker-us-east-1-419974056037/DJ-SM-PIPELINE-MODEL-1/preprocessing/output/train-data', 'LocalPath': '/opt/ml/processing/output/train', 'S3UploadMode': 'EndOfJob'}}, {'OutputName': 'validation-data', 'AppManaged': False, 'S3Output': {'S3Uri': 's3://sagemaker-us-east-1-419974056037/DJ-SM-PIPELINE-MODEL-1/preprocessing/output/validation-data', 'LocalPath': '/opt/ml/processing/output/validation', 'S3UploadMode': 'EndOfJob'}}, {'OutputName': 'test-data', 'AppManaged': False, 'S3Output': {'S3Uri': 's3://sagemaker-us-east-1-419974056037/DJ-SM-PIPELINE-MODEL-1/preprocessing/output/test-data', 'LocalPath': '/opt/ml/processing/output/test', 'S3UploadMode': 'EndOfJob'}}]}}"
   ]
  },
  {
   "cell_type": "code",
   "execution_count": 3,
   "id": "4f48ca20-631e-4f35-96cd-491682a285a7",
   "metadata": {
    "tags": []
   },
   "outputs": [
    {
     "data": {
      "text/plain": [
       "dict_keys(['ProcessingResources', 'AppSpecification', 'RoleArn', 'ProcessingInputs', 'ProcessingOutputConfig'])"
      ]
     },
     "execution_count": 3,
     "metadata": {},
     "output_type": "execute_result"
    }
   ],
   "source": [
    "res.keys()"
   ]
  },
  {
   "cell_type": "code",
   "execution_count": 7,
   "id": "9a96a363-a01c-4551-99e7-83fe86f167d8",
   "metadata": {
    "tags": []
   },
   "outputs": [
    {
     "data": {
      "text/plain": [
       "[{'OutputName': 'train-data',\n",
       "  'AppManaged': False,\n",
       "  'S3Output': {'S3Uri': 's3://sagemaker-us-east-1-419974056037/DJ-SM-PIPELINE-MODEL-1/preprocessing/output/train-data',\n",
       "   'LocalPath': '/opt/ml/processing/output/train',\n",
       "   'S3UploadMode': 'EndOfJob'}},\n",
       " {'OutputName': 'validation-data',\n",
       "  'AppManaged': False,\n",
       "  'S3Output': {'S3Uri': 's3://sagemaker-us-east-1-419974056037/DJ-SM-PIPELINE-MODEL-1/preprocessing/output/validation-data',\n",
       "   'LocalPath': '/opt/ml/processing/output/validation',\n",
       "   'S3UploadMode': 'EndOfJob'}},\n",
       " {'OutputName': 'test-data',\n",
       "  'AppManaged': False,\n",
       "  'S3Output': {'S3Uri': 's3://sagemaker-us-east-1-419974056037/DJ-SM-PIPELINE-MODEL-1/preprocessing/output/test-data',\n",
       "   'LocalPath': '/opt/ml/processing/output/test',\n",
       "   'S3UploadMode': 'EndOfJob'}}]"
      ]
     },
     "execution_count": 7,
     "metadata": {},
     "output_type": "execute_result"
    }
   ],
   "source": [
    "res[\"ProcessingOutputConfig\"][\"Outputs\"]"
   ]
  },
  {
   "cell_type": "code",
   "execution_count": 24,
   "id": "01813cbc-4d3a-470f-85cb-9599edfa0b3a",
   "metadata": {
    "tags": []
   },
   "outputs": [
    {
     "name": "stdout",
     "output_type": "stream",
     "text": [
      "===========================\n",
      "key: ProcessingResources\n",
      "===========================\n",
      "key: AppSpecification\n",
      "===========================\n",
      "key: RoleArn\n",
      "===========================\n",
      "key: ProcessingInputs\n",
      "<class 'dict'> {'InputName': 'input', 'AppManaged': False, 'S3Input': {'S3Uri': 's3://sagemaker-us-east-1-419974056037/DJ-SM-PIPELINE-DATA', 'LocalPath': '/opt/ml/processing/input', 'S3DataType': 'S3Prefix', 'S3InputMode': 'File', 'S3DataDistributionType': 'FullyReplicated', 'S3CompressionType': 'None'}}\n",
      "<class 'dict'> {'InputName': 'code', 'AppManaged': False, 'S3Input': {'S3Uri': 's3://sagemaker-us-east-1-419974056037/preprocessing/source/sourcedir.tar.gz', 'LocalPath': '/opt/ml/processing/input/code/', 'S3DataType': 'S3Prefix', 'S3InputMode': 'File', 'S3DataDistributionType': 'FullyReplicated', 'S3CompressionType': 'None'}}\n",
      "<class 'dict'> {'InputName': 'entrypoint', 'AppManaged': False, 'S3Input': {'S3Uri': 's3://sagemaker-us-east-1-419974056037/preprocessing/source/runproc.sh', 'LocalPath': '/opt/ml/processing/input/entrypoint', 'S3DataType': 'S3Prefix', 'S3InputMode': 'File', 'S3DataDistributionType': 'FullyReplicated', 'S3CompressionType': 'None'}}\n",
      "===========================\n",
      "key: ProcessingOutputConfig\n"
     ]
    }
   ],
   "source": [
    "from pprint import pprint\n",
    "for key, value in res.items():\n",
    "    \n",
    "    \n",
    "    print (\"===========================\")\n",
    "    print (f'key: {key}')\n",
    "    if type(value) == list:\n",
    "        for elem in value:\n",
    "            print (type(elem), elem)\n",
    "    "
   ]
  },
  {
   "cell_type": "code",
   "execution_count": null,
   "id": "52aad569-b42d-40ca-ab65-cea620236643",
   "metadata": {},
   "outputs": [],
   "source": []
  }
 ],
 "metadata": {
  "kernelspec": {
   "display_name": "conda_python3",
   "language": "python",
   "name": "conda_python3"
  },
  "language_info": {
   "codemirror_mode": {
    "name": "ipython",
    "version": 3
   },
   "file_extension": ".py",
   "mimetype": "text/x-python",
   "name": "python",
   "nbconvert_exporter": "python",
   "pygments_lexer": "ipython3",
   "version": "3.10.8"
  }
 },
 "nbformat": 4,
 "nbformat_minor": 5
}
