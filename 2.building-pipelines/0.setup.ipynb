{
 "cells": [
  {
   "cell_type": "markdown",
   "id": "8f3dd71b-f63a-4106-b323-67be004b482e",
   "metadata": {},
   "source": [
    "# <B> Setup for SageMaker Immersion Day with DL Framework </B>\n",
    "* Container: conda_python3"
   ]
  },
  {
   "cell_type": "code",
   "execution_count": 1,
   "id": "4ed76152-6176-4ba7-8250-3ddd1442f2a9",
   "metadata": {
    "collapsed": true,
    "jupyter": {
     "outputs_hidden": true
    },
    "tags": []
   },
   "outputs": [
    {
     "name": "stdout",
     "output_type": "stream",
     "text": [
      "Collecting amazon-codewhisperer-jupyterlab-ext\n",
      "  Downloading amazon-codewhisperer-jupyterlab-ext-2.0.2.tar.gz (121 kB)\n",
      "  Installing build dependencies ... \u001b[?25l|^C\n",
      "\u001b[?25canceled\n",
      "\u001b[31mERROR: Operation cancelled by user\u001b[0m\u001b[31m\n",
      "\u001b[0m^C\n",
      "Traceback (most recent call last):\n",
      "  File \"/home/ec2-user/anaconda3/envs/python3/bin/jupyter-server\", line 6, in <module>\n",
      "    from jupyter_server.serverapp import main\n",
      "  File \"/home/ec2-user/anaconda3/envs/python3/lib/python3.10/site-packages/jupyter_server/serverapp.py\", line 32, in <module>\n",
      "    import jupyter_client\n",
      "  File \"/home/ec2-user/anaconda3/envs/python3/lib/python3.10/site-packages/jupyter_client/__init__.py\", line 3, in <module>\n",
      "    from .asynchronous import AsyncKernelClient\n",
      "  File \"/home/ec2-user/anaconda3/envs/python3/lib/python3.10/site-packages/jupyter_client/asynchronous/__init__.py\", line 1, in <module>\n",
      "    from .client import AsyncKernelClient  # noqa\n",
      "  File \"/home/ec2-user/anaconda3/envs/python3/lib/python3.10/site-packages/jupyter_client/asynchronous/client.py\", line 11, in <module>\n",
      "    from ..channels import AsyncZMQSocketChannel, HBChannel\n",
      "  File \"/home/ec2-user/anaconda3/envs/python3/lib/python3.10/site-packages/jupyter_client/channels.py\", line 16, in <module>\n",
      "    from .session import Session\n",
      "  File \"/home/ec2-user/anaconda3/envs/python3/lib/python3.10/site-packages/jupyter_client/session.py\", line 31, in <module>\n",
      "    from tornado.ioloop import IOLoop\n",
      "  File \"/home/ec2-user/anaconda3/envs/python3/lib/python3.10/site-packages/tornado/ioloop.py\", line 72, in <module>\n",
      "    class IOLoop(Configurable):\n",
      "  File \"/home/ec2-user/anaconda3/envs/python3/lib/python3.10/site-packages/tornado/ioloop.py\", line 742, in IOLoop\n",
      "    def _run_callback(self, callback: Callable[[], Any]) -> None:\n",
      "  File \"/home/ec2-user/anaconda3/envs/python3/lib/python3.10/typing.py\", line 1206, in __getitem__\n",
      "    return self.__getitem_inner__(params)\n",
      "  File \"/home/ec2-user/anaconda3/envs/python3/lib/python3.10/typing.py\", line 309, in inner\n",
      "    return cached(*args, **kwds)\n",
      "  File \"/home/ec2-user/anaconda3/envs/python3/lib/python3.10/typing.py\", line 1219, in __getitem_inner__\n",
      "    return self.copy_with(params)\n",
      "  File \"/home/ec2-user/anaconda3/envs/python3/lib/python3.10/typing.py\", line 1189, in copy_with\n",
      "    return _CallableGenericAlias(self.__origin__, params,\n",
      "  File \"/home/ec2-user/anaconda3/envs/python3/lib/python3.10/typing.py\", line 1027, in __init__\n",
      "    self._paramspec_tvars = _paramspec_tvars\n",
      "  File \"/home/ec2-user/anaconda3/envs/python3/lib/python3.10/typing.py\", line 989, in __setattr__\n",
      "    super().__setattr__(attr, val)\n",
      "KeyboardInterrupt\n"
     ]
    }
   ],
   "source": [
    "import IPython\n",
    "!pip install amazon-codewhisperer-jupyterlab-ext\n",
    "!jupyter server extension enable amazon_codewhisperer_jupyterlab_ext"
   ]
  },
  {
   "cell_type": "code",
   "execution_count": null,
   "id": "808b27bb-bcb3-4b44-bea3-f3a02c6caf1b",
   "metadata": {},
   "outputs": [],
   "source": [
    "#create function to covert a json to"
   ]
  },
  {
   "cell_type": "markdown",
   "id": "aaeaff49-a119-4a0c-b48a-f66ab721c458",
   "metadata": {},
   "source": [
    "## AutoReload"
   ]
  },
  {
   "cell_type": "code",
   "execution_count": 1,
   "id": "9f8f8f99-aaa0-42f9-8695-c8bd1884504c",
   "metadata": {
    "tags": []
   },
   "outputs": [],
   "source": [
    "%load_ext autoreload\n",
    "%autoreload 2"
   ]
  },
  {
   "cell_type": "markdown",
   "id": "62d2ac87-cf90-4ffb-8fe2-06227564a280",
   "metadata": {},
   "source": [
    "## 0. Install packages"
   ]
  },
  {
   "cell_type": "code",
   "execution_count": 4,
   "id": "d61ee4ad-7bb7-4627-9631-835d46d2ed0a",
   "metadata": {
    "tags": []
   },
   "outputs": [],
   "source": [
    "install_needed = True  # should only be True once\n",
    "# install_needed = False"
   ]
  },
  {
   "cell_type": "code",
   "execution_count": 5,
   "id": "158d6997-f4ce-47f3-862c-052010bf697a",
   "metadata": {
    "tags": []
   },
   "outputs": [
    {
     "name": "stdout",
     "output_type": "stream",
     "text": [
      "Already revised\n"
     ]
    }
   ],
   "source": [
    "%%bash\n",
    "#!/bin/bash\n",
    "\n",
    "DAEMON_PATH=\"/etc/docker\"\n",
    "MEMORY_SIZE=10G\n",
    "\n",
    "FLAG=$(cat $DAEMON_PATH/daemon.json | jq 'has(\"data-root\")')\n",
    "# echo $FLAG\n",
    "\n",
    "if [ \"$FLAG\" == true ]; then\n",
    "    echo \"Already revised\"\n",
    "else\n",
    "    echo \"Add data-root and default-shm-size=$MEMORY_SIZE\"\n",
    "    sudo cp $DAEMON_PATH/daemon.json $DAEMON_PATH/daemon.json.bak\n",
    "    sudo cat $DAEMON_PATH/daemon.json.bak | jq '. += {\"data-root\":\"/home/ec2-user/SageMaker/.container/docker\",\"default-shm-size\":\"'$MEMORY_SIZE'\"}' | sudo tee $DAEMON_PATH/daemon.json > /dev/null\n",
    "    sudo service docker restart\n",
    "    echo \"Docker Restart\"\n",
    "fi"
   ]
  },
  {
   "cell_type": "code",
   "execution_count": 6,
   "id": "860c928e-4ab4-4b61-809c-834464579283",
   "metadata": {
    "collapsed": true,
    "jupyter": {
     "outputs_hidden": true
    },
    "tags": []
   },
   "outputs": [
    {
     "name": "stdout",
     "output_type": "stream",
     "text": [
      "installing deps and restarting kernel\n",
      "Requirement already satisfied: pip in /home/ec2-user/anaconda3/envs/python3/lib/python3.10/site-packages (24.3.1)\n",
      "Requirement already satisfied: smdebug in /home/ec2-user/anaconda3/envs/python3/lib/python3.10/site-packages (1.0.34)\n",
      "Requirement already satisfied: sagemaker-experiments in /home/ec2-user/anaconda3/envs/python3/lib/python3.10/site-packages (0.1.45)\n",
      "Requirement already satisfied: protobuf<=3.20.3,>=3.20.0 in /home/ec2-user/anaconda3/envs/python3/lib/python3.10/site-packages (from smdebug) (3.20.3)\n",
      "Requirement already satisfied: numpy>=1.16.0 in /home/ec2-user/anaconda3/envs/python3/lib/python3.10/site-packages (from smdebug) (1.26.4)\n",
      "Requirement already satisfied: packaging in /home/ec2-user/anaconda3/envs/python3/lib/python3.10/site-packages (from smdebug) (23.2)\n",
      "Requirement already satisfied: boto3>=1.10.32 in /home/ec2-user/anaconda3/envs/python3/lib/python3.10/site-packages (from smdebug) (1.35.83)\n",
      "Requirement already satisfied: pyinstrument==3.4.2 in /home/ec2-user/anaconda3/envs/python3/lib/python3.10/site-packages (from smdebug) (3.4.2)\n",
      "Requirement already satisfied: pyinstrument-cext>=0.2.2 in /home/ec2-user/anaconda3/envs/python3/lib/python3.10/site-packages (from pyinstrument==3.4.2->smdebug) (0.2.4)\n",
      "Requirement already satisfied: botocore<1.36.0,>=1.35.83 in /home/ec2-user/anaconda3/envs/python3/lib/python3.10/site-packages (from boto3>=1.10.32->smdebug) (1.35.83)\n",
      "Requirement already satisfied: jmespath<2.0.0,>=0.7.1 in /home/ec2-user/anaconda3/envs/python3/lib/python3.10/site-packages (from boto3>=1.10.32->smdebug) (1.0.1)\n",
      "Requirement already satisfied: s3transfer<0.11.0,>=0.10.0 in /home/ec2-user/anaconda3/envs/python3/lib/python3.10/site-packages (from boto3>=1.10.32->smdebug) (0.10.1)\n",
      "Requirement already satisfied: python-dateutil<3.0.0,>=2.1 in /home/ec2-user/anaconda3/envs/python3/lib/python3.10/site-packages (from botocore<1.36.0,>=1.35.83->boto3>=1.10.32->smdebug) (2.9.0)\n",
      "Requirement already satisfied: urllib3!=2.2.0,<3,>=1.25.4 in /home/ec2-user/anaconda3/envs/python3/lib/python3.10/site-packages (from botocore<1.36.0,>=1.35.83->boto3>=1.10.32->smdebug) (2.2.3)\n",
      "Requirement already satisfied: six>=1.5 in /home/ec2-user/anaconda3/envs/python3/lib/python3.10/site-packages (from python-dateutil<3.0.0,>=2.1->botocore<1.36.0,>=1.35.83->boto3>=1.10.32->smdebug) (1.16.0)\n",
      "Requirement already satisfied: sagemaker in /home/ec2-user/anaconda3/envs/python3/lib/python3.10/site-packages (2.237.3)\n",
      "Requirement already satisfied: attrs<24,>=23.1.0 in /home/ec2-user/anaconda3/envs/python3/lib/python3.10/site-packages (from sagemaker) (23.2.0)\n",
      "Requirement already satisfied: boto3<2.0,>=1.35.75 in /home/ec2-user/anaconda3/envs/python3/lib/python3.10/site-packages (from sagemaker) (1.35.83)\n",
      "Requirement already satisfied: cloudpickle>=2.2.1 in /home/ec2-user/anaconda3/envs/python3/lib/python3.10/site-packages (from sagemaker) (2.2.1)\n",
      "Requirement already satisfied: docker in /home/ec2-user/anaconda3/envs/python3/lib/python3.10/site-packages (from sagemaker) (6.1.3)\n",
      "Requirement already satisfied: fastapi in /home/ec2-user/anaconda3/envs/python3/lib/python3.10/site-packages (from sagemaker) (0.115.6)\n",
      "Requirement already satisfied: google-pasta in /home/ec2-user/anaconda3/envs/python3/lib/python3.10/site-packages (from sagemaker) (0.2.0)\n",
      "Requirement already satisfied: importlib-metadata<7.0,>=1.4.0 in /home/ec2-user/anaconda3/envs/python3/lib/python3.10/site-packages (from sagemaker) (6.11.0)\n",
      "Requirement already satisfied: jsonschema in /home/ec2-user/anaconda3/envs/python3/lib/python3.10/site-packages (from sagemaker) (4.21.1)\n",
      "Requirement already satisfied: numpy<2.0,>=1.9.0 in /home/ec2-user/anaconda3/envs/python3/lib/python3.10/site-packages (from sagemaker) (1.26.4)\n",
      "Requirement already satisfied: omegaconf<2.3,>=2.2 in /home/ec2-user/anaconda3/envs/python3/lib/python3.10/site-packages (from sagemaker) (2.2.3)\n",
      "Requirement already satisfied: packaging>=20.0 in /home/ec2-user/anaconda3/envs/python3/lib/python3.10/site-packages (from sagemaker) (23.2)\n",
      "Requirement already satisfied: pandas in /home/ec2-user/anaconda3/envs/python3/lib/python3.10/site-packages (from sagemaker) (2.2.2)\n",
      "Requirement already satisfied: pathos in /home/ec2-user/anaconda3/envs/python3/lib/python3.10/site-packages (from sagemaker) (0.3.2)\n",
      "Requirement already satisfied: platformdirs in /home/ec2-user/anaconda3/envs/python3/lib/python3.10/site-packages (from sagemaker) (4.2.0)\n",
      "Requirement already satisfied: protobuf<6.0,>=3.12 in /home/ec2-user/anaconda3/envs/python3/lib/python3.10/site-packages (from sagemaker) (3.20.3)\n",
      "Requirement already satisfied: psutil in /home/ec2-user/anaconda3/envs/python3/lib/python3.10/site-packages (from sagemaker) (5.9.8)\n",
      "Requirement already satisfied: pyyaml~=6.0 in /home/ec2-user/anaconda3/envs/python3/lib/python3.10/site-packages (from sagemaker) (6.0.1)\n",
      "Requirement already satisfied: requests in /home/ec2-user/anaconda3/envs/python3/lib/python3.10/site-packages (from sagemaker) (2.32.3)\n",
      "Requirement already satisfied: sagemaker-core<2.0.0,>=1.0.17 in /home/ec2-user/anaconda3/envs/python3/lib/python3.10/site-packages (from sagemaker) (1.0.17)\n",
      "Requirement already satisfied: schema in /home/ec2-user/anaconda3/envs/python3/lib/python3.10/site-packages (from sagemaker) (0.7.7)\n",
      "Requirement already satisfied: smdebug-rulesconfig==1.0.1 in /home/ec2-user/anaconda3/envs/python3/lib/python3.10/site-packages (from sagemaker) (1.0.1)\n",
      "Requirement already satisfied: tblib<4,>=1.7.0 in /home/ec2-user/anaconda3/envs/python3/lib/python3.10/site-packages (from sagemaker) (3.0.0)\n",
      "Requirement already satisfied: tqdm in /home/ec2-user/anaconda3/envs/python3/lib/python3.10/site-packages (from sagemaker) (4.67.1)\n",
      "Requirement already satisfied: urllib3<3.0.0,>=1.26.8 in /home/ec2-user/anaconda3/envs/python3/lib/python3.10/site-packages (from sagemaker) (2.2.3)\n",
      "Requirement already satisfied: uvicorn in /home/ec2-user/anaconda3/envs/python3/lib/python3.10/site-packages (from sagemaker) (0.29.0)\n",
      "Requirement already satisfied: botocore<1.36.0,>=1.35.83 in /home/ec2-user/anaconda3/envs/python3/lib/python3.10/site-packages (from boto3<2.0,>=1.35.75->sagemaker) (1.35.83)\n",
      "Requirement already satisfied: jmespath<2.0.0,>=0.7.1 in /home/ec2-user/anaconda3/envs/python3/lib/python3.10/site-packages (from boto3<2.0,>=1.35.75->sagemaker) (1.0.1)\n",
      "Requirement already satisfied: s3transfer<0.11.0,>=0.10.0 in /home/ec2-user/anaconda3/envs/python3/lib/python3.10/site-packages (from boto3<2.0,>=1.35.75->sagemaker) (0.10.1)\n",
      "Requirement already satisfied: zipp>=0.5 in /home/ec2-user/anaconda3/envs/python3/lib/python3.10/site-packages (from importlib-metadata<7.0,>=1.4.0->sagemaker) (3.17.0)\n",
      "Requirement already satisfied: antlr4-python3-runtime==4.9.* in /home/ec2-user/anaconda3/envs/python3/lib/python3.10/site-packages (from omegaconf<2.3,>=2.2->sagemaker) (4.9.3)\n",
      "Requirement already satisfied: pydantic<3.0.0,>=2.0.0 in /home/ec2-user/anaconda3/envs/python3/lib/python3.10/site-packages (from sagemaker-core<2.0.0,>=1.0.17->sagemaker) (2.9.2)\n",
      "Requirement already satisfied: rich<14.0.0,>=13.0.0 in /home/ec2-user/anaconda3/envs/python3/lib/python3.10/site-packages (from sagemaker-core<2.0.0,>=1.0.17->sagemaker) (13.7.1)\n",
      "Requirement already satisfied: mock<5.0,>4.0 in /home/ec2-user/anaconda3/envs/python3/lib/python3.10/site-packages (from sagemaker-core<2.0.0,>=1.0.17->sagemaker) (4.0.3)\n",
      "Requirement already satisfied: jsonschema-specifications>=2023.03.6 in /home/ec2-user/anaconda3/envs/python3/lib/python3.10/site-packages (from jsonschema->sagemaker) (2023.12.1)\n",
      "Requirement already satisfied: referencing>=0.28.4 in /home/ec2-user/anaconda3/envs/python3/lib/python3.10/site-packages (from jsonschema->sagemaker) (0.34.0)\n",
      "Requirement already satisfied: rpds-py>=0.7.1 in /home/ec2-user/anaconda3/envs/python3/lib/python3.10/site-packages (from jsonschema->sagemaker) (0.18.0)\n",
      "Requirement already satisfied: websocket-client>=0.32.0 in /home/ec2-user/anaconda3/envs/python3/lib/python3.10/site-packages (from docker->sagemaker) (1.7.0)\n",
      "Requirement already satisfied: charset-normalizer<4,>=2 in /home/ec2-user/anaconda3/envs/python3/lib/python3.10/site-packages (from requests->sagemaker) (3.3.2)\n",
      "Requirement already satisfied: idna<4,>=2.5 in /home/ec2-user/anaconda3/envs/python3/lib/python3.10/site-packages (from requests->sagemaker) (3.6)\n",
      "Requirement already satisfied: certifi>=2017.4.17 in /home/ec2-user/anaconda3/envs/python3/lib/python3.10/site-packages (from requests->sagemaker) (2024.8.30)\n",
      "Requirement already satisfied: starlette<0.42.0,>=0.40.0 in /home/ec2-user/anaconda3/envs/python3/lib/python3.10/site-packages (from fastapi->sagemaker) (0.41.3)\n",
      "Requirement already satisfied: typing-extensions>=4.8.0 in /home/ec2-user/anaconda3/envs/python3/lib/python3.10/site-packages (from fastapi->sagemaker) (4.10.0)\n",
      "Requirement already satisfied: six in /home/ec2-user/anaconda3/envs/python3/lib/python3.10/site-packages (from google-pasta->sagemaker) (1.16.0)\n",
      "Requirement already satisfied: python-dateutil>=2.8.2 in /home/ec2-user/anaconda3/envs/python3/lib/python3.10/site-packages (from pandas->sagemaker) (2.9.0)\n",
      "Requirement already satisfied: pytz>=2020.1 in /home/ec2-user/anaconda3/envs/python3/lib/python3.10/site-packages (from pandas->sagemaker) (2024.1)\n",
      "Requirement already satisfied: tzdata>=2022.7 in /home/ec2-user/anaconda3/envs/python3/lib/python3.10/site-packages (from pandas->sagemaker) (2024.1)\n",
      "Requirement already satisfied: ppft>=1.7.6.8 in /home/ec2-user/anaconda3/envs/python3/lib/python3.10/site-packages (from pathos->sagemaker) (1.7.6.8)\n",
      "Requirement already satisfied: dill>=0.3.8 in /home/ec2-user/anaconda3/envs/python3/lib/python3.10/site-packages (from pathos->sagemaker) (0.3.8)\n",
      "Requirement already satisfied: pox>=0.3.4 in /home/ec2-user/anaconda3/envs/python3/lib/python3.10/site-packages (from pathos->sagemaker) (0.3.4)\n",
      "Requirement already satisfied: multiprocess>=0.70.16 in /home/ec2-user/anaconda3/envs/python3/lib/python3.10/site-packages (from pathos->sagemaker) (0.70.16)\n",
      "Requirement already satisfied: click>=7.0 in /home/ec2-user/anaconda3/envs/python3/lib/python3.10/site-packages (from uvicorn->sagemaker) (8.1.7)\n",
      "Requirement already satisfied: h11>=0.8 in /home/ec2-user/anaconda3/envs/python3/lib/python3.10/site-packages (from uvicorn->sagemaker) (0.14.0)\n",
      "Requirement already satisfied: annotated-types>=0.6.0 in /home/ec2-user/anaconda3/envs/python3/lib/python3.10/site-packages (from pydantic<3.0.0,>=2.0.0->sagemaker-core<2.0.0,>=1.0.17->sagemaker) (0.6.0)\n",
      "Requirement already satisfied: pydantic-core==2.23.4 in /home/ec2-user/anaconda3/envs/python3/lib/python3.10/site-packages (from pydantic<3.0.0,>=2.0.0->sagemaker-core<2.0.0,>=1.0.17->sagemaker) (2.23.4)\n",
      "Requirement already satisfied: markdown-it-py>=2.2.0 in /home/ec2-user/anaconda3/envs/python3/lib/python3.10/site-packages (from rich<14.0.0,>=13.0.0->sagemaker-core<2.0.0,>=1.0.17->sagemaker) (3.0.0)\n",
      "Requirement already satisfied: pygments<3.0.0,>=2.13.0 in /home/ec2-user/anaconda3/envs/python3/lib/python3.10/site-packages (from rich<14.0.0,>=13.0.0->sagemaker-core<2.0.0,>=1.0.17->sagemaker) (2.17.2)\n",
      "Requirement already satisfied: anyio<5,>=3.4.0 in /home/ec2-user/anaconda3/envs/python3/lib/python3.10/site-packages (from starlette<0.42.0,>=0.40.0->fastapi->sagemaker) (4.3.0)\n",
      "Requirement already satisfied: sniffio>=1.1 in /home/ec2-user/anaconda3/envs/python3/lib/python3.10/site-packages (from anyio<5,>=3.4.0->starlette<0.42.0,>=0.40.0->fastapi->sagemaker) (1.3.1)\n",
      "Requirement already satisfied: exceptiongroup>=1.0.2 in /home/ec2-user/anaconda3/envs/python3/lib/python3.10/site-packages (from anyio<5,>=3.4.0->starlette<0.42.0,>=0.40.0->fastapi->sagemaker) (1.2.0)\n",
      "Requirement already satisfied: mdurl~=0.1 in /home/ec2-user/anaconda3/envs/python3/lib/python3.10/site-packages (from markdown-it-py>=2.2.0->rich<14.0.0,>=13.0.0->sagemaker-core<2.0.0,>=1.0.17->sagemaker) (0.1.2)\n",
      "Found existing installation: pycodestyle 2.10.0\n",
      "Uninstalling pycodestyle-2.10.0:\n",
      "  Successfully uninstalled pycodestyle-2.10.0\n"
     ]
    }
   ],
   "source": [
    "import sys\n",
    "import IPython\n",
    "\n",
    "if install_needed:\n",
    "    print(\"installing deps and restarting kernel\")\n",
    "    !{sys.executable} -m pip install -U pip\n",
    "    !{sys.executable} -m pip install -U smdebug sagemaker-experiments\n",
    "    !{sys.executable} -m pip install -U sagemaker\n",
    "    !{sys.executable} -m pip uninstall pycodestyle -y\n",
    "    \n",
    "    IPython.Application.instance().kernel.do_shutdown(True)"
   ]
  },
  {
   "cell_type": "markdown",
   "id": "9d235cc4-356c-43e0-99ca-fea913797c99",
   "metadata": {},
   "source": [
    "## 1. Set roles"
   ]
  },
  {
   "cell_type": "code",
   "execution_count": 2,
   "id": "1f3a2019-2337-4b48-9bd8-f577ac13daed",
   "metadata": {
    "tags": []
   },
   "outputs": [
    {
     "name": "stderr",
     "output_type": "stream",
     "text": [
      "/home/ec2-user/anaconda3/envs/python3/lib/python3.10/site-packages/pydantic/_internal/_fields.py:172: UserWarning: Field name \"json\" in \"MonitoringDatasetFormat\" shadows an attribute in parent \"Base\"\n",
      "  warnings.warn(\n"
     ]
    },
    {
     "data": {
      "text/html": [
       "<pre style=\"white-space:pre;overflow-x:auto;line-height:normal;font-family:Menlo,'DejaVu Sans Mono',consolas,'Courier New',monospace\"><span style=\"color: #7fbfbf; text-decoration-color: #7fbfbf\">[01/10/25 08:57:40] </span><span style=\"color: #0069ff; text-decoration-color: #0069ff; font-weight: bold\">INFO    </span> Found credentials from IAM Role:                                   <a href=\"file:///home/ec2-user/anaconda3/envs/python3/lib/python3.10/site-packages/botocore/credentials.py\" target=\"_blank\"><span style=\"color: #7f7f7f; text-decoration-color: #7f7f7f\">credentials.py</span></a><span style=\"color: #7f7f7f; text-decoration-color: #7f7f7f\">:</span><a href=\"file:///home/ec2-user/anaconda3/envs/python3/lib/python3.10/site-packages/botocore/credentials.py#1075\" target=\"_blank\"><span style=\"color: #7f7f7f; text-decoration-color: #7f7f7f\">1075</span></a>\n",
       "<span style=\"color: #7fbfbf; text-decoration-color: #7fbfbf\">                    </span>         BaseNotebookInstanceEc2InstanceRole                                <span style=\"color: #7f7f7f; text-decoration-color: #7f7f7f\">                   </span>\n",
       "</pre>\n"
      ],
      "text/plain": [
       "\u001b[2;36m[01/10/25 08:57:40]\u001b[0m\u001b[2;36m \u001b[0m\u001b[1;38;2;0;105;255mINFO    \u001b[0m Found credentials from IAM Role:                                   \u001b]8;id=821623;file:///home/ec2-user/anaconda3/envs/python3/lib/python3.10/site-packages/botocore/credentials.py\u001b\\\u001b[2mcredentials.py\u001b[0m\u001b]8;;\u001b\\\u001b[2m:\u001b[0m\u001b]8;id=791262;file:///home/ec2-user/anaconda3/envs/python3/lib/python3.10/site-packages/botocore/credentials.py#1075\u001b\\\u001b[2m1075\u001b[0m\u001b]8;;\u001b\\\n",
       "\u001b[2;36m                    \u001b[0m         BaseNotebookInstanceEc2InstanceRole                                \u001b[2m                   \u001b[0m\n"
      ]
     },
     "metadata": {},
     "output_type": "display_data"
    },
    {
     "name": "stdout",
     "output_type": "stream",
     "text": [
      "sagemaker.config INFO - Not applying SDK defaults from location: /etc/xdg/sagemaker/config.yaml\n",
      "sagemaker.config INFO - Not applying SDK defaults from location: /home/ec2-user/.config/sagemaker/config.yaml\n"
     ]
    }
   ],
   "source": [
    "from sagemaker import get_execution_role"
   ]
  },
  {
   "cell_type": "code",
   "execution_count": 3,
   "id": "3be71d18-b4b7-4196-abf1-1922f3013c4e",
   "metadata": {
    "tags": []
   },
   "outputs": [
    {
     "data": {
      "text/html": [
       "<pre style=\"white-space:pre;overflow-x:auto;line-height:normal;font-family:Menlo,'DejaVu Sans Mono',consolas,'Courier New',monospace\"><span style=\"color: #7fbfbf; text-decoration-color: #7fbfbf\">                    </span><span style=\"color: #0069ff; text-decoration-color: #0069ff; font-weight: bold\">INFO    </span> Found credentials from IAM Role:                                   <a href=\"file:///home/ec2-user/anaconda3/envs/python3/lib/python3.10/site-packages/botocore/credentials.py\" target=\"_blank\"><span style=\"color: #7f7f7f; text-decoration-color: #7f7f7f\">credentials.py</span></a><span style=\"color: #7f7f7f; text-decoration-color: #7f7f7f\">:</span><a href=\"file:///home/ec2-user/anaconda3/envs/python3/lib/python3.10/site-packages/botocore/credentials.py#1075\" target=\"_blank\"><span style=\"color: #7f7f7f; text-decoration-color: #7f7f7f\">1075</span></a>\n",
       "<span style=\"color: #7fbfbf; text-decoration-color: #7fbfbf\">                    </span>         BaseNotebookInstanceEc2InstanceRole                                <span style=\"color: #7f7f7f; text-decoration-color: #7f7f7f\">                   </span>\n",
       "</pre>\n"
      ],
      "text/plain": [
       "\u001b[2;36m                   \u001b[0m\u001b[2;36m \u001b[0m\u001b[1;38;2;0;105;255mINFO    \u001b[0m Found credentials from IAM Role:                                   \u001b]8;id=994678;file:///home/ec2-user/anaconda3/envs/python3/lib/python3.10/site-packages/botocore/credentials.py\u001b\\\u001b[2mcredentials.py\u001b[0m\u001b]8;;\u001b\\\u001b[2m:\u001b[0m\u001b]8;id=691186;file:///home/ec2-user/anaconda3/envs/python3/lib/python3.10/site-packages/botocore/credentials.py#1075\u001b\\\u001b[2m1075\u001b[0m\u001b]8;;\u001b\\\n",
       "\u001b[2;36m                    \u001b[0m         BaseNotebookInstanceEc2InstanceRole                                \u001b[2m                   \u001b[0m\n"
      ]
     },
     "metadata": {},
     "output_type": "display_data"
    },
    {
     "name": "stdout",
     "output_type": "stream",
     "text": [
      "SageMaker Execution Role Name: AmazonSageMaker-ExecutionRole-20240211T155431\n"
     ]
    }
   ],
   "source": [
    "strSageMakerRoleName = get_execution_role().rsplit('/', 1)[-1]\n",
    "print (f\"SageMaker Execution Role Name: {strSageMakerRoleName}\")"
   ]
  },
  {
   "cell_type": "markdown",
   "id": "8acda191-5a24-4904-b637-92e9bfd580e2",
   "metadata": {},
   "source": [
    "### 1.1 Attach IAM polich to sagemaker execution role (<b>with console</b>)\n",
    "> step 1. IAM console 로 이동    \n",
    ">\n",
    "> step 2. 왼쪽 네비게이터에서  \"Role\" 선택  \n",
    "> ![nn](images/Role.png)  \n",
    ">\n",
    "> step 3. SageMaker Execution Role 검색 후 role 선택 (상위 cell output 참조)  \n",
    "> ![nn](images/search-by-rolename.png)  \n",
    ">\n",
    "> step 4. \"attach policies\" 메뉴 선택 \n",
    "> ![nn](images/attach-policy-menu.png)  \n",
    ">\n",
    "> step 5. \"IAMFullAccess\" policy 검색 후 attach \n",
    "> ![nn](images/attach-policy.png) "
   ]
  },
  {
   "cell_type": "code",
   "execution_count": 4,
   "id": "c258dc86-c198-4458-8679-ae99eddfd01c",
   "metadata": {
    "tags": []
   },
   "outputs": [],
   "source": [
    "from utils.iam import iam_handler"
   ]
  },
  {
   "cell_type": "code",
   "execution_count": 5,
   "id": "a54390cd-9d8b-49c3-8f2c-1bfaed27936e",
   "metadata": {
    "tags": []
   },
   "outputs": [
    {
     "data": {
      "text/html": [
       "<pre style=\"white-space:pre;overflow-x:auto;line-height:normal;font-family:Menlo,'DejaVu Sans Mono',consolas,'Courier New',monospace\"><span style=\"color: #7fbfbf; text-decoration-color: #7fbfbf\">                    </span><span style=\"color: #0069ff; text-decoration-color: #0069ff; font-weight: bold\">INFO    </span> Found credentials from IAM Role:                                   <a href=\"file:///home/ec2-user/anaconda3/envs/python3/lib/python3.10/site-packages/botocore/credentials.py\" target=\"_blank\"><span style=\"color: #7f7f7f; text-decoration-color: #7f7f7f\">credentials.py</span></a><span style=\"color: #7f7f7f; text-decoration-color: #7f7f7f\">:</span><a href=\"file:///home/ec2-user/anaconda3/envs/python3/lib/python3.10/site-packages/botocore/credentials.py#1075\" target=\"_blank\"><span style=\"color: #7f7f7f; text-decoration-color: #7f7f7f\">1075</span></a>\n",
       "<span style=\"color: #7fbfbf; text-decoration-color: #7fbfbf\">                    </span>         BaseNotebookInstanceEc2InstanceRole                                <span style=\"color: #7f7f7f; text-decoration-color: #7f7f7f\">                   </span>\n",
       "</pre>\n"
      ],
      "text/plain": [
       "\u001b[2;36m                   \u001b[0m\u001b[2;36m \u001b[0m\u001b[1;38;2;0;105;255mINFO    \u001b[0m Found credentials from IAM Role:                                   \u001b]8;id=363802;file:///home/ec2-user/anaconda3/envs/python3/lib/python3.10/site-packages/botocore/credentials.py\u001b\\\u001b[2mcredentials.py\u001b[0m\u001b]8;;\u001b\\\u001b[2m:\u001b[0m\u001b]8;id=228088;file:///home/ec2-user/anaconda3/envs/python3/lib/python3.10/site-packages/botocore/credentials.py#1075\u001b\\\u001b[2m1075\u001b[0m\u001b]8;;\u001b\\\n",
       "\u001b[2;36m                    \u001b[0m         BaseNotebookInstanceEc2InstanceRole                                \u001b[2m                   \u001b[0m\n"
      ]
     },
     "metadata": {},
     "output_type": "display_data"
    }
   ],
   "source": [
    "iam = iam_handler()"
   ]
  },
  {
   "cell_type": "code",
   "execution_count": 6,
   "id": "8e152954-1c5f-4408-acf1-96a946b389cc",
   "metadata": {
    "tags": []
   },
   "outputs": [],
   "source": [
    "strID = \"DJ\"\n",
    "strPrefix = f'{strID}-SM-PIPELINE'"
   ]
  },
  {
   "cell_type": "code",
   "execution_count": 7,
   "id": "2e2065e1-7a8a-49a8-8661-886e3ea7dc15",
   "metadata": {
    "tags": []
   },
   "outputs": [
    {
     "data": {
      "text/plain": [
       "'DJ-SM-PIPELINE'"
      ]
     },
     "execution_count": 7,
     "metadata": {},
     "output_type": "execute_result"
    }
   ],
   "source": [
    "strPrefix"
   ]
  },
  {
   "cell_type": "markdown",
   "id": "b227ef91-1417-4295-9534-3196766279f8",
   "metadata": {},
   "source": [
    "### 1.2 Attach policy - sagemaker execution role\n",
    "> SSM  \n",
    "> S3 <BR>\n",
    "> CodeCommit <BR>\n",
    "> CodeBuild <BR>\n",
    "> CodePipeline <BR>\n",
    "> EventBridge <BR>\n",
    "> Lambda <BR>\n",
    "> ECR"
   ]
  },
  {
   "cell_type": "code",
   "execution_count": 8,
   "id": "6c963c5c-ff7c-4622-b45f-6ead188d3e75",
   "metadata": {
    "tags": []
   },
   "outputs": [],
   "source": [
    "listPolicyArn=[\n",
    "    \"arn:aws:iam::aws:policy/AmazonSSMFullAccess\",\n",
    "    #\"arn:aws:iam::aws:policy/AmazonS3FullAccess\",\n",
    "    \"arn:aws:iam::aws:policy/AWSCodeCommitFullAccess\",\n",
    "    \"arn:aws:iam::aws:policy/AWSCodeBuildAdminAccess\",\n",
    "    \"arn:aws:iam::aws:policy/AWSCodePipeline_FullAccess\",\n",
    "    \"arn:aws:iam::aws:policy/AmazonEventBridgeFullAccess\",\n",
    "    \"arn:aws:iam::aws:policy/AWSLambda_FullAccess\",\n",
    "    \"arn:aws:iam::aws:policy/AmazonEC2ContainerRegistryFullAccess\"\n",
    "]\n",
    "for strPolicyArn in listPolicyArn: iam.attach_policy(strSageMakerRoleName, strPolicyArn)"
   ]
  },
  {
   "cell_type": "markdown",
   "id": "be7efd68-8807-4df9-b44c-a0e390467ad4",
   "metadata": {},
   "source": [
    "### 1.3 Create role for lambda"
   ]
  },
  {
   "cell_type": "code",
   "execution_count": 9,
   "id": "26b57063-9b68-48ce-96a6-03de36614436",
   "metadata": {
    "tags": []
   },
   "outputs": [],
   "source": [
    "listService = [\"lambda.amazonaws.com\"]\n",
    "strRoleName = \"-\".join([strPrefix, \"LabmdaRole\"])\n",
    "listPolicyArn = [\n",
    "    \"arn:aws:iam::aws:policy/service-role/AWSLambdaBasicExecutionRole\",\n",
    "    \"arn:aws:iam::aws:policy/AWSLambda_FullAccess\",\n",
    "    \"arn:aws:iam::aws:policy/AmazonSageMakerFullAccess\",\n",
    "    \"arn:aws:iam::aws:policy/AmazonSNSFullAccess\",\n",
    "]\n",
    "strDescription=\"Role for Lambda to call SageMaker functions'\""
   ]
  },
  {
   "cell_type": "code",
   "execution_count": 10,
   "id": "cca0ef7d-41c7-4338-b157-43a2fc049dc2",
   "metadata": {
    "tags": []
   },
   "outputs": [
    {
     "name": "stdout",
     "output_type": "stream",
     "text": [
      "== CREATE ROLE ==\n",
      "  Role Name: [DJ-SM-PIPELINE-LabmdaRole] is already exist!!, so, this will be deleted and re-created.\n",
      "{'ResponseMetadata': {'RequestId': '5714003c-1990-4e43-9c37-98a9f98bc926', 'HTTPStatusCode': 200, 'HTTPHeaders': {'date': 'Fri, 10 Jan 2025 08:57:43 GMT', 'x-amzn-requestid': '5714003c-1990-4e43-9c37-98a9f98bc926', 'content-type': 'text/xml', 'content-length': '212'}, 'RetryAttempts': 0}}\n",
      "arn:aws:iam::aws:policy/service-role/AWSLambdaBasicExecutionRole\n",
      "{'ResponseMetadata': {'RequestId': 'e6122175-1d1d-41e8-a872-a8826529835a', 'HTTPStatusCode': 200, 'HTTPHeaders': {'date': 'Fri, 10 Jan 2025 08:57:44 GMT', 'x-amzn-requestid': 'e6122175-1d1d-41e8-a872-a8826529835a', 'content-type': 'text/xml', 'content-length': '212'}, 'RetryAttempts': 0}}\n",
      "arn:aws:iam::aws:policy/AmazonSNSFullAccess\n",
      "{'ResponseMetadata': {'RequestId': '9549226a-f744-47df-80d1-2bda35fe83c3', 'HTTPStatusCode': 200, 'HTTPHeaders': {'date': 'Fri, 10 Jan 2025 08:57:44 GMT', 'x-amzn-requestid': '9549226a-f744-47df-80d1-2bda35fe83c3', 'content-type': 'text/xml', 'content-length': '212'}, 'RetryAttempts': 0}}\n",
      "arn:aws:iam::aws:policy/AmazonSageMakerFullAccess\n",
      "{'ResponseMetadata': {'RequestId': '9922efb4-bb88-49c0-8ff5-b42b980b339c', 'HTTPStatusCode': 200, 'HTTPHeaders': {'date': 'Fri, 10 Jan 2025 08:57:44 GMT', 'x-amzn-requestid': '9922efb4-bb88-49c0-8ff5-b42b980b339c', 'content-type': 'text/xml', 'content-length': '212'}, 'RetryAttempts': 0}}\n",
      "arn:aws:iam::aws:policy/AWSLambda_FullAccess\n",
      "  Service name: ['lambda.amazonaws.com'], \n",
      "  Role name: DJ-SM-PIPELINE-LabmdaRole, \n",
      "  Policys: ['arn:aws:iam::aws:policy/service-role/AWSLambdaBasicExecutionRole', 'arn:aws:iam::aws:policy/AWSLambda_FullAccess', 'arn:aws:iam::aws:policy/AmazonSageMakerFullAccess', 'arn:aws:iam::aws:policy/AmazonSNSFullAccess'], \n",
      "  Role ARN: arn:aws:iam::419974056037:role/DJ-SM-PIPELINE-LabmdaRole\n",
      "== COMPLETED ==\n"
     ]
    }
   ],
   "source": [
    "lambdaRoleArn = iam.create_role(\n",
    "    listService=listService,\n",
    "    strRoleName=strRoleName,\n",
    "    listPolicyArn = listPolicyArn,\n",
    "    strDescription=strDescription\n",
    ")"
   ]
  },
  {
   "cell_type": "markdown",
   "id": "b3f8125a-f642-4e5e-96a9-342ba4286e1d",
   "metadata": {
    "tags": []
   },
   "source": [
    "### 1.4 role-codebuild"
   ]
  },
  {
   "cell_type": "code",
   "execution_count": 11,
   "id": "641cf8dd-7fcf-4851-b90b-3ea82fe99726",
   "metadata": {
    "tags": []
   },
   "outputs": [],
   "source": [
    "listService = [\"codebuild.amazonaws.com\", \"sagemaker.amazonaws.com\"]\n",
    "strRoleName = \"-\".join([strPrefix, \"CodeBuildRole\"])\n",
    "listPolicyArn = [\n",
    "    \"arn:aws:iam::aws:policy/AWSCodeCommitFullAccess\",\n",
    "    \"arn:aws:iam::aws:policy/AWSCodeBuildAdminAccess\",\n",
    "    \"arn:aws:iam::aws:policy/AmazonS3FullAccess\",\n",
    "    \"arn:aws:iam::aws:policy/CloudWatchFullAccess\",\n",
    "    \"arn:aws:iam::aws:policy/AmazonSageMakerFullAccess\",\n",
    "    \"arn:aws:iam::aws:policy/AWSLambda_FullAccess\",\n",
    "    \"arn:aws:iam::aws:policy/AmazonSSMFullAccess\",\n",
    "]\n",
    "strDescription=\"Role for CodeBuild\""
   ]
  },
  {
   "cell_type": "code",
   "execution_count": 12,
   "id": "d6e4a6a5-fa94-4cd0-b123-a0997f7afe42",
   "metadata": {
    "tags": []
   },
   "outputs": [
    {
     "name": "stdout",
     "output_type": "stream",
     "text": [
      "== CREATE ROLE ==\n",
      "  Role Name: [DJ-SM-PIPELINE-CodeBuildRole] is already exist!!, so, this will be deleted and re-created.\n",
      "{'ResponseMetadata': {'RequestId': 'a87f3c7c-c2c3-4aa5-9209-53197c3c4c01', 'HTTPStatusCode': 200, 'HTTPHeaders': {'date': 'Fri, 10 Jan 2025 08:57:46 GMT', 'x-amzn-requestid': 'a87f3c7c-c2c3-4aa5-9209-53197c3c4c01', 'content-type': 'text/xml', 'content-length': '212'}, 'RetryAttempts': 0}}\n",
      "arn:aws:iam::aws:policy/AmazonSSMFullAccess\n",
      "{'ResponseMetadata': {'RequestId': '0808221b-d496-4d56-9e5b-a11d466b4aea', 'HTTPStatusCode': 200, 'HTTPHeaders': {'date': 'Fri, 10 Jan 2025 08:57:45 GMT', 'x-amzn-requestid': '0808221b-d496-4d56-9e5b-a11d466b4aea', 'content-type': 'text/xml', 'content-length': '212'}, 'RetryAttempts': 0}}\n",
      "arn:aws:iam::aws:policy/AWSCodeBuildAdminAccess\n",
      "{'ResponseMetadata': {'RequestId': 'f1017352-124a-4307-9fd0-75bc5752de26', 'HTTPStatusCode': 200, 'HTTPHeaders': {'date': 'Fri, 10 Jan 2025 08:57:46 GMT', 'x-amzn-requestid': 'f1017352-124a-4307-9fd0-75bc5752de26', 'content-type': 'text/xml', 'content-length': '212'}, 'RetryAttempts': 0}}\n",
      "arn:aws:iam::aws:policy/AWSCodeCommitFullAccess\n",
      "{'ResponseMetadata': {'RequestId': '340883b5-4a15-44de-a34e-4646af6ea9d9', 'HTTPStatusCode': 200, 'HTTPHeaders': {'date': 'Fri, 10 Jan 2025 08:57:46 GMT', 'x-amzn-requestid': '340883b5-4a15-44de-a34e-4646af6ea9d9', 'content-type': 'text/xml', 'content-length': '212'}, 'RetryAttempts': 0}}\n",
      "arn:aws:iam::aws:policy/CloudWatchFullAccess\n",
      "{'ResponseMetadata': {'RequestId': '88de8695-272a-44e7-9eda-48f50e085f5d', 'HTTPStatusCode': 200, 'HTTPHeaders': {'date': 'Fri, 10 Jan 2025 08:57:46 GMT', 'x-amzn-requestid': '88de8695-272a-44e7-9eda-48f50e085f5d', 'content-type': 'text/xml', 'content-length': '212'}, 'RetryAttempts': 0}}\n",
      "arn:aws:iam::aws:policy/AmazonSageMakerFullAccess\n",
      "{'ResponseMetadata': {'RequestId': 'f3fc9857-5a94-48e3-8b8f-90d4be39fe67', 'HTTPStatusCode': 200, 'HTTPHeaders': {'date': 'Fri, 10 Jan 2025 08:57:46 GMT', 'x-amzn-requestid': 'f3fc9857-5a94-48e3-8b8f-90d4be39fe67', 'content-type': 'text/xml', 'content-length': '212'}, 'RetryAttempts': 0}}\n",
      "arn:aws:iam::aws:policy/AmazonS3FullAccess\n",
      "{'ResponseMetadata': {'RequestId': 'b01ef8e3-4287-488e-b385-8b25281de585', 'HTTPStatusCode': 200, 'HTTPHeaders': {'date': 'Fri, 10 Jan 2025 08:57:46 GMT', 'x-amzn-requestid': 'b01ef8e3-4287-488e-b385-8b25281de585', 'content-type': 'text/xml', 'content-length': '212'}, 'RetryAttempts': 0}}\n",
      "arn:aws:iam::aws:policy/AWSLambda_FullAccess\n",
      "  Service name: ['codebuild.amazonaws.com', 'sagemaker.amazonaws.com'], \n",
      "  Role name: DJ-SM-PIPELINE-CodeBuildRole, \n",
      "  Policys: ['arn:aws:iam::aws:policy/AWSCodeCommitFullAccess', 'arn:aws:iam::aws:policy/AWSCodeBuildAdminAccess', 'arn:aws:iam::aws:policy/AmazonS3FullAccess', 'arn:aws:iam::aws:policy/CloudWatchFullAccess', 'arn:aws:iam::aws:policy/AmazonSageMakerFullAccess', 'arn:aws:iam::aws:policy/AWSLambda_FullAccess', 'arn:aws:iam::aws:policy/AmazonSSMFullAccess'], \n",
      "  Role ARN: arn:aws:iam::419974056037:role/DJ-SM-PIPELINE-CodeBuildRole\n",
      "== COMPLETED ==\n",
      "CODE-BUILD-ROLE-ARN: arn:aws:iam::419974056037:role/DJ-SM-PIPELINE-CodeBuildRole\n"
     ]
    }
   ],
   "source": [
    "buildRoleArn = iam.create_role(\n",
    "    listService=listService,\n",
    "    strRoleName=strRoleName,\n",
    "    listPolicyArn = listPolicyArn,\n",
    "    strDescription=strDescription\n",
    ")\n",
    "print (f\"CODE-BUILD-ROLE-ARN: {buildRoleArn}\")"
   ]
  },
  {
   "cell_type": "markdown",
   "id": "b9a09e07-80a0-40a2-a8a2-9cf763aa11a6",
   "metadata": {
    "tags": []
   },
   "source": [
    "### 1.5 role-codepipeline"
   ]
  },
  {
   "cell_type": "code",
   "execution_count": 13,
   "id": "12eb5771-59de-4e66-aa2d-bfad4d9ac422",
   "metadata": {
    "tags": []
   },
   "outputs": [],
   "source": [
    "listService = [\"codepipeline.amazonaws.com\", \"codebuild.amazonaws.com\"]\n",
    "strRoleName = \"-\".join([strPrefix, \"CodePipelineRole\"])\n",
    "listPolicyArn = [\n",
    "    \"arn:aws:iam::aws:policy/AWSCodeCommitFullAccess\",\n",
    "    \"arn:aws:iam::aws:policy/AmazonS3FullAccess\",\n",
    "    \"arn:aws:iam::aws:policy/AWSCodeBuildAdminAccess\",\n",
    "    \"arn:aws:iam::aws:policy/AWSCodeDeployFullAccess\",\n",
    "    \"arn:aws:iam::aws:policy/AWSCodePipeline_FullAccess\"\n",
    "]\n",
    "strDescription=\"Role for CodePipeline\""
   ]
  },
  {
   "cell_type": "code",
   "execution_count": 14,
   "id": "b144f1f6-660d-4d82-b233-4cda985f62ad",
   "metadata": {
    "tags": []
   },
   "outputs": [
    {
     "name": "stdout",
     "output_type": "stream",
     "text": [
      "== CREATE ROLE ==\n",
      "  Role Name: [DJ-SM-PIPELINE-CodePipelineRole] is already exist!!, so, this will be deleted and re-created.\n",
      "{'ResponseMetadata': {'RequestId': 'be268535-f503-45f1-9da4-8c0164e2bf78', 'HTTPStatusCode': 200, 'HTTPHeaders': {'date': 'Fri, 10 Jan 2025 08:57:49 GMT', 'x-amzn-requestid': 'be268535-f503-45f1-9da4-8c0164e2bf78', 'content-type': 'text/xml', 'content-length': '212'}, 'RetryAttempts': 0}}\n",
      "arn:aws:iam::aws:policy/AWSCodeBuildAdminAccess\n",
      "{'ResponseMetadata': {'RequestId': '0d430a14-bcab-419f-aff5-12cb427795e1', 'HTTPStatusCode': 200, 'HTTPHeaders': {'date': 'Fri, 10 Jan 2025 08:57:48 GMT', 'x-amzn-requestid': '0d430a14-bcab-419f-aff5-12cb427795e1', 'content-type': 'text/xml', 'content-length': '212'}, 'RetryAttempts': 0}}\n",
      "arn:aws:iam::aws:policy/AWSCodeCommitFullAccess\n",
      "{'ResponseMetadata': {'RequestId': '0c67cb99-f3bb-4f4c-b8b9-3b7d377e565f', 'HTTPStatusCode': 200, 'HTTPHeaders': {'date': 'Fri, 10 Jan 2025 08:57:49 GMT', 'x-amzn-requestid': '0c67cb99-f3bb-4f4c-b8b9-3b7d377e565f', 'content-type': 'text/xml', 'content-length': '212'}, 'RetryAttempts': 0}}\n",
      "arn:aws:iam::aws:policy/AWSCodeDeployFullAccess\n",
      "{'ResponseMetadata': {'RequestId': 'e7af07fb-c310-4086-9092-d1a6857320de', 'HTTPStatusCode': 200, 'HTTPHeaders': {'date': 'Fri, 10 Jan 2025 08:57:49 GMT', 'x-amzn-requestid': 'e7af07fb-c310-4086-9092-d1a6857320de', 'content-type': 'text/xml', 'content-length': '212'}, 'RetryAttempts': 0}}\n",
      "arn:aws:iam::aws:policy/AmazonS3FullAccess\n",
      "{'ResponseMetadata': {'RequestId': '8677d310-862f-48aa-aecf-7798a7277b9a', 'HTTPStatusCode': 200, 'HTTPHeaders': {'date': 'Fri, 10 Jan 2025 08:57:49 GMT', 'x-amzn-requestid': '8677d310-862f-48aa-aecf-7798a7277b9a', 'content-type': 'text/xml', 'content-length': '212'}, 'RetryAttempts': 0}}\n",
      "arn:aws:iam::aws:policy/AWSCodePipeline_FullAccess\n",
      "  Service name: ['codepipeline.amazonaws.com', 'codebuild.amazonaws.com'], \n",
      "  Role name: DJ-SM-PIPELINE-CodePipelineRole, \n",
      "  Policys: ['arn:aws:iam::aws:policy/AWSCodeCommitFullAccess', 'arn:aws:iam::aws:policy/AmazonS3FullAccess', 'arn:aws:iam::aws:policy/AWSCodeBuildAdminAccess', 'arn:aws:iam::aws:policy/AWSCodeDeployFullAccess', 'arn:aws:iam::aws:policy/AWSCodePipeline_FullAccess'], \n",
      "  Role ARN: arn:aws:iam::419974056037:role/DJ-SM-PIPELINE-CodePipelineRole\n",
      "== COMPLETED ==\n",
      "CODE-PIPELINE-ROLE-ARN: arn:aws:iam::419974056037:role/DJ-SM-PIPELINE-CodePipelineRole\n"
     ]
    }
   ],
   "source": [
    "pipelineRoleArn = iam.create_role(\n",
    "    listService=listService,\n",
    "    strRoleName=strRoleName,\n",
    "    listPolicyArn = listPolicyArn,\n",
    "    strDescription=strDescription\n",
    ")\n",
    "\n",
    "print (f\"CODE-PIPELINE-ROLE-ARN: {pipelineRoleArn}\")"
   ]
  },
  {
   "cell_type": "markdown",
   "id": "347b6fb0-4702-48a1-8a89-85c87a8cb656",
   "metadata": {},
   "source": [
    "### 1.6 role-eventbridge"
   ]
  },
  {
   "cell_type": "code",
   "execution_count": 15,
   "id": "854cefcd-0170-4ecd-8ed9-f8065759ca18",
   "metadata": {
    "tags": []
   },
   "outputs": [],
   "source": [
    "listService = [\"events.amazonaws.com\"]\n",
    "strRoleName = \"-\".join([strPrefix, \"EventBridgeRole\"])\n",
    "listPolicyArn = [\n",
    "    \"arn:aws:iam::aws:policy/AmazonEventBridgeFullAccess\",\n",
    "]\n",
    "strDescription=\"Role for EventBridge\""
   ]
  },
  {
   "cell_type": "code",
   "execution_count": 16,
   "id": "c2e365a8-9925-4b6f-80d0-9a0ecec3ec3b",
   "metadata": {
    "tags": []
   },
   "outputs": [
    {
     "name": "stdout",
     "output_type": "stream",
     "text": [
      "== CREATE ROLE ==\n",
      "  Role Name: [DJ-SM-PIPELINE-EventBridgeRole] is already exist!!, so, this will be deleted and re-created.\n",
      "{'ResponseMetadata': {'RequestId': '324dfae3-f640-41d7-a3c6-a40f8bd90b3f', 'HTTPStatusCode': 200, 'HTTPHeaders': {'date': 'Fri, 10 Jan 2025 08:57:51 GMT', 'x-amzn-requestid': '324dfae3-f640-41d7-a3c6-a40f8bd90b3f', 'content-type': 'text/xml', 'content-length': '212'}, 'RetryAttempts': 0}}\n",
      "arn:aws:iam::aws:policy/AmazonEventBridgeFullAccess\n",
      "  Service name: ['events.amazonaws.com'], \n",
      "  Role name: DJ-SM-PIPELINE-EventBridgeRole, \n",
      "  Policys: ['arn:aws:iam::aws:policy/AmazonEventBridgeFullAccess'], \n",
      "  Role ARN: arn:aws:iam::419974056037:role/DJ-SM-PIPELINE-EventBridgeRole\n",
      "== COMPLETED ==\n",
      "CODE-PIPELINE-ROLE-ARN: arn:aws:iam::419974056037:role/DJ-SM-PIPELINE-EventBridgeRole\n"
     ]
    }
   ],
   "source": [
    "eventBridgeRoleArn = iam.create_role(\n",
    "    listService=listService,\n",
    "    strRoleName=strRoleName,\n",
    "    listPolicyArn = listPolicyArn,\n",
    "    strDescription=strDescription\n",
    ")\n",
    "\n",
    "print (f\"CODE-PIPELINE-ROLE-ARN: {eventBridgeRoleArn}\")"
   ]
  },
  {
   "cell_type": "markdown",
   "id": "811c5923-3a13-4c78-9633-0e6944bfad2c",
   "metadata": {},
   "source": [
    "## 2. Set datasets and utils"
   ]
  },
  {
   "cell_type": "code",
   "execution_count": 17,
   "id": "b8069438-088e-4e49-a7c6-332e34efe1cb",
   "metadata": {
    "tags": []
   },
   "outputs": [],
   "source": [
    "import os\n",
    "import boto3\n",
    "import sagemaker\n",
    "import pandas as pd\n",
    "from utils.s3 import s3_handler\n",
    "from utils.ssm import parameter_store"
   ]
  },
  {
   "cell_type": "markdown",
   "id": "700aa0b5-bb6e-43d4-97f8-77e7cbb5bc2b",
   "metadata": {},
   "source": [
    "### 2.1 download and manipulate data"
   ]
  },
  {
   "cell_type": "code",
   "execution_count": 18,
   "id": "40fe7b9c-3ffa-4a6a-8232-44dae004f519",
   "metadata": {
    "tags": []
   },
   "outputs": [],
   "source": [
    "s3 = boto3.client(\"s3\")"
   ]
  },
  {
   "cell_type": "code",
   "execution_count": 19,
   "id": "2ffed1ad-2a53-41e2-a7a9-94a340f2a581",
   "metadata": {
    "tags": []
   },
   "outputs": [],
   "source": [
    "strDataPath = os.path.join(\"./dataset\", \"abalone.csv\")\n",
    "s3.download_file(\"sagemaker-sample-files\", f\"datasets/tabular/uci_abalone/abalone.csv\", strDataPath)\n",
    "\n",
    "listFeatureName = [\n",
    "    \"Sex\",\n",
    "    \"Length\",\n",
    "    \"Diameter\",\n",
    "    \"Height\",\n",
    "    \"Whole weight\",\n",
    "    \"Shucked weight\",\n",
    "    \"Viscera weight\",\n",
    "    \"Shell weight\",\n",
    "    \"Rings\",\n",
    "]\n",
    "pdData = pd.read_csv(strDataPath, header=None, names=listFeatureName)\n",
    "\n",
    "# SageMaker XGBoost has the convention of label in the first column\n",
    "pdData = pdData[listFeatureName[-1:] + listFeatureName[:-1]]\n",
    "pdData[\"Sex\"] = pdData[\"Sex\"].astype(\"category\").cat.codes\n",
    "pdData.to_csv(strDataPath, header=True, index=False)"
   ]
  },
  {
   "cell_type": "markdown",
   "id": "d6d053e1-ec27-4b41-94af-4ba446a51bb8",
   "metadata": {},
   "source": [
    "### 2.2 upload to S3 and regiter path to parameter store"
   ]
  },
  {
   "cell_type": "code",
   "execution_count": 20,
   "id": "1914da42-1b51-4445-b792-1393f00ae739",
   "metadata": {
    "tags": []
   },
   "outputs": [
    {
     "name": "stdout",
     "output_type": "stream",
     "text": [
      "This is a S3 handler with [None] region.\n"
     ]
    }
   ],
   "source": [
    "strRegionName=boto3.Session().region_name\n",
    "s3 = s3_handler()\n",
    "pm = parameter_store(strRegionName)"
   ]
  },
  {
   "cell_type": "code",
   "execution_count": 21,
   "id": "dbc35d69-f77f-4d66-816d-1e29f3376c20",
   "metadata": {
    "tags": []
   },
   "outputs": [],
   "source": [
    "strBucketName = sagemaker.Session().default_bucket()"
   ]
  },
  {
   "cell_type": "code",
   "execution_count": 22,
   "id": "7f3248eb-4a05-449e-8c5d-0b6adcd46642",
   "metadata": {
    "tags": []
   },
   "outputs": [
    {
     "name": "stdout",
     "output_type": "stream",
     "text": [
      "Upload:[./dataset] was uploaded to [s3://sagemaker-us-west-2-419974056037/DJ-SM-PIPELINE-DATA]successfully\n"
     ]
    },
    {
     "data": {
      "text/plain": [
       "'Store suceess'"
      ]
     },
     "execution_count": 22,
     "metadata": {},
     "output_type": "execute_result"
    }
   ],
   "source": [
    "source_dir, target_bucket, target_dir = os.path.dirname(strDataPath), strBucketName, \"-\".join([strPrefix, \"DATA\"])\n",
    "s3.upload_dir(source_dir, target_bucket, target_dir)\n",
    "pm.put_params(key=\"-\".join([strPrefix, \"DATA-PATH\"]), value=f\"s3://{target_bucket}/{target_dir}\", overwrite=True)"
   ]
  },
  {
   "cell_type": "markdown",
   "id": "6d26e1db-491b-44b2-b9f6-4ad01893710b",
   "metadata": {
    "tags": []
   },
   "source": [
    "### 2.3 Copy utils to pipeline/utils"
   ]
  },
  {
   "cell_type": "code",
   "execution_count": 23,
   "id": "146571c8-d96f-48ac-bdb3-59f34a761224",
   "metadata": {
    "tags": []
   },
   "outputs": [],
   "source": [
    "from distutils.dir_util import copy_tree"
   ]
  },
  {
   "cell_type": "code",
   "execution_count": 24,
   "id": "e8e83634-fe63-4887-b431-9e458d790e6b",
   "metadata": {
    "tags": []
   },
   "outputs": [
    {
     "data": {
      "text/html": [
       "<pre style=\"white-space:pre;overflow-x:auto;line-height:normal;font-family:Menlo,'DejaVu Sans Mono',consolas,'Courier New',monospace\"><span style=\"color: #7fbfbf; text-decoration-color: #7fbfbf\">[01/10/25 08:57:54] </span><span style=\"color: #0069ff; text-decoration-color: #0069ff; font-weight: bold\">INFO    </span> copying .<span style=\"color: #e100e1; text-decoration-color: #e100e1\">/utils/ecr.py</span> -&gt; .<span style=\"color: #e100e1; text-decoration-color: #e100e1\">/mlops/pipeline/utils</span>                      <a href=\"file:///home/ec2-user/anaconda3/envs/python3/lib/python3.10/site-packages/setuptools/_distutils/file_util.py\" target=\"_blank\"><span style=\"color: #7f7f7f; text-decoration-color: #7f7f7f\">file_util.py</span></a><span style=\"color: #7f7f7f; text-decoration-color: #7f7f7f\">:</span><a href=\"file:///home/ec2-user/anaconda3/envs/python3/lib/python3.10/site-packages/setuptools/_distutils/file_util.py#137\" target=\"_blank\"><span style=\"color: #7f7f7f; text-decoration-color: #7f7f7f\">137</span></a>\n",
       "</pre>\n"
      ],
      "text/plain": [
       "\u001b[2;36m[01/10/25 08:57:54]\u001b[0m\u001b[2;36m \u001b[0m\u001b[1;38;2;0;105;255mINFO    \u001b[0m copying .\u001b[38;2;225;0;225m/utils/\u001b[0m\u001b[38;2;225;0;225mecr.py\u001b[0m -> .\u001b[38;2;225;0;225m/mlops/pipeline/\u001b[0m\u001b[38;2;225;0;225mutils\u001b[0m                      \u001b]8;id=111516;file:///home/ec2-user/anaconda3/envs/python3/lib/python3.10/site-packages/setuptools/_distutils/file_util.py\u001b\\\u001b[2mfile_util.py\u001b[0m\u001b]8;;\u001b\\\u001b[2m:\u001b[0m\u001b]8;id=149680;file:///home/ec2-user/anaconda3/envs/python3/lib/python3.10/site-packages/setuptools/_distutils/file_util.py#137\u001b\\\u001b[2m137\u001b[0m\u001b]8;;\u001b\\\n"
      ]
     },
     "metadata": {},
     "output_type": "display_data"
    },
    {
     "data": {
      "text/html": [
       "<pre style=\"white-space:pre;overflow-x:auto;line-height:normal;font-family:Menlo,'DejaVu Sans Mono',consolas,'Courier New',monospace\"><span style=\"color: #7fbfbf; text-decoration-color: #7fbfbf\">                    </span><span style=\"color: #0069ff; text-decoration-color: #0069ff; font-weight: bold\">INFO    </span> copying .<span style=\"color: #e100e1; text-decoration-color: #e100e1\">/utils/s3.py</span> -&gt; .<span style=\"color: #e100e1; text-decoration-color: #e100e1\">/mlops/pipeline/utils</span>                       <a href=\"file:///home/ec2-user/anaconda3/envs/python3/lib/python3.10/site-packages/setuptools/_distutils/file_util.py\" target=\"_blank\"><span style=\"color: #7f7f7f; text-decoration-color: #7f7f7f\">file_util.py</span></a><span style=\"color: #7f7f7f; text-decoration-color: #7f7f7f\">:</span><a href=\"file:///home/ec2-user/anaconda3/envs/python3/lib/python3.10/site-packages/setuptools/_distutils/file_util.py#137\" target=\"_blank\"><span style=\"color: #7f7f7f; text-decoration-color: #7f7f7f\">137</span></a>\n",
       "</pre>\n"
      ],
      "text/plain": [
       "\u001b[2;36m                   \u001b[0m\u001b[2;36m \u001b[0m\u001b[1;38;2;0;105;255mINFO    \u001b[0m copying .\u001b[38;2;225;0;225m/utils/\u001b[0m\u001b[38;2;225;0;225ms3.py\u001b[0m -> .\u001b[38;2;225;0;225m/mlops/pipeline/\u001b[0m\u001b[38;2;225;0;225mutils\u001b[0m                       \u001b]8;id=660341;file:///home/ec2-user/anaconda3/envs/python3/lib/python3.10/site-packages/setuptools/_distutils/file_util.py\u001b\\\u001b[2mfile_util.py\u001b[0m\u001b]8;;\u001b\\\u001b[2m:\u001b[0m\u001b]8;id=225870;file:///home/ec2-user/anaconda3/envs/python3/lib/python3.10/site-packages/setuptools/_distutils/file_util.py#137\u001b\\\u001b[2m137\u001b[0m\u001b]8;;\u001b\\\n"
      ]
     },
     "metadata": {},
     "output_type": "display_data"
    },
    {
     "data": {
      "text/html": [
       "<pre style=\"white-space:pre;overflow-x:auto;line-height:normal;font-family:Menlo,'DejaVu Sans Mono',consolas,'Courier New',monospace\"><span style=\"color: #7fbfbf; text-decoration-color: #7fbfbf\">                    </span><span style=\"color: #0069ff; text-decoration-color: #0069ff; font-weight: bold\">INFO    </span> creating mlops/pipeline/utils/cicd_templates                            <a href=\"file:///home/ec2-user/anaconda3/envs/python3/lib/python3.10/site-packages/setuptools/_distutils/dir_util.py\" target=\"_blank\"><span style=\"color: #7f7f7f; text-decoration-color: #7f7f7f\">dir_util.py</span></a><span style=\"color: #7f7f7f; text-decoration-color: #7f7f7f\">:</span><a href=\"file:///home/ec2-user/anaconda3/envs/python3/lib/python3.10/site-packages/setuptools/_distutils/dir_util.py#71\" target=\"_blank\"><span style=\"color: #7f7f7f; text-decoration-color: #7f7f7f\">71</span></a>\n",
       "</pre>\n"
      ],
      "text/plain": [
       "\u001b[2;36m                   \u001b[0m\u001b[2;36m \u001b[0m\u001b[1;38;2;0;105;255mINFO    \u001b[0m creating mlops/pipeline/utils/cicd_templates                            \u001b]8;id=963143;file:///home/ec2-user/anaconda3/envs/python3/lib/python3.10/site-packages/setuptools/_distutils/dir_util.py\u001b\\\u001b[2mdir_util.py\u001b[0m\u001b]8;;\u001b\\\u001b[2m:\u001b[0m\u001b]8;id=251437;file:///home/ec2-user/anaconda3/envs/python3/lib/python3.10/site-packages/setuptools/_distutils/dir_util.py#71\u001b\\\u001b[2m71\u001b[0m\u001b]8;;\u001b\\\n"
      ]
     },
     "metadata": {},
     "output_type": "display_data"
    },
    {
     "data": {
      "text/html": [
       "<pre style=\"white-space:pre;overflow-x:auto;line-height:normal;font-family:Menlo,'DejaVu Sans Mono',consolas,'Courier New',monospace\"><span style=\"color: #7fbfbf; text-decoration-color: #7fbfbf\">                    </span><span style=\"color: #0069ff; text-decoration-color: #0069ff; font-weight: bold\">INFO    </span> copying .<span style=\"color: #e100e1; text-decoration-color: #e100e1\">/utils/cicd_templates/code_build_template.json</span> -&gt;            <a href=\"file:///home/ec2-user/anaconda3/envs/python3/lib/python3.10/site-packages/setuptools/_distutils/file_util.py\" target=\"_blank\"><span style=\"color: #7f7f7f; text-decoration-color: #7f7f7f\">file_util.py</span></a><span style=\"color: #7f7f7f; text-decoration-color: #7f7f7f\">:</span><a href=\"file:///home/ec2-user/anaconda3/envs/python3/lib/python3.10/site-packages/setuptools/_distutils/file_util.py#137\" target=\"_blank\"><span style=\"color: #7f7f7f; text-decoration-color: #7f7f7f\">137</span></a>\n",
       "<span style=\"color: #7fbfbf; text-decoration-color: #7fbfbf\">                    </span>         .<span style=\"color: #e100e1; text-decoration-color: #e100e1\">/mlops/pipeline/utils/cicd_templates</span>                                 <span style=\"color: #7f7f7f; text-decoration-color: #7f7f7f\">                </span>\n",
       "</pre>\n"
      ],
      "text/plain": [
       "\u001b[2;36m                   \u001b[0m\u001b[2;36m \u001b[0m\u001b[1;38;2;0;105;255mINFO    \u001b[0m copying .\u001b[38;2;225;0;225m/utils/cicd_templates/\u001b[0m\u001b[38;2;225;0;225mcode_build_template.json\u001b[0m ->            \u001b]8;id=539833;file:///home/ec2-user/anaconda3/envs/python3/lib/python3.10/site-packages/setuptools/_distutils/file_util.py\u001b\\\u001b[2mfile_util.py\u001b[0m\u001b]8;;\u001b\\\u001b[2m:\u001b[0m\u001b]8;id=252490;file:///home/ec2-user/anaconda3/envs/python3/lib/python3.10/site-packages/setuptools/_distutils/file_util.py#137\u001b\\\u001b[2m137\u001b[0m\u001b]8;;\u001b\\\n",
       "\u001b[2;36m                    \u001b[0m         .\u001b[38;2;225;0;225m/mlops/pipeline/utils/\u001b[0m\u001b[38;2;225;0;225mcicd_templates\u001b[0m                                 \u001b[2m                \u001b[0m\n"
      ]
     },
     "metadata": {},
     "output_type": "display_data"
    },
    {
     "data": {
      "text/html": [
       "<pre style=\"white-space:pre;overflow-x:auto;line-height:normal;font-family:Menlo,'DejaVu Sans Mono',consolas,'Courier New',monospace\"><span style=\"color: #7fbfbf; text-decoration-color: #7fbfbf\">                    </span><span style=\"color: #0069ff; text-decoration-color: #0069ff; font-weight: bold\">INFO    </span> copying .<span style=\"color: #e100e1; text-decoration-color: #e100e1\">/utils/cicd_templates/code_pipeline_template.json</span> -&gt;         <a href=\"file:///home/ec2-user/anaconda3/envs/python3/lib/python3.10/site-packages/setuptools/_distutils/file_util.py\" target=\"_blank\"><span style=\"color: #7f7f7f; text-decoration-color: #7f7f7f\">file_util.py</span></a><span style=\"color: #7f7f7f; text-decoration-color: #7f7f7f\">:</span><a href=\"file:///home/ec2-user/anaconda3/envs/python3/lib/python3.10/site-packages/setuptools/_distutils/file_util.py#137\" target=\"_blank\"><span style=\"color: #7f7f7f; text-decoration-color: #7f7f7f\">137</span></a>\n",
       "<span style=\"color: #7fbfbf; text-decoration-color: #7fbfbf\">                    </span>         .<span style=\"color: #e100e1; text-decoration-color: #e100e1\">/mlops/pipeline/utils/cicd_templates</span>                                 <span style=\"color: #7f7f7f; text-decoration-color: #7f7f7f\">                </span>\n",
       "</pre>\n"
      ],
      "text/plain": [
       "\u001b[2;36m                   \u001b[0m\u001b[2;36m \u001b[0m\u001b[1;38;2;0;105;255mINFO    \u001b[0m copying .\u001b[38;2;225;0;225m/utils/cicd_templates/\u001b[0m\u001b[38;2;225;0;225mcode_pipeline_template.json\u001b[0m ->         \u001b]8;id=715613;file:///home/ec2-user/anaconda3/envs/python3/lib/python3.10/site-packages/setuptools/_distutils/file_util.py\u001b\\\u001b[2mfile_util.py\u001b[0m\u001b]8;;\u001b\\\u001b[2m:\u001b[0m\u001b]8;id=895588;file:///home/ec2-user/anaconda3/envs/python3/lib/python3.10/site-packages/setuptools/_distutils/file_util.py#137\u001b\\\u001b[2m137\u001b[0m\u001b]8;;\u001b\\\n",
       "\u001b[2;36m                    \u001b[0m         .\u001b[38;2;225;0;225m/mlops/pipeline/utils/\u001b[0m\u001b[38;2;225;0;225mcicd_templates\u001b[0m                                 \u001b[2m                \u001b[0m\n"
      ]
     },
     "metadata": {},
     "output_type": "display_data"
    },
    {
     "data": {
      "text/html": [
       "<pre style=\"white-space:pre;overflow-x:auto;line-height:normal;font-family:Menlo,'DejaVu Sans Mono',consolas,'Courier New',monospace\"><span style=\"color: #7fbfbf; text-decoration-color: #7fbfbf\">                    </span><span style=\"color: #0069ff; text-decoration-color: #0069ff; font-weight: bold\">INFO    </span> copying .<span style=\"color: #e100e1; text-decoration-color: #e100e1\">/utils/iam.py</span> -&gt; .<span style=\"color: #e100e1; text-decoration-color: #e100e1\">/mlops/pipeline/utils</span>                      <a href=\"file:///home/ec2-user/anaconda3/envs/python3/lib/python3.10/site-packages/setuptools/_distutils/file_util.py\" target=\"_blank\"><span style=\"color: #7f7f7f; text-decoration-color: #7f7f7f\">file_util.py</span></a><span style=\"color: #7f7f7f; text-decoration-color: #7f7f7f\">:</span><a href=\"file:///home/ec2-user/anaconda3/envs/python3/lib/python3.10/site-packages/setuptools/_distutils/file_util.py#137\" target=\"_blank\"><span style=\"color: #7f7f7f; text-decoration-color: #7f7f7f\">137</span></a>\n",
       "</pre>\n"
      ],
      "text/plain": [
       "\u001b[2;36m                   \u001b[0m\u001b[2;36m \u001b[0m\u001b[1;38;2;0;105;255mINFO    \u001b[0m copying .\u001b[38;2;225;0;225m/utils/\u001b[0m\u001b[38;2;225;0;225miam.py\u001b[0m -> .\u001b[38;2;225;0;225m/mlops/pipeline/\u001b[0m\u001b[38;2;225;0;225mutils\u001b[0m                      \u001b]8;id=469045;file:///home/ec2-user/anaconda3/envs/python3/lib/python3.10/site-packages/setuptools/_distutils/file_util.py\u001b\\\u001b[2mfile_util.py\u001b[0m\u001b]8;;\u001b\\\u001b[2m:\u001b[0m\u001b]8;id=915483;file:///home/ec2-user/anaconda3/envs/python3/lib/python3.10/site-packages/setuptools/_distutils/file_util.py#137\u001b\\\u001b[2m137\u001b[0m\u001b]8;;\u001b\\\n"
      ]
     },
     "metadata": {},
     "output_type": "display_data"
    },
    {
     "data": {
      "text/html": [
       "<pre style=\"white-space:pre;overflow-x:auto;line-height:normal;font-family:Menlo,'DejaVu Sans Mono',consolas,'Courier New',monospace\"><span style=\"color: #7fbfbf; text-decoration-color: #7fbfbf\">                    </span><span style=\"color: #0069ff; text-decoration-color: #0069ff; font-weight: bold\">INFO    </span> copying .<span style=\"color: #e100e1; text-decoration-color: #e100e1\">/utils/code_pipeline.json</span> -&gt; .<span style=\"color: #e100e1; text-decoration-color: #e100e1\">/mlops/pipeline/utils</span>          <a href=\"file:///home/ec2-user/anaconda3/envs/python3/lib/python3.10/site-packages/setuptools/_distutils/file_util.py\" target=\"_blank\"><span style=\"color: #7f7f7f; text-decoration-color: #7f7f7f\">file_util.py</span></a><span style=\"color: #7f7f7f; text-decoration-color: #7f7f7f\">:</span><a href=\"file:///home/ec2-user/anaconda3/envs/python3/lib/python3.10/site-packages/setuptools/_distutils/file_util.py#137\" target=\"_blank\"><span style=\"color: #7f7f7f; text-decoration-color: #7f7f7f\">137</span></a>\n",
       "</pre>\n"
      ],
      "text/plain": [
       "\u001b[2;36m                   \u001b[0m\u001b[2;36m \u001b[0m\u001b[1;38;2;0;105;255mINFO    \u001b[0m copying .\u001b[38;2;225;0;225m/utils/\u001b[0m\u001b[38;2;225;0;225mcode_pipeline.json\u001b[0m -> .\u001b[38;2;225;0;225m/mlops/pipeline/\u001b[0m\u001b[38;2;225;0;225mutils\u001b[0m          \u001b]8;id=665970;file:///home/ec2-user/anaconda3/envs/python3/lib/python3.10/site-packages/setuptools/_distutils/file_util.py\u001b\\\u001b[2mfile_util.py\u001b[0m\u001b]8;;\u001b\\\u001b[2m:\u001b[0m\u001b]8;id=255060;file:///home/ec2-user/anaconda3/envs/python3/lib/python3.10/site-packages/setuptools/_distutils/file_util.py#137\u001b\\\u001b[2m137\u001b[0m\u001b]8;;\u001b\\\n"
      ]
     },
     "metadata": {},
     "output_type": "display_data"
    },
    {
     "data": {
      "text/html": [
       "<pre style=\"white-space:pre;overflow-x:auto;line-height:normal;font-family:Menlo,'DejaVu Sans Mono',consolas,'Courier New',monospace\"><span style=\"color: #7fbfbf; text-decoration-color: #7fbfbf\">                    </span><span style=\"color: #0069ff; text-decoration-color: #0069ff; font-weight: bold\">INFO    </span> copying .<span style=\"color: #e100e1; text-decoration-color: #e100e1\">/utils/code_pipeline.py</span> -&gt; .<span style=\"color: #e100e1; text-decoration-color: #e100e1\">/mlops/pipeline/utils</span>            <a href=\"file:///home/ec2-user/anaconda3/envs/python3/lib/python3.10/site-packages/setuptools/_distutils/file_util.py\" target=\"_blank\"><span style=\"color: #7f7f7f; text-decoration-color: #7f7f7f\">file_util.py</span></a><span style=\"color: #7f7f7f; text-decoration-color: #7f7f7f\">:</span><a href=\"file:///home/ec2-user/anaconda3/envs/python3/lib/python3.10/site-packages/setuptools/_distutils/file_util.py#137\" target=\"_blank\"><span style=\"color: #7f7f7f; text-decoration-color: #7f7f7f\">137</span></a>\n",
       "</pre>\n"
      ],
      "text/plain": [
       "\u001b[2;36m                   \u001b[0m\u001b[2;36m \u001b[0m\u001b[1;38;2;0;105;255mINFO    \u001b[0m copying .\u001b[38;2;225;0;225m/utils/\u001b[0m\u001b[38;2;225;0;225mcode_pipeline.py\u001b[0m -> .\u001b[38;2;225;0;225m/mlops/pipeline/\u001b[0m\u001b[38;2;225;0;225mutils\u001b[0m            \u001b]8;id=497579;file:///home/ec2-user/anaconda3/envs/python3/lib/python3.10/site-packages/setuptools/_distutils/file_util.py\u001b\\\u001b[2mfile_util.py\u001b[0m\u001b]8;;\u001b\\\u001b[2m:\u001b[0m\u001b]8;id=289287;file:///home/ec2-user/anaconda3/envs/python3/lib/python3.10/site-packages/setuptools/_distutils/file_util.py#137\u001b\\\u001b[2m137\u001b[0m\u001b]8;;\u001b\\\n"
      ]
     },
     "metadata": {},
     "output_type": "display_data"
    },
    {
     "data": {
      "text/html": [
       "<pre style=\"white-space:pre;overflow-x:auto;line-height:normal;font-family:Menlo,'DejaVu Sans Mono',consolas,'Courier New',monospace\"><span style=\"color: #7fbfbf; text-decoration-color: #7fbfbf\">                    </span><span style=\"color: #0069ff; text-decoration-color: #0069ff; font-weight: bold\">INFO    </span> copying .<span style=\"color: #e100e1; text-decoration-color: #e100e1\">/utils/code_build.json</span> -&gt; .<span style=\"color: #e100e1; text-decoration-color: #e100e1\">/mlops/pipeline/utils</span>             <a href=\"file:///home/ec2-user/anaconda3/envs/python3/lib/python3.10/site-packages/setuptools/_distutils/file_util.py\" target=\"_blank\"><span style=\"color: #7f7f7f; text-decoration-color: #7f7f7f\">file_util.py</span></a><span style=\"color: #7f7f7f; text-decoration-color: #7f7f7f\">:</span><a href=\"file:///home/ec2-user/anaconda3/envs/python3/lib/python3.10/site-packages/setuptools/_distutils/file_util.py#137\" target=\"_blank\"><span style=\"color: #7f7f7f; text-decoration-color: #7f7f7f\">137</span></a>\n",
       "</pre>\n"
      ],
      "text/plain": [
       "\u001b[2;36m                   \u001b[0m\u001b[2;36m \u001b[0m\u001b[1;38;2;0;105;255mINFO    \u001b[0m copying .\u001b[38;2;225;0;225m/utils/\u001b[0m\u001b[38;2;225;0;225mcode_build.json\u001b[0m -> .\u001b[38;2;225;0;225m/mlops/pipeline/\u001b[0m\u001b[38;2;225;0;225mutils\u001b[0m             \u001b]8;id=675450;file:///home/ec2-user/anaconda3/envs/python3/lib/python3.10/site-packages/setuptools/_distutils/file_util.py\u001b\\\u001b[2mfile_util.py\u001b[0m\u001b]8;;\u001b\\\u001b[2m:\u001b[0m\u001b]8;id=990140;file:///home/ec2-user/anaconda3/envs/python3/lib/python3.10/site-packages/setuptools/_distutils/file_util.py#137\u001b\\\u001b[2m137\u001b[0m\u001b]8;;\u001b\\\n"
      ]
     },
     "metadata": {},
     "output_type": "display_data"
    },
    {
     "data": {
      "text/html": [
       "<pre style=\"white-space:pre;overflow-x:auto;line-height:normal;font-family:Menlo,'DejaVu Sans Mono',consolas,'Courier New',monospace\"><span style=\"color: #7fbfbf; text-decoration-color: #7fbfbf\">                    </span><span style=\"color: #0069ff; text-decoration-color: #0069ff; font-weight: bold\">INFO    </span> copying .<span style=\"color: #e100e1; text-decoration-color: #e100e1\">/utils/monitoringjob_utils.py</span> -&gt; .<span style=\"color: #e100e1; text-decoration-color: #e100e1\">/mlops/pipeline/utils</span>      <a href=\"file:///home/ec2-user/anaconda3/envs/python3/lib/python3.10/site-packages/setuptools/_distutils/file_util.py\" target=\"_blank\"><span style=\"color: #7f7f7f; text-decoration-color: #7f7f7f\">file_util.py</span></a><span style=\"color: #7f7f7f; text-decoration-color: #7f7f7f\">:</span><a href=\"file:///home/ec2-user/anaconda3/envs/python3/lib/python3.10/site-packages/setuptools/_distutils/file_util.py#137\" target=\"_blank\"><span style=\"color: #7f7f7f; text-decoration-color: #7f7f7f\">137</span></a>\n",
       "</pre>\n"
      ],
      "text/plain": [
       "\u001b[2;36m                   \u001b[0m\u001b[2;36m \u001b[0m\u001b[1;38;2;0;105;255mINFO    \u001b[0m copying .\u001b[38;2;225;0;225m/utils/\u001b[0m\u001b[38;2;225;0;225mmonitoringjob_utils.py\u001b[0m -> .\u001b[38;2;225;0;225m/mlops/pipeline/\u001b[0m\u001b[38;2;225;0;225mutils\u001b[0m      \u001b]8;id=379782;file:///home/ec2-user/anaconda3/envs/python3/lib/python3.10/site-packages/setuptools/_distutils/file_util.py\u001b\\\u001b[2mfile_util.py\u001b[0m\u001b]8;;\u001b\\\u001b[2m:\u001b[0m\u001b]8;id=350034;file:///home/ec2-user/anaconda3/envs/python3/lib/python3.10/site-packages/setuptools/_distutils/file_util.py#137\u001b\\\u001b[2m137\u001b[0m\u001b]8;;\u001b\\\n"
      ]
     },
     "metadata": {},
     "output_type": "display_data"
    },
    {
     "data": {
      "text/html": [
       "<pre style=\"white-space:pre;overflow-x:auto;line-height:normal;font-family:Menlo,'DejaVu Sans Mono',consolas,'Courier New',monospace\"><span style=\"color: #7fbfbf; text-decoration-color: #7fbfbf\">                    </span><span style=\"color: #0069ff; text-decoration-color: #0069ff; font-weight: bold\">INFO    </span> copying .<span style=\"color: #e100e1; text-decoration-color: #e100e1\">/utils/lambda_func.py</span> -&gt; .<span style=\"color: #e100e1; text-decoration-color: #e100e1\">/mlops/pipeline/utils</span>              <a href=\"file:///home/ec2-user/anaconda3/envs/python3/lib/python3.10/site-packages/setuptools/_distutils/file_util.py\" target=\"_blank\"><span style=\"color: #7f7f7f; text-decoration-color: #7f7f7f\">file_util.py</span></a><span style=\"color: #7f7f7f; text-decoration-color: #7f7f7f\">:</span><a href=\"file:///home/ec2-user/anaconda3/envs/python3/lib/python3.10/site-packages/setuptools/_distutils/file_util.py#137\" target=\"_blank\"><span style=\"color: #7f7f7f; text-decoration-color: #7f7f7f\">137</span></a>\n",
       "</pre>\n"
      ],
      "text/plain": [
       "\u001b[2;36m                   \u001b[0m\u001b[2;36m \u001b[0m\u001b[1;38;2;0;105;255mINFO    \u001b[0m copying .\u001b[38;2;225;0;225m/utils/\u001b[0m\u001b[38;2;225;0;225mlambda_func.py\u001b[0m -> .\u001b[38;2;225;0;225m/mlops/pipeline/\u001b[0m\u001b[38;2;225;0;225mutils\u001b[0m              \u001b]8;id=435816;file:///home/ec2-user/anaconda3/envs/python3/lib/python3.10/site-packages/setuptools/_distutils/file_util.py\u001b\\\u001b[2mfile_util.py\u001b[0m\u001b]8;;\u001b\\\u001b[2m:\u001b[0m\u001b]8;id=270160;file:///home/ec2-user/anaconda3/envs/python3/lib/python3.10/site-packages/setuptools/_distutils/file_util.py#137\u001b\\\u001b[2m137\u001b[0m\u001b]8;;\u001b\\\n"
      ]
     },
     "metadata": {},
     "output_type": "display_data"
    },
    {
     "data": {
      "text/html": [
       "<pre style=\"white-space:pre;overflow-x:auto;line-height:normal;font-family:Menlo,'DejaVu Sans Mono',consolas,'Courier New',monospace\"><span style=\"color: #7fbfbf; text-decoration-color: #7fbfbf\">                    </span><span style=\"color: #0069ff; text-decoration-color: #0069ff; font-weight: bold\">INFO    </span> copying .<span style=\"color: #e100e1; text-decoration-color: #e100e1\">/utils/ssm.py</span> -&gt; .<span style=\"color: #e100e1; text-decoration-color: #e100e1\">/mlops/pipeline/utils</span>                      <a href=\"file:///home/ec2-user/anaconda3/envs/python3/lib/python3.10/site-packages/setuptools/_distutils/file_util.py\" target=\"_blank\"><span style=\"color: #7f7f7f; text-decoration-color: #7f7f7f\">file_util.py</span></a><span style=\"color: #7f7f7f; text-decoration-color: #7f7f7f\">:</span><a href=\"file:///home/ec2-user/anaconda3/envs/python3/lib/python3.10/site-packages/setuptools/_distutils/file_util.py#137\" target=\"_blank\"><span style=\"color: #7f7f7f; text-decoration-color: #7f7f7f\">137</span></a>\n",
       "</pre>\n"
      ],
      "text/plain": [
       "\u001b[2;36m                   \u001b[0m\u001b[2;36m \u001b[0m\u001b[1;38;2;0;105;255mINFO    \u001b[0m copying .\u001b[38;2;225;0;225m/utils/\u001b[0m\u001b[38;2;225;0;225mssm.py\u001b[0m -> .\u001b[38;2;225;0;225m/mlops/pipeline/\u001b[0m\u001b[38;2;225;0;225mutils\u001b[0m                      \u001b]8;id=309523;file:///home/ec2-user/anaconda3/envs/python3/lib/python3.10/site-packages/setuptools/_distutils/file_util.py\u001b\\\u001b[2mfile_util.py\u001b[0m\u001b]8;;\u001b\\\u001b[2m:\u001b[0m\u001b]8;id=129710;file:///home/ec2-user/anaconda3/envs/python3/lib/python3.10/site-packages/setuptools/_distutils/file_util.py#137\u001b\\\u001b[2m137\u001b[0m\u001b]8;;\u001b\\\n"
      ]
     },
     "metadata": {},
     "output_type": "display_data"
    },
    {
     "data": {
      "text/html": [
       "<pre style=\"white-space:pre;overflow-x:auto;line-height:normal;font-family:Menlo,'DejaVu Sans Mono',consolas,'Courier New',monospace\"><span style=\"color: #7fbfbf; text-decoration-color: #7fbfbf\">                    </span><span style=\"color: #0069ff; text-decoration-color: #0069ff; font-weight: bold\">INFO    </span> creating mlops/pipeline/utils/__pycache__                               <a href=\"file:///home/ec2-user/anaconda3/envs/python3/lib/python3.10/site-packages/setuptools/_distutils/dir_util.py\" target=\"_blank\"><span style=\"color: #7f7f7f; text-decoration-color: #7f7f7f\">dir_util.py</span></a><span style=\"color: #7f7f7f; text-decoration-color: #7f7f7f\">:</span><a href=\"file:///home/ec2-user/anaconda3/envs/python3/lib/python3.10/site-packages/setuptools/_distutils/dir_util.py#71\" target=\"_blank\"><span style=\"color: #7f7f7f; text-decoration-color: #7f7f7f\">71</span></a>\n",
       "</pre>\n"
      ],
      "text/plain": [
       "\u001b[2;36m                   \u001b[0m\u001b[2;36m \u001b[0m\u001b[1;38;2;0;105;255mINFO    \u001b[0m creating mlops/pipeline/utils/__pycache__                               \u001b]8;id=235968;file:///home/ec2-user/anaconda3/envs/python3/lib/python3.10/site-packages/setuptools/_distutils/dir_util.py\u001b\\\u001b[2mdir_util.py\u001b[0m\u001b]8;;\u001b\\\u001b[2m:\u001b[0m\u001b]8;id=123032;file:///home/ec2-user/anaconda3/envs/python3/lib/python3.10/site-packages/setuptools/_distutils/dir_util.py#71\u001b\\\u001b[2m71\u001b[0m\u001b]8;;\u001b\\\n"
      ]
     },
     "metadata": {},
     "output_type": "display_data"
    },
    {
     "data": {
      "text/html": [
       "<pre style=\"white-space:pre;overflow-x:auto;line-height:normal;font-family:Menlo,'DejaVu Sans Mono',consolas,'Courier New',monospace\"><span style=\"color: #7fbfbf; text-decoration-color: #7fbfbf\">                    </span><span style=\"color: #0069ff; text-decoration-color: #0069ff; font-weight: bold\">INFO    </span> copying .<span style=\"color: #e100e1; text-decoration-color: #e100e1\">/utils/__pycache__/s3.cpython-310.pyc</span> -&gt;                     <a href=\"file:///home/ec2-user/anaconda3/envs/python3/lib/python3.10/site-packages/setuptools/_distutils/file_util.py\" target=\"_blank\"><span style=\"color: #7f7f7f; text-decoration-color: #7f7f7f\">file_util.py</span></a><span style=\"color: #7f7f7f; text-decoration-color: #7f7f7f\">:</span><a href=\"file:///home/ec2-user/anaconda3/envs/python3/lib/python3.10/site-packages/setuptools/_distutils/file_util.py#137\" target=\"_blank\"><span style=\"color: #7f7f7f; text-decoration-color: #7f7f7f\">137</span></a>\n",
       "<span style=\"color: #7fbfbf; text-decoration-color: #7fbfbf\">                    </span>         .<span style=\"color: #e100e1; text-decoration-color: #e100e1\">/mlops/pipeline/utils/__pycache__</span>                                    <span style=\"color: #7f7f7f; text-decoration-color: #7f7f7f\">                </span>\n",
       "</pre>\n"
      ],
      "text/plain": [
       "\u001b[2;36m                   \u001b[0m\u001b[2;36m \u001b[0m\u001b[1;38;2;0;105;255mINFO    \u001b[0m copying .\u001b[38;2;225;0;225m/utils/__pycache__/\u001b[0m\u001b[38;2;225;0;225ms3.cpython-310.pyc\u001b[0m ->                     \u001b]8;id=549299;file:///home/ec2-user/anaconda3/envs/python3/lib/python3.10/site-packages/setuptools/_distutils/file_util.py\u001b\\\u001b[2mfile_util.py\u001b[0m\u001b]8;;\u001b\\\u001b[2m:\u001b[0m\u001b]8;id=518354;file:///home/ec2-user/anaconda3/envs/python3/lib/python3.10/site-packages/setuptools/_distutils/file_util.py#137\u001b\\\u001b[2m137\u001b[0m\u001b]8;;\u001b\\\n",
       "\u001b[2;36m                    \u001b[0m         .\u001b[38;2;225;0;225m/mlops/pipeline/utils/\u001b[0m\u001b[38;2;225;0;225m__pycache__\u001b[0m                                    \u001b[2m                \u001b[0m\n"
      ]
     },
     "metadata": {},
     "output_type": "display_data"
    },
    {
     "data": {
      "text/html": [
       "<pre style=\"white-space:pre;overflow-x:auto;line-height:normal;font-family:Menlo,'DejaVu Sans Mono',consolas,'Courier New',monospace\"><span style=\"color: #7fbfbf; text-decoration-color: #7fbfbf\">                    </span><span style=\"color: #0069ff; text-decoration-color: #0069ff; font-weight: bold\">INFO    </span> copying .<span style=\"color: #e100e1; text-decoration-color: #e100e1\">/utils/__pycache__/iam.cpython-310.pyc</span> -&gt;                    <a href=\"file:///home/ec2-user/anaconda3/envs/python3/lib/python3.10/site-packages/setuptools/_distutils/file_util.py\" target=\"_blank\"><span style=\"color: #7f7f7f; text-decoration-color: #7f7f7f\">file_util.py</span></a><span style=\"color: #7f7f7f; text-decoration-color: #7f7f7f\">:</span><a href=\"file:///home/ec2-user/anaconda3/envs/python3/lib/python3.10/site-packages/setuptools/_distutils/file_util.py#137\" target=\"_blank\"><span style=\"color: #7f7f7f; text-decoration-color: #7f7f7f\">137</span></a>\n",
       "<span style=\"color: #7fbfbf; text-decoration-color: #7fbfbf\">                    </span>         .<span style=\"color: #e100e1; text-decoration-color: #e100e1\">/mlops/pipeline/utils/__pycache__</span>                                    <span style=\"color: #7f7f7f; text-decoration-color: #7f7f7f\">                </span>\n",
       "</pre>\n"
      ],
      "text/plain": [
       "\u001b[2;36m                   \u001b[0m\u001b[2;36m \u001b[0m\u001b[1;38;2;0;105;255mINFO    \u001b[0m copying .\u001b[38;2;225;0;225m/utils/__pycache__/\u001b[0m\u001b[38;2;225;0;225miam.cpython-310.pyc\u001b[0m ->                    \u001b]8;id=348585;file:///home/ec2-user/anaconda3/envs/python3/lib/python3.10/site-packages/setuptools/_distutils/file_util.py\u001b\\\u001b[2mfile_util.py\u001b[0m\u001b]8;;\u001b\\\u001b[2m:\u001b[0m\u001b]8;id=356370;file:///home/ec2-user/anaconda3/envs/python3/lib/python3.10/site-packages/setuptools/_distutils/file_util.py#137\u001b\\\u001b[2m137\u001b[0m\u001b]8;;\u001b\\\n",
       "\u001b[2;36m                    \u001b[0m         .\u001b[38;2;225;0;225m/mlops/pipeline/utils/\u001b[0m\u001b[38;2;225;0;225m__pycache__\u001b[0m                                    \u001b[2m                \u001b[0m\n"
      ]
     },
     "metadata": {},
     "output_type": "display_data"
    },
    {
     "data": {
      "text/html": [
       "<pre style=\"white-space:pre;overflow-x:auto;line-height:normal;font-family:Menlo,'DejaVu Sans Mono',consolas,'Courier New',monospace\"><span style=\"color: #7fbfbf; text-decoration-color: #7fbfbf\">                    </span><span style=\"color: #0069ff; text-decoration-color: #0069ff; font-weight: bold\">INFO    </span> copying .<span style=\"color: #e100e1; text-decoration-color: #e100e1\">/utils/__pycache__/ssm.cpython-310.pyc</span> -&gt;                    <a href=\"file:///home/ec2-user/anaconda3/envs/python3/lib/python3.10/site-packages/setuptools/_distutils/file_util.py\" target=\"_blank\"><span style=\"color: #7f7f7f; text-decoration-color: #7f7f7f\">file_util.py</span></a><span style=\"color: #7f7f7f; text-decoration-color: #7f7f7f\">:</span><a href=\"file:///home/ec2-user/anaconda3/envs/python3/lib/python3.10/site-packages/setuptools/_distutils/file_util.py#137\" target=\"_blank\"><span style=\"color: #7f7f7f; text-decoration-color: #7f7f7f\">137</span></a>\n",
       "<span style=\"color: #7fbfbf; text-decoration-color: #7fbfbf\">                    </span>         .<span style=\"color: #e100e1; text-decoration-color: #e100e1\">/mlops/pipeline/utils/__pycache__</span>                                    <span style=\"color: #7f7f7f; text-decoration-color: #7f7f7f\">                </span>\n",
       "</pre>\n"
      ],
      "text/plain": [
       "\u001b[2;36m                   \u001b[0m\u001b[2;36m \u001b[0m\u001b[1;38;2;0;105;255mINFO    \u001b[0m copying .\u001b[38;2;225;0;225m/utils/__pycache__/\u001b[0m\u001b[38;2;225;0;225mssm.cpython-310.pyc\u001b[0m ->                    \u001b]8;id=290905;file:///home/ec2-user/anaconda3/envs/python3/lib/python3.10/site-packages/setuptools/_distutils/file_util.py\u001b\\\u001b[2mfile_util.py\u001b[0m\u001b]8;;\u001b\\\u001b[2m:\u001b[0m\u001b]8;id=884735;file:///home/ec2-user/anaconda3/envs/python3/lib/python3.10/site-packages/setuptools/_distutils/file_util.py#137\u001b\\\u001b[2m137\u001b[0m\u001b]8;;\u001b\\\n",
       "\u001b[2;36m                    \u001b[0m         .\u001b[38;2;225;0;225m/mlops/pipeline/utils/\u001b[0m\u001b[38;2;225;0;225m__pycache__\u001b[0m                                    \u001b[2m                \u001b[0m\n"
      ]
     },
     "metadata": {},
     "output_type": "display_data"
    },
    {
     "data": {
      "text/plain": [
       "['./mlops/pipeline/utils/ecr.py',\n",
       " './mlops/pipeline/utils/s3.py',\n",
       " './mlops/pipeline/utils/cicd_templates/code_build_template.json',\n",
       " './mlops/pipeline/utils/cicd_templates/code_pipeline_template.json',\n",
       " './mlops/pipeline/utils/iam.py',\n",
       " './mlops/pipeline/utils/code_pipeline.json',\n",
       " './mlops/pipeline/utils/code_pipeline.py',\n",
       " './mlops/pipeline/utils/code_build.json',\n",
       " './mlops/pipeline/utils/monitoringjob_utils.py',\n",
       " './mlops/pipeline/utils/lambda_func.py',\n",
       " './mlops/pipeline/utils/ssm.py',\n",
       " './mlops/pipeline/utils/__pycache__/s3.cpython-310.pyc',\n",
       " './mlops/pipeline/utils/__pycache__/iam.cpython-310.pyc',\n",
       " './mlops/pipeline/utils/__pycache__/ssm.cpython-310.pyc']"
      ]
     },
     "execution_count": 24,
     "metadata": {},
     "output_type": "execute_result"
    }
   ],
   "source": [
    "copy_tree(\"./utils\", \"./mlops/pipeline/utils\")"
   ]
  },
  {
   "cell_type": "markdown",
   "id": "23fd5c8d-3910-41d2-bba4-94cfe9426504",
   "metadata": {},
   "source": [
    "## 3. Create custom docker image"
   ]
  },
  {
   "cell_type": "code",
   "execution_count": 25,
   "id": "787608b1-d482-4c89-908b-a97e128e50cc",
   "metadata": {
    "tags": []
   },
   "outputs": [],
   "source": [
    "from utils.ecr import ecr_handler\n",
    "ecr = ecr_handler()\n",
    "strAccountID = boto3.client(\"sts\").get_caller_identity().get(\"Account\")"
   ]
  },
  {
   "cell_type": "markdown",
   "id": "849e4cfc-495f-4d4b-972d-eb742ba8464f",
   "metadata": {},
   "source": [
    "### 3.1 For preprocessing"
   ]
  },
  {
   "cell_type": "code",
   "execution_count": 26,
   "id": "17daa7b8-198a-49e0-9a39-9745030f85f1",
   "metadata": {
    "tags": []
   },
   "outputs": [
    {
     "name": "stdout",
     "output_type": "stream",
     "text": [
      "Overwriting custom-docker/Dockerfile-prep\n"
     ]
    }
   ],
   "source": [
    "%%writefile custom-docker/Dockerfile-prep\n",
    "\n",
    "FROM 366743142698.dkr.ecr.ap-northeast-2.amazonaws.com/sagemaker-scikit-learn:1.0-1-cpu-py3\n",
    "RUN pip install -U pip\n",
    "RUN pip install -U sagemaker\n",
    "RUN pip3 install pyathena awswrangler \n",
    "ENV PYTHONUNBUFFERED=TRUE"
   ]
  },
  {
   "cell_type": "code",
   "execution_count": 27,
   "id": "0da15be4-e7fb-447d-9ee0-361c02d966a7",
   "metadata": {
    "tags": []
   },
   "outputs": [],
   "source": [
    "strRepositoryName=\"mlops-image-prep\"  ## <-- 원하는 docker repostory 이름을 추가\n",
    "strRepositoryName = strRepositoryName.lower()\n",
    "strDockerFile = \"Dockerfile-prep\"\n",
    "strDockerDir = \"./custom-docker/\"\n",
    "strTag = \"latest\""
   ]
  },
  {
   "cell_type": "code",
   "execution_count": 28,
   "id": "f2bb4903-16e1-46a8-bc79-337e8f1d3614",
   "metadata": {
    "collapsed": true,
    "jupyter": {
     "outputs_hidden": true
    },
    "tags": []
   },
   "outputs": [
    {
     "name": "stdout",
     "output_type": "stream",
     "text": [
      "/home/ec2-user/SageMaker/mlops-step-alert/2.building-pipelines\n",
      "/home/ec2-user/SageMaker/mlops-step-alert/2.building-pipelines/custom-docker\n",
      "strDockerFile Dockerfile-prep\n",
      "aws ecr get-login --region 'ap-northeast-2' --registry-ids '366743142698' --no-include-email\n"
     ]
    },
    {
     "name": "stderr",
     "output_type": "stream",
     "text": [
      "WARNING! Using --password via the CLI is insecure. Use --password-stdin.\n",
      "WARNING! Your password will be stored unencrypted in /home/ec2-user/.docker/config.json.\n",
      "Configure a credential helper to remove this warning. See\n",
      "https://docs.docker.com/engine/reference/commandline/login/#credentials-store\n",
      "\n"
     ]
    },
    {
     "name": "stdout",
     "output_type": "stream",
     "text": [
      "Login Succeeded\n",
      "\n"
     ]
    },
    {
     "name": "stderr",
     "output_type": "stream",
     "text": [
      "\n",
      "KeyboardInterrupt\n",
      "\n"
     ]
    }
   ],
   "source": [
    "ecr.build_docker(strDockerDir, strDockerFile, strRepositoryName, strRegionName=\"ap-northeast-2\", strAccountId=\"366743142698\")"
   ]
  },
  {
   "cell_type": "code",
   "execution_count": null,
   "id": "55c6f58c-7682-47a3-b09a-d3ee0fda7ad7",
   "metadata": {
    "tags": []
   },
   "outputs": [],
   "source": [
    "strEcrRepositoryUri = ecr.register_image_to_ecr(strRegionName, strAccountID, strRepositoryName, strTag)"
   ]
  },
  {
   "cell_type": "markdown",
   "id": "ae07b37c-3b2a-40b6-b774-94ed7637b932",
   "metadata": {},
   "source": [
    "### 3.2 For training"
   ]
  },
  {
   "cell_type": "code",
   "execution_count": 55,
   "id": "6088857c-1042-4029-8a8a-3e38601144ae",
   "metadata": {
    "tags": []
   },
   "outputs": [
    {
     "name": "stdout",
     "output_type": "stream",
     "text": [
      "Overwriting custom-docker/Dockerfile-tr\n"
     ]
    }
   ],
   "source": [
    "%%writefile custom-docker/Dockerfile-tr\n",
    "\n",
    "FROM 366743142698.dkr.ecr.ap-northeast-2.amazonaws.com/sagemaker-xgboost:1.5-1\n",
    "RUN pip install -U pip\n",
    "RUN pip install -U sagemaker\n",
    "RUN pip install shap\n",
    "RUN pip install sagemaker-inference\n",
    "RUN pip install seaborn==0.11.2\n",
    "ENV PATH=\"/opt/ml/code:${PATH}\"\n",
    "ENV SAGEMAKER_SUBMIT_DIRECTORY /opt/ml/code\n",
    "\n",
    "# /opt/ml and all subdirectories are utilized by SageMaker, \n",
    "# use the /code subdirectory to store your user code.\n",
    "#COPY train.py /opt/ml/code/train.py\n",
    "\n",
    "# Defines train.py as script entrypoint\n",
    "#ENV SAGEMAKER_PROGRAM train.py\n",
    "ENV PYTHONUNBUFFERED=TRUE"
   ]
  },
  {
   "cell_type": "code",
   "execution_count": 56,
   "id": "59f3c134-58dd-462d-9cd2-cb345ee6dcd2",
   "metadata": {
    "tags": []
   },
   "outputs": [],
   "source": [
    "strTrRepositoryName=\"mlops-image-tr\"  ## <-- 원하는 docker repostory 이름을 추가\n",
    "strTrRepositoryName = strTrRepositoryName.lower()\n",
    "strDockerFile = \"Dockerfile-tr\"\n",
    "strDockerDir = \"./custom-docker/\"\n",
    "strTag = \"latest\""
   ]
  },
  {
   "cell_type": "code",
   "execution_count": 57,
   "id": "90c345f7-9999-4678-bea7-c712a4b6f98f",
   "metadata": {
    "tags": []
   },
   "outputs": [
    {
     "name": "stdout",
     "output_type": "stream",
     "text": [
      "/home/ec2-user/SageMaker/mlops-step-alert/2.building-pipelines\n",
      "/home/ec2-user/SageMaker/mlops-step-alert/2.building-pipelines/custom-docker\n",
      "strDockerFile Dockerfile-tr\n",
      "aws ecr get-login --region 'ap-northeast-2' --registry-ids '366743142698' --no-include-email\n"
     ]
    },
    {
     "name": "stderr",
     "output_type": "stream",
     "text": [
      "WARNING! Using --password via the CLI is insecure. Use --password-stdin.\n"
     ]
    },
    {
     "name": "stdout",
     "output_type": "stream",
     "text": [
      "Login Succeeded\n",
      "\n",
      "Sending build context to Docker daemon  7.168kB\n",
      "\n",
      "Step 1/9 : FROM 366743142698.dkr.ecr.ap-northeast-2.amazonaws.com/sagemaker-xgboost:1.5-1\n",
      " ---> 2dee2c955721\n",
      "Step 2/9 : RUN pip install -U pip\n",
      " ---> Using cache\n",
      " ---> 657d6c353448\n",
      "Step 3/9 : RUN pip install -U sagemaker\n",
      " ---> Using cache\n",
      " ---> 6018b8f1f76f\n",
      "Step 4/9 : RUN pip install shap\n",
      " ---> Using cache\n",
      " ---> dd58906f9e8c\n",
      "Step 5/9 : RUN pip install sagemaker-inference\n",
      " ---> Using cache\n",
      " ---> dd416b9ce3a3\n",
      "Step 6/9 : RUN pip install seaborn==0.11.2\n",
      " ---> Using cache\n",
      " ---> 250208a89bcb\n",
      "Step 7/9 : ENV PATH=\"/opt/ml/code:${PATH}\"\n",
      " ---> Using cache\n",
      " ---> 6d4f3d1f4ad9\n",
      "Step 8/9 : ENV SAGEMAKER_SUBMIT_DIRECTORY /opt/ml/code\n",
      " ---> Using cache\n",
      " ---> e74595f60710\n",
      "Step 9/9 : ENV PYTHONUNBUFFERED=TRUE\n",
      " ---> Using cache\n",
      " ---> 4686be875f2e\n",
      "Successfully built 4686be875f2e\n",
      "Successfully tagged mlops-image-tr:latest\n",
      "\n",
      "/home/ec2-user/SageMaker/mlops-step-alert/2.building-pipelines\n"
     ]
    },
    {
     "name": "stderr",
     "output_type": "stream",
     "text": [
      "WARNING! Your password will be stored unencrypted in /home/ec2-user/.docker/config.json.\n",
      "Configure a credential helper to remove this warning. See\n",
      "https://docs.docker.com/engine/reference/commandline/login/#credentials-store\n",
      "\n"
     ]
    }
   ],
   "source": [
    "ecr.build_docker(strDockerDir, strDockerFile, strTrRepositoryName, strRegionName=\"ap-northeast-2\", strAccountId=\"366743142698\")"
   ]
  },
  {
   "cell_type": "code",
   "execution_count": 58,
   "id": "b7337998-00f3-459f-b112-062fd9340813",
   "metadata": {
    "tags": []
   },
   "outputs": [
    {
     "name": "stdout",
     "output_type": "stream",
     "text": [
      "== REGISTER AN IMAGE TO ECR ==\n",
      "  processing_repository_uri: 419974056037.dkr.ecr.us-east-1.amazonaws.com/mlops-image-tr:latest\n",
      "aws ecr get-login --region 'us-east-1' --registry-ids '419974056037' --no-include-email\n"
     ]
    },
    {
     "name": "stderr",
     "output_type": "stream",
     "text": [
      "WARNING! Using --password via the CLI is insecure. Use --password-stdin.\n",
      "WARNING! Your password will be stored unencrypted in /home/ec2-user/.docker/config.json.\n",
      "Configure a credential helper to remove this warning. See\n",
      "https://docs.docker.com/engine/reference/commandline/login/#credentials-store\n",
      "\n"
     ]
    },
    {
     "name": "stdout",
     "output_type": "stream",
     "text": [
      "Login Succeeded\n",
      "\n",
      "aws ecr create-repository --repository-name 'mlops-image-tr'\n",
      "docker tag 'mlops-image-tr:latest' '419974056037.dkr.ecr.us-east-1.amazonaws.com/mlops-image-tr:latest'\n",
      "docker push '419974056037.dkr.ecr.us-east-1.amazonaws.com/mlops-image-tr:latest'\n",
      "== REGISTER AN IMAGE TO ECR ==\n",
      "==============================\n"
     ]
    }
   ],
   "source": [
    "strTrEcrRepositoryUri = ecr.register_image_to_ecr(strRegionName, strAccountID, strTrRepositoryName, strTag)"
   ]
  },
  {
   "cell_type": "markdown",
   "id": "87fe7a4b-03e1-4422-8bd5-62d30e0a419f",
   "metadata": {},
   "source": [
    "## 4. Set default parameters"
   ]
  },
  {
   "cell_type": "code",
   "execution_count": 59,
   "id": "0cbbe6c5-469a-4952-ae8d-927d0dcdc19e",
   "metadata": {
    "tags": []
   },
   "outputs": [
    {
     "data": {
      "text/plain": [
       "'Store suceess'"
      ]
     },
     "execution_count": 59,
     "metadata": {},
     "output_type": "execute_result"
    }
   ],
   "source": [
    "pm.put_params(key=\"PREFIX\", value=strPrefix, overwrite=True)\n",
    "pm.put_params(key=\"-\".join([strPrefix, \"REGION\"]), value=strRegionName, overwrite=True)\n",
    "pm.put_params(key=\"-\".join([strPrefix, \"BUCKET\"]), value=strBucketName, overwrite=True)\n",
    "pm.put_params(key=\"-\".join([strPrefix, \"SAGEMAKER-ROLE-ARN\"]), value=get_execution_role(), overwrite=True)\n",
    "pm.put_params(key=\"-\".join([strPrefix, \"ACCOUNT-ID\"]), value=strAccountID, overwrite=True)\n",
    "pm.put_params(key=\"-\".join([strPrefix, \"IMAGE-URI-PREP\"]), value=strEcrRepositoryUri, overwrite=True)\n",
    "pm.put_params(key=\"-\".join([strPrefix, \"IMAGE-URI-TR\"]), value=strTrEcrRepositoryUri, overwrite=True)\n",
    "pm.put_params(key=\"-\".join([strPrefix, \"LAMBDA-ROLE-ARN\"]), value=lambdaRoleArn, overwrite=True)\n",
    "pm.put_params(key=\"-\".join([strPrefix, \"CODE-BUILD-ROLE-ARN\"]), value=buildRoleArn, overwrite=True)\n",
    "pm.put_params(key=\"-\".join([strPrefix, \"CODE-PIPELINE-ROLE-ARN\"]), value=pipelineRoleArn, overwrite=True)\n",
    "pm.put_params(key=\"-\".join([strPrefix, \"CODE-EVENTBRIDGE-ROLE-ARN\"]), value=eventBridgeRoleArn, overwrite=True)"
   ]
  },
  {
   "cell_type": "code",
   "execution_count": 60,
   "id": "91146dd9-d048-4a6b-86cc-f0aa93e2c2f8",
   "metadata": {
    "tags": []
   },
   "outputs": [
    {
     "name": "stdout",
     "output_type": "stream",
     "text": [
      "PREFIX:  DJ-SM-PIPELINE\n",
      "REGION:  us-east-1\n",
      "BUCKET:  sagemaker-us-east-1-419974056037\n",
      "SAGEMAKER-ROLE-ARN:  arn:aws:iam::419974056037:role/service-role/AmazonSageMaker-ExecutionRole-20221206T163436\n",
      "ACCOUNT-ID:  419974056037\n",
      "IMAGE-URI-PREP:  419974056037.dkr.ecr.us-east-1.amazonaws.com/mlops-image-prep:latest\n",
      "IMAGE-URI-TR:  419974056037.dkr.ecr.us-east-1.amazonaws.com/mlops-image-tr:latest\n",
      "LAMBDA-ROLE-ARN:  arn:aws:iam::419974056037:role/DJ-SM-PIPELINE-LabmdaRole\n",
      "CODE-BUILD-ROLE-ARN:  arn:aws:iam::419974056037:role/DJ-SM-PIPELINE-CodeBuildRole\n",
      "CODE-PIPELINE-ROLE-ARN:  arn:aws:iam::419974056037:role/DJ-SM-PIPELINE-CodePipelineRole\n",
      "CODE-EVENTBRIDGE-ROLE-ARN:  arn:aws:iam::419974056037:role/DJ-SM-PIPELINE-EventBridgeRole\n",
      "DATA-PATH:  s3://sagemaker-us-east-1-419974056037/DJ-SM-PIPELINE-DATA\n"
     ]
    }
   ],
   "source": [
    "print (\"PREFIX: \", pm.get_params(key=\"PREFIX\"))\n",
    "print (\"REGION: \", pm.get_params(key=\"-\".join([strPrefix, \"REGION\"])))\n",
    "print (\"BUCKET: \", pm.get_params(key=\"-\".join([strPrefix, \"BUCKET\"])))\n",
    "print (\"SAGEMAKER-ROLE-ARN: \", pm.get_params(key=\"-\".join([strPrefix, \"SAGEMAKER-ROLE-ARN\"])))\n",
    "print (\"ACCOUNT-ID: \", pm.get_params(key=\"-\".join([strPrefix, \"ACCOUNT-ID\"])))\n",
    "print (\"IMAGE-URI-PREP: \", pm.get_params(key=\"-\".join([strPrefix, \"IMAGE-URI-PREP\"])))\n",
    "print (\"IMAGE-URI-TR: \", pm.get_params(key=\"-\".join([strPrefix, \"IMAGE-URI-TR\"])))\n",
    "print (\"LAMBDA-ROLE-ARN: \", pm.get_params(key=\"-\".join([strPrefix, \"LAMBDA-ROLE-ARN\"])))\n",
    "print (\"CODE-BUILD-ROLE-ARN: \", pm.get_params(key=\"-\".join([strPrefix, \"CODE-BUILD-ROLE-ARN\"])))\n",
    "print (\"CODE-PIPELINE-ROLE-ARN: \", pm.get_params(key=\"-\".join([strPrefix, \"CODE-PIPELINE-ROLE-ARN\"])))\n",
    "print (\"CODE-EVENTBRIDGE-ROLE-ARN: \", pm.get_params(key=\"-\".join([strPrefix, \"CODE-EVENTBRIDGE-ROLE-ARN\"])))\n",
    "print (\"DATA-PATH: \", pm.get_params(key=\"-\".join([strPrefix, \"DATA-PATH\"])))"
   ]
  },
  {
   "cell_type": "code",
   "execution_count": null,
   "id": "9abc16f3-3c76-4481-9a38-9fd63dce799e",
   "metadata": {},
   "outputs": [],
   "source": []
  },
  {
   "cell_type": "code",
   "execution_count": null,
   "id": "8f9b0f15-7ba7-44d7-86a1-4f4b223af646",
   "metadata": {},
   "outputs": [],
   "source": []
  },
  {
   "cell_type": "code",
   "execution_count": 47,
   "id": "1af8f738-8ac8-4373-bb3b-c6e9d7c6b53c",
   "metadata": {
    "tags": []
   },
   "outputs": [],
   "source": [
    "container = sagemaker.image_uris.retrieve(\"xgboost\", strRegionName, \"1.7-1\")"
   ]
  },
  {
   "cell_type": "code",
   "execution_count": 48,
   "id": "0947cf16-7ddf-4290-a43e-33d990d4d188",
   "metadata": {
    "tags": []
   },
   "outputs": [
    {
     "data": {
      "text/plain": [
       "'683313688378.dkr.ecr.us-east-1.amazonaws.com/sagemaker-xgboost:1.7-1'"
      ]
     },
     "execution_count": 48,
     "metadata": {},
     "output_type": "execute_result"
    }
   ],
   "source": [
    "container"
   ]
  },
  {
   "cell_type": "code",
   "execution_count": null,
   "id": "79a630c1-180e-4b09-aee5-09cad3fea296",
   "metadata": {},
   "outputs": [],
   "source": []
  }
 ],
 "metadata": {
  "kernelspec": {
   "display_name": "conda_python3",
   "language": "python",
   "name": "conda_python3"
  },
  "language_info": {
   "codemirror_mode": {
    "name": "ipython",
    "version": 3
   },
   "file_extension": ".py",
   "mimetype": "text/x-python",
   "name": "python",
   "nbconvert_exporter": "python",
   "pygments_lexer": "ipython3",
   "version": "3.10.14"
  },
  "vscode": {
   "interpreter": {
    "hash": "1f4a227f2552de404565d6626d9115986c409361ad6ef0bf195ad88ccd012b73"
   }
  }
 },
 "nbformat": 4,
 "nbformat_minor": 5
}
