{
 "cells": [
  {
   "cell_type": "markdown",
   "id": "8f3dd71b-f63a-4106-b323-67be004b482e",
   "metadata": {},
   "source": [
    "# <B> Setup for SageMaker Immersion Day with DL Framework </B>\n",
    "* Container: conda_python3"
   ]
  },
  {
   "cell_type": "markdown",
   "id": "aaeaff49-a119-4a0c-b48a-f66ab721c458",
   "metadata": {},
   "source": [
    "## AutoReload"
   ]
  },
  {
   "cell_type": "code",
   "execution_count": 2,
   "id": "9f8f8f99-aaa0-42f9-8695-c8bd1884504c",
   "metadata": {
    "tags": []
   },
   "outputs": [],
   "source": [
    "%load_ext autoreload\n",
    "%autoreload 2"
   ]
  },
  {
   "cell_type": "markdown",
   "id": "62d2ac87-cf90-4ffb-8fe2-06227564a280",
   "metadata": {},
   "source": [
    "## 0. Install packages"
   ]
  },
  {
   "cell_type": "code",
   "execution_count": 2,
   "id": "d61ee4ad-7bb7-4627-9631-835d46d2ed0a",
   "metadata": {
    "tags": []
   },
   "outputs": [],
   "source": [
    "install_needed = True  # should only be True once\n",
    "# install_needed = False"
   ]
  },
  {
   "cell_type": "code",
   "execution_count": 3,
   "id": "158d6997-f4ce-47f3-862c-052010bf697a",
   "metadata": {
    "tags": []
   },
   "outputs": [
    {
     "name": "stdout",
     "output_type": "stream",
     "text": [
      "Already revised\n"
     ]
    }
   ],
   "source": [
    "%%bash\n",
    "#!/bin/bash\n",
    "\n",
    "DAEMON_PATH=\"/etc/docker\"\n",
    "MEMORY_SIZE=10G\n",
    "\n",
    "FLAG=$(cat $DAEMON_PATH/daemon.json | jq 'has(\"data-root\")')\n",
    "# echo $FLAG\n",
    "\n",
    "if [ \"$FLAG\" == true ]; then\n",
    "    echo \"Already revised\"\n",
    "else\n",
    "    echo \"Add data-root and default-shm-size=$MEMORY_SIZE\"\n",
    "    sudo cp $DAEMON_PATH/daemon.json $DAEMON_PATH/daemon.json.bak\n",
    "    sudo cat $DAEMON_PATH/daemon.json.bak | jq '. += {\"data-root\":\"/home/ec2-user/SageMaker/.container/docker\",\"default-shm-size\":\"'$MEMORY_SIZE'\"}' | sudo tee $DAEMON_PATH/daemon.json > /dev/null\n",
    "    sudo service docker restart\n",
    "    echo \"Docker Restart\"\n",
    "fi"
   ]
  },
  {
   "cell_type": "code",
   "execution_count": 4,
   "id": "860c928e-4ab4-4b61-809c-834464579283",
   "metadata": {
    "collapsed": true,
    "jupyter": {
     "outputs_hidden": true
    },
    "tags": []
   },
   "outputs": [
    {
     "name": "stdout",
     "output_type": "stream",
     "text": [
      "installing deps and restarting kernel\n",
      "Looking in indexes: https://pypi.org/simple, https://pip.repos.neuron.amazonaws.com\n",
      "Requirement already satisfied: pip in /home/ec2-user/anaconda3/envs/python3/lib/python3.10/site-packages (23.1.2)\n",
      "Looking in indexes: https://pypi.org/simple, https://pip.repos.neuron.amazonaws.com\n",
      "Requirement already satisfied: smdebug in /home/ec2-user/anaconda3/envs/python3/lib/python3.10/site-packages (1.0.12)\n",
      "Requirement already satisfied: sagemaker-experiments in /home/ec2-user/anaconda3/envs/python3/lib/python3.10/site-packages (0.1.43)\n",
      "Requirement already satisfied: protobuf>=3.6.0 in /home/ec2-user/anaconda3/envs/python3/lib/python3.10/site-packages (from smdebug) (3.20.3)\n",
      "Requirement already satisfied: numpy>=1.16.0 in /home/ec2-user/anaconda3/envs/python3/lib/python3.10/site-packages (from smdebug) (1.22.3)\n",
      "Requirement already satisfied: packaging in /home/ec2-user/anaconda3/envs/python3/lib/python3.10/site-packages (from smdebug) (21.3)\n",
      "Requirement already satisfied: boto3>=1.10.32 in /home/ec2-user/anaconda3/envs/python3/lib/python3.10/site-packages (from smdebug) (1.26.114)\n",
      "Requirement already satisfied: pyinstrument==3.4.2 in /home/ec2-user/anaconda3/envs/python3/lib/python3.10/site-packages (from smdebug) (3.4.2)\n",
      "Requirement already satisfied: pyinstrument-cext>=0.2.2 in /home/ec2-user/anaconda3/envs/python3/lib/python3.10/site-packages (from pyinstrument==3.4.2->smdebug) (0.2.4)\n",
      "Requirement already satisfied: botocore<1.30.0,>=1.29.114 in /home/ec2-user/anaconda3/envs/python3/lib/python3.10/site-packages (from boto3>=1.10.32->smdebug) (1.29.114)\n",
      "Requirement already satisfied: jmespath<2.0.0,>=0.7.1 in /home/ec2-user/anaconda3/envs/python3/lib/python3.10/site-packages (from boto3>=1.10.32->smdebug) (1.0.1)\n",
      "Requirement already satisfied: s3transfer<0.7.0,>=0.6.0 in /home/ec2-user/anaconda3/envs/python3/lib/python3.10/site-packages (from boto3>=1.10.32->smdebug) (0.6.0)\n",
      "Requirement already satisfied: pyparsing!=3.0.5,>=2.0.2 in /home/ec2-user/anaconda3/envs/python3/lib/python3.10/site-packages (from packaging->smdebug) (3.0.9)\n",
      "Requirement already satisfied: python-dateutil<3.0.0,>=2.1 in /home/ec2-user/anaconda3/envs/python3/lib/python3.10/site-packages (from botocore<1.30.0,>=1.29.114->boto3>=1.10.32->smdebug) (2.8.2)\n",
      "Requirement already satisfied: urllib3<1.27,>=1.25.4 in /home/ec2-user/anaconda3/envs/python3/lib/python3.10/site-packages (from botocore<1.30.0,>=1.29.114->boto3>=1.10.32->smdebug) (1.26.8)\n",
      "Requirement already satisfied: six>=1.5 in /home/ec2-user/anaconda3/envs/python3/lib/python3.10/site-packages (from python-dateutil<3.0.0,>=2.1->botocore<1.30.0,>=1.29.114->boto3>=1.10.32->smdebug) (1.16.0)\n",
      "Looking in indexes: https://pypi.org/simple, https://pip.repos.neuron.amazonaws.com\n",
      "Requirement already satisfied: sagemaker in /home/ec2-user/anaconda3/envs/python3/lib/python3.10/site-packages (2.152.0)\n",
      "Collecting sagemaker\n",
      "  Downloading sagemaker-2.154.0.tar.gz (786 kB)\n",
      "\u001b[2K     \u001b[90m━━━━━━━━━━━━━━━━━━━━━━━━━━━━━━━━━━━━━━\u001b[0m \u001b[32m786.8/786.8 kB\u001b[0m \u001b[31m21.7 MB/s\u001b[0m eta \u001b[36m0:00:00\u001b[0m00:01\u001b[0m\n",
      "\u001b[?25h  Preparing metadata (setup.py) ... \u001b[?25ldone\n",
      "\u001b[?25hRequirement already satisfied: attrs<23,>=20.3.0 in /home/ec2-user/anaconda3/envs/python3/lib/python3.10/site-packages (from sagemaker) (22.2.0)\n",
      "Requirement already satisfied: boto3<2.0,>=1.26.28 in /home/ec2-user/anaconda3/envs/python3/lib/python3.10/site-packages (from sagemaker) (1.26.114)\n",
      "Requirement already satisfied: cloudpickle==2.2.1 in /home/ec2-user/anaconda3/envs/python3/lib/python3.10/site-packages (from sagemaker) (2.2.1)\n",
      "Requirement already satisfied: google-pasta in /home/ec2-user/anaconda3/envs/python3/lib/python3.10/site-packages (from sagemaker) (0.2.0)\n",
      "Requirement already satisfied: numpy<2.0,>=1.9.0 in /home/ec2-user/anaconda3/envs/python3/lib/python3.10/site-packages (from sagemaker) (1.22.3)\n",
      "Requirement already satisfied: protobuf<4.0,>=3.1 in /home/ec2-user/anaconda3/envs/python3/lib/python3.10/site-packages (from sagemaker) (3.20.3)\n",
      "Requirement already satisfied: protobuf3-to-dict<1.0,>=0.1.5 in /home/ec2-user/anaconda3/envs/python3/lib/python3.10/site-packages (from sagemaker) (0.1.5)\n",
      "Requirement already satisfied: smdebug_rulesconfig==1.0.1 in /home/ec2-user/anaconda3/envs/python3/lib/python3.10/site-packages (from sagemaker) (1.0.1)\n",
      "Requirement already satisfied: importlib-metadata<5.0,>=1.4.0 in /home/ec2-user/anaconda3/envs/python3/lib/python3.10/site-packages (from sagemaker) (4.13.0)\n",
      "Requirement already satisfied: packaging>=20.0 in /home/ec2-user/anaconda3/envs/python3/lib/python3.10/site-packages (from sagemaker) (21.3)\n",
      "Requirement already satisfied: pandas in /home/ec2-user/anaconda3/envs/python3/lib/python3.10/site-packages (from sagemaker) (1.5.2)\n",
      "Requirement already satisfied: pathos in /home/ec2-user/anaconda3/envs/python3/lib/python3.10/site-packages (from sagemaker) (0.3.0)\n",
      "Requirement already satisfied: schema in /home/ec2-user/anaconda3/envs/python3/lib/python3.10/site-packages (from sagemaker) (0.7.5)\n",
      "Requirement already satisfied: PyYAML==5.4.1 in /home/ec2-user/anaconda3/envs/python3/lib/python3.10/site-packages (from sagemaker) (5.4.1)\n",
      "Requirement already satisfied: jsonschema in /home/ec2-user/anaconda3/envs/python3/lib/python3.10/site-packages (from sagemaker) (3.2.0)\n",
      "Requirement already satisfied: platformdirs in /home/ec2-user/anaconda3/envs/python3/lib/python3.10/site-packages (from sagemaker) (2.6.2)\n",
      "Requirement already satisfied: tblib==1.7.0 in /home/ec2-user/anaconda3/envs/python3/lib/python3.10/site-packages (from sagemaker) (1.7.0)\n",
      "Requirement already satisfied: botocore<1.30.0,>=1.29.114 in /home/ec2-user/anaconda3/envs/python3/lib/python3.10/site-packages (from boto3<2.0,>=1.26.28->sagemaker) (1.29.114)\n",
      "Requirement already satisfied: jmespath<2.0.0,>=0.7.1 in /home/ec2-user/anaconda3/envs/python3/lib/python3.10/site-packages (from boto3<2.0,>=1.26.28->sagemaker) (1.0.1)\n",
      "Requirement already satisfied: s3transfer<0.7.0,>=0.6.0 in /home/ec2-user/anaconda3/envs/python3/lib/python3.10/site-packages (from boto3<2.0,>=1.26.28->sagemaker) (0.6.0)\n",
      "Requirement already satisfied: zipp>=0.5 in /home/ec2-user/anaconda3/envs/python3/lib/python3.10/site-packages (from importlib-metadata<5.0,>=1.4.0->sagemaker) (3.11.0)\n",
      "Requirement already satisfied: pyparsing!=3.0.5,>=2.0.2 in /home/ec2-user/anaconda3/envs/python3/lib/python3.10/site-packages (from packaging>=20.0->sagemaker) (3.0.9)\n",
      "Requirement already satisfied: six in /home/ec2-user/anaconda3/envs/python3/lib/python3.10/site-packages (from protobuf3-to-dict<1.0,>=0.1.5->sagemaker) (1.16.0)\n",
      "Requirement already satisfied: pyrsistent>=0.14.0 in /home/ec2-user/anaconda3/envs/python3/lib/python3.10/site-packages (from jsonschema->sagemaker) (0.19.3)\n",
      "Requirement already satisfied: setuptools in /home/ec2-user/anaconda3/envs/python3/lib/python3.10/site-packages (from jsonschema->sagemaker) (65.6.3)\n",
      "Requirement already satisfied: python-dateutil>=2.8.1 in /home/ec2-user/anaconda3/envs/python3/lib/python3.10/site-packages (from pandas->sagemaker) (2.8.2)\n",
      "Requirement already satisfied: pytz>=2020.1 in /home/ec2-user/anaconda3/envs/python3/lib/python3.10/site-packages (from pandas->sagemaker) (2022.7)\n",
      "Requirement already satisfied: ppft>=1.7.6.6 in /home/ec2-user/anaconda3/envs/python3/lib/python3.10/site-packages (from pathos->sagemaker) (1.7.6.6)\n",
      "Requirement already satisfied: dill>=0.3.6 in /home/ec2-user/anaconda3/envs/python3/lib/python3.10/site-packages (from pathos->sagemaker) (0.3.6)\n",
      "Requirement already satisfied: pox>=0.3.2 in /home/ec2-user/anaconda3/envs/python3/lib/python3.10/site-packages (from pathos->sagemaker) (0.3.2)\n",
      "Requirement already satisfied: multiprocess>=0.70.14 in /home/ec2-user/anaconda3/envs/python3/lib/python3.10/site-packages (from pathos->sagemaker) (0.70.14)\n",
      "Requirement already satisfied: contextlib2>=0.5.5 in /home/ec2-user/anaconda3/envs/python3/lib/python3.10/site-packages (from schema->sagemaker) (21.6.0)\n",
      "Requirement already satisfied: urllib3<1.27,>=1.25.4 in /home/ec2-user/anaconda3/envs/python3/lib/python3.10/site-packages (from botocore<1.30.0,>=1.29.114->boto3<2.0,>=1.26.28->sagemaker) (1.26.8)\n",
      "Building wheels for collected packages: sagemaker\n",
      "  Building wheel for sagemaker (setup.py) ... \u001b[?25ldone\n",
      "\u001b[?25h  Created wheel for sagemaker: filename=sagemaker-2.154.0-py2.py3-none-any.whl size=1062840 sha256=3428367cb71335e00556483afe871b52f318e680a2e206b2ef685b46910e589b\n",
      "  Stored in directory: /home/ec2-user/.cache/pip/wheels/9c/74/e3/dc8373ea621e1a5f92e8512c6e1037cceb9f84da169255700b\n",
      "Successfully built sagemaker\n",
      "Installing collected packages: sagemaker\n",
      "  Attempting uninstall: sagemaker\n",
      "    Found existing installation: sagemaker 2.152.0\n",
      "    Uninstalling sagemaker-2.152.0:\n",
      "      Successfully uninstalled sagemaker-2.152.0\n",
      "Successfully installed sagemaker-2.154.0\n"
     ]
    }
   ],
   "source": [
    "import sys\n",
    "import IPython\n",
    "\n",
    "if install_needed:\n",
    "    print(\"installing deps and restarting kernel\")\n",
    "    !{sys.executable} -m pip install -U pip\n",
    "    !{sys.executable} -m pip install -U smdebug sagemaker-experiments\n",
    "    !{sys.executable} -m pip install -U sagemaker\n",
    "    \n",
    "    IPython.Application.instance().kernel.do_shutdown(True)"
   ]
  },
  {
   "cell_type": "markdown",
   "id": "9d235cc4-356c-43e0-99ca-fea913797c99",
   "metadata": {},
   "source": [
    "## 1. Set roles"
   ]
  },
  {
   "cell_type": "code",
   "execution_count": 3,
   "id": "1f3a2019-2337-4b48-9bd8-f577ac13daed",
   "metadata": {
    "tags": []
   },
   "outputs": [],
   "source": [
    "from sagemaker import get_execution_role"
   ]
  },
  {
   "cell_type": "code",
   "execution_count": 4,
   "id": "3be71d18-b4b7-4196-abf1-1922f3013c4e",
   "metadata": {
    "tags": []
   },
   "outputs": [
    {
     "name": "stdout",
     "output_type": "stream",
     "text": [
      "SageMaker Execution Role Name: AmazonSageMaker-ExecutionRole-20221206T163436\n"
     ]
    }
   ],
   "source": [
    "strSageMakerRoleName = get_execution_role().rsplit('/', 1)[-1]\n",
    "print (f\"SageMaker Execution Role Name: {strSageMakerRoleName}\")"
   ]
  },
  {
   "cell_type": "markdown",
   "id": "8acda191-5a24-4904-b637-92e9bfd580e2",
   "metadata": {},
   "source": [
    "### 1.1 Attach IAM polich to sagemaker execution role (<b>with console</b>)\n",
    "> step 1. IAM console 로 이동    \n",
    ">\n",
    "> step 2. 왼쪽 네비게이터에서  \"Role\" 선택  \n",
    "> ![nn](images/Role.png)  \n",
    ">\n",
    "> step 3. SageMaker Execution Role 검색 후 role 선택 (상위 cell output 참조)  \n",
    "> ![nn](images/search-by-rolename.png)  \n",
    ">\n",
    "> step 4. \"attach policies\" 메뉴 선택 \n",
    "> ![nn](images/attach-policy-menu.png)  \n",
    ">\n",
    "> step 5. \"IAMFullAccess\" policy 검색 후 attach \n",
    "> ![nn](images/attach-policy.png) "
   ]
  },
  {
   "cell_type": "code",
   "execution_count": 5,
   "id": "c258dc86-c198-4458-8679-ae99eddfd01c",
   "metadata": {
    "tags": []
   },
   "outputs": [],
   "source": [
    "from utils.iam import iam_handler"
   ]
  },
  {
   "cell_type": "code",
   "execution_count": 6,
   "id": "a54390cd-9d8b-49c3-8f2c-1bfaed27936e",
   "metadata": {
    "tags": []
   },
   "outputs": [],
   "source": [
    "iam = iam_handler()"
   ]
  },
  {
   "cell_type": "code",
   "execution_count": 7,
   "id": "8e152954-1c5f-4408-acf1-96a946b389cc",
   "metadata": {
    "tags": []
   },
   "outputs": [],
   "source": [
    "strID = \"DJ\"\n",
    "strPrefix = f'{strID}-SM-PIPELINE'"
   ]
  },
  {
   "cell_type": "code",
   "execution_count": 8,
   "id": "2e2065e1-7a8a-49a8-8661-886e3ea7dc15",
   "metadata": {
    "tags": []
   },
   "outputs": [
    {
     "data": {
      "text/plain": [
       "'DJ-SM-PIPELINE'"
      ]
     },
     "execution_count": 8,
     "metadata": {},
     "output_type": "execute_result"
    }
   ],
   "source": [
    "strPrefix"
   ]
  },
  {
   "cell_type": "markdown",
   "id": "b227ef91-1417-4295-9534-3196766279f8",
   "metadata": {},
   "source": [
    "### 1.2 Attach policy - sagemaker execution role\n",
    "> SSM  \n",
    "> S3 <BR>\n",
    "> CodeCommit <BR>\n",
    "> CodeBuild <BR>\n",
    "> CodePipeline <BR>\n",
    "> EventBridge <BR>\n",
    "> Lambda <BR>\n",
    "> ECR"
   ]
  },
  {
   "cell_type": "code",
   "execution_count": 9,
   "id": "6c963c5c-ff7c-4622-b45f-6ead188d3e75",
   "metadata": {
    "tags": []
   },
   "outputs": [],
   "source": [
    "listPolicyArn=[\n",
    "    \"arn:aws:iam::aws:policy/AmazonSSMFullAccess\",\n",
    "    #\"arn:aws:iam::aws:policy/AmazonS3FullAccess\",\n",
    "    \"arn:aws:iam::aws:policy/AWSCodeCommitFullAccess\",\n",
    "    \"arn:aws:iam::aws:policy/AWSCodeBuildAdminAccess\",\n",
    "    \"arn:aws:iam::aws:policy/AWSCodePipeline_FullAccess\",\n",
    "    \"arn:aws:iam::aws:policy/AmazonEventBridgeFullAccess\",\n",
    "    \"arn:aws:iam::aws:policy/AWSLambda_FullAccess\",\n",
    "    \"arn:aws:iam::aws:policy/AmazonEC2ContainerRegistryFullAccess\"\n",
    "]\n",
    "for strPolicyArn in listPolicyArn: iam.attach_policy(strSageMakerRoleName, strPolicyArn)"
   ]
  },
  {
   "cell_type": "markdown",
   "id": "be7efd68-8807-4df9-b44c-a0e390467ad4",
   "metadata": {},
   "source": [
    "### 1.3 Create role for lambda"
   ]
  },
  {
   "cell_type": "code",
   "execution_count": 10,
   "id": "26b57063-9b68-48ce-96a6-03de36614436",
   "metadata": {
    "tags": []
   },
   "outputs": [],
   "source": [
    "listService = [\"lambda.amazonaws.com\"]\n",
    "strRoleName = \"-\".join([strPrefix, \"LabmdaRole\"])\n",
    "listPolicyArn = [\n",
    "    \"arn:aws:iam::aws:policy/service-role/AWSLambdaBasicExecutionRole\",\n",
    "    \"arn:aws:iam::aws:policy/AWSLambda_FullAccess\",\n",
    "    \"arn:aws:iam::aws:policy/AmazonSageMakerFullAccess\",\n",
    "]\n",
    "strDescription=\"Role for Lambda to call SageMaker functions'\""
   ]
  },
  {
   "cell_type": "code",
   "execution_count": 11,
   "id": "cca0ef7d-41c7-4338-b157-43a2fc049dc2",
   "metadata": {
    "tags": []
   },
   "outputs": [
    {
     "name": "stdout",
     "output_type": "stream",
     "text": [
      "== CREATE ROLE ==\n",
      "  Role Name: [DJ-SM-PIPELINE-LabmdaRole] is already exist!!, so, this will be deleted and re-created.\n",
      "{'ResponseMetadata': {'RequestId': 'de23e205-7a0c-497a-a313-936d8c0c38e3', 'HTTPStatusCode': 200, 'HTTPHeaders': {'x-amzn-requestid': 'de23e205-7a0c-497a-a313-936d8c0c38e3', 'content-type': 'text/xml', 'content-length': '212', 'date': 'Fri, 12 May 2023 00:27:02 GMT'}, 'RetryAttempts': 0}}\n",
      "arn:aws:iam::aws:policy/service-role/AWSLambdaBasicExecutionRole\n",
      "{'ResponseMetadata': {'RequestId': '2eaccd8f-75e8-44c7-ac3a-bdc62b199120', 'HTTPStatusCode': 200, 'HTTPHeaders': {'x-amzn-requestid': '2eaccd8f-75e8-44c7-ac3a-bdc62b199120', 'content-type': 'text/xml', 'content-length': '212', 'date': 'Fri, 12 May 2023 00:27:02 GMT'}, 'RetryAttempts': 0}}\n",
      "arn:aws:iam::aws:policy/AmazonSageMakerFullAccess\n",
      "{'ResponseMetadata': {'RequestId': '93023317-90ac-420d-b98c-12b75a564969', 'HTTPStatusCode': 200, 'HTTPHeaders': {'x-amzn-requestid': '93023317-90ac-420d-b98c-12b75a564969', 'content-type': 'text/xml', 'content-length': '212', 'date': 'Fri, 12 May 2023 00:27:02 GMT'}, 'RetryAttempts': 0}}\n",
      "arn:aws:iam::aws:policy/AWSLambda_FullAccess\n",
      "  Service name: ['lambda.amazonaws.com'], \n",
      "  Role name: DJ-SM-PIPELINE-LabmdaRole, \n",
      "  Policys: ['arn:aws:iam::aws:policy/service-role/AWSLambdaBasicExecutionRole', 'arn:aws:iam::aws:policy/AWSLambda_FullAccess', 'arn:aws:iam::aws:policy/AmazonSageMakerFullAccess'], \n",
      "  Role ARN: arn:aws:iam::419974056037:role/DJ-SM-PIPELINE-LabmdaRole\n",
      "== COMPLETED ==\n"
     ]
    }
   ],
   "source": [
    "lambdaRoleArn = iam.create_role(\n",
    "    listService=listService,\n",
    "    strRoleName=strRoleName,\n",
    "    listPolicyArn = listPolicyArn,\n",
    "    strDescription=strDescription\n",
    ")"
   ]
  },
  {
   "cell_type": "markdown",
   "id": "b3f8125a-f642-4e5e-96a9-342ba4286e1d",
   "metadata": {
    "tags": []
   },
   "source": [
    "### 1.4 role-codebuild"
   ]
  },
  {
   "cell_type": "code",
   "execution_count": 12,
   "id": "641cf8dd-7fcf-4851-b90b-3ea82fe99726",
   "metadata": {
    "tags": []
   },
   "outputs": [],
   "source": [
    "listService = [\"codebuild.amazonaws.com\", \"sagemaker.amazonaws.com\"]\n",
    "strRoleName = \"-\".join([strPrefix, \"CodeBuildRole\"])\n",
    "listPolicyArn = [\n",
    "    \"arn:aws:iam::aws:policy/AWSCodeCommitFullAccess\",\n",
    "    \"arn:aws:iam::aws:policy/AWSCodeBuildAdminAccess\",\n",
    "    \"arn:aws:iam::aws:policy/AmazonS3FullAccess\",\n",
    "    \"arn:aws:iam::aws:policy/CloudWatchFullAccess\",\n",
    "    \"arn:aws:iam::aws:policy/AmazonSageMakerFullAccess\",\n",
    "    \"arn:aws:iam::aws:policy/AWSLambda_FullAccess\",\n",
    "    \"arn:aws:iam::aws:policy/AmazonSSMFullAccess\",\n",
    "]\n",
    "strDescription=\"Role for CodeBuild\""
   ]
  },
  {
   "cell_type": "code",
   "execution_count": 13,
   "id": "d6e4a6a5-fa94-4cd0-b123-a0997f7afe42",
   "metadata": {
    "tags": []
   },
   "outputs": [
    {
     "name": "stdout",
     "output_type": "stream",
     "text": [
      "== CREATE ROLE ==\n",
      "  Role Name: [DJ-SM-PIPELINE-CodeBuildRole] is already exist!!, so, this will be deleted and re-created.\n",
      "{'ResponseMetadata': {'RequestId': 'd365f3b0-6e91-4670-a732-4782439d448d', 'HTTPStatusCode': 200, 'HTTPHeaders': {'x-amzn-requestid': 'd365f3b0-6e91-4670-a732-4782439d448d', 'content-type': 'text/xml', 'content-length': '212', 'date': 'Fri, 12 May 2023 00:27:03 GMT'}, 'RetryAttempts': 0}}\n",
      "arn:aws:iam::aws:policy/AmazonSSMFullAccess\n",
      "{'ResponseMetadata': {'RequestId': '964e02a9-fee6-4ab5-9413-9a177ee932a7', 'HTTPStatusCode': 200, 'HTTPHeaders': {'x-amzn-requestid': '964e02a9-fee6-4ab5-9413-9a177ee932a7', 'content-type': 'text/xml', 'content-length': '212', 'date': 'Fri, 12 May 2023 00:27:03 GMT'}, 'RetryAttempts': 0}}\n",
      "arn:aws:iam::aws:policy/AWSCodeBuildAdminAccess\n",
      "{'ResponseMetadata': {'RequestId': '15161ec4-bdd8-44c6-9859-71852b7f3b91', 'HTTPStatusCode': 200, 'HTTPHeaders': {'x-amzn-requestid': '15161ec4-bdd8-44c6-9859-71852b7f3b91', 'content-type': 'text/xml', 'content-length': '212', 'date': 'Fri, 12 May 2023 00:27:03 GMT'}, 'RetryAttempts': 0}}\n",
      "arn:aws:iam::aws:policy/AWSCodeCommitFullAccess\n",
      "{'ResponseMetadata': {'RequestId': '6e732d50-c035-441d-aafb-8c43e557ddd5', 'HTTPStatusCode': 200, 'HTTPHeaders': {'x-amzn-requestid': '6e732d50-c035-441d-aafb-8c43e557ddd5', 'content-type': 'text/xml', 'content-length': '212', 'date': 'Fri, 12 May 2023 00:27:03 GMT'}, 'RetryAttempts': 0}}\n",
      "arn:aws:iam::aws:policy/CloudWatchFullAccess\n",
      "{'ResponseMetadata': {'RequestId': '52eabc5f-a326-453f-9fd9-0d7c62490506', 'HTTPStatusCode': 200, 'HTTPHeaders': {'x-amzn-requestid': '52eabc5f-a326-453f-9fd9-0d7c62490506', 'content-type': 'text/xml', 'content-length': '212', 'date': 'Fri, 12 May 2023 00:27:03 GMT'}, 'RetryAttempts': 0}}\n",
      "arn:aws:iam::aws:policy/AmazonSageMakerFullAccess\n",
      "{'ResponseMetadata': {'RequestId': '99b8f363-1956-4de0-a4e5-3aebb594b51f', 'HTTPStatusCode': 200, 'HTTPHeaders': {'x-amzn-requestid': '99b8f363-1956-4de0-a4e5-3aebb594b51f', 'content-type': 'text/xml', 'content-length': '212', 'date': 'Fri, 12 May 2023 00:27:03 GMT'}, 'RetryAttempts': 0}}\n",
      "arn:aws:iam::aws:policy/AmazonS3FullAccess\n",
      "{'ResponseMetadata': {'RequestId': 'e5919862-90a4-4430-9fad-8b5955f3e2a0', 'HTTPStatusCode': 200, 'HTTPHeaders': {'x-amzn-requestid': 'e5919862-90a4-4430-9fad-8b5955f3e2a0', 'content-type': 'text/xml', 'content-length': '212', 'date': 'Fri, 12 May 2023 00:27:04 GMT'}, 'RetryAttempts': 0}}\n",
      "arn:aws:iam::aws:policy/AWSLambda_FullAccess\n",
      "  Service name: ['codebuild.amazonaws.com', 'sagemaker.amazonaws.com'], \n",
      "  Role name: DJ-SM-PIPELINE-CodeBuildRole, \n",
      "  Policys: ['arn:aws:iam::aws:policy/AWSCodeCommitFullAccess', 'arn:aws:iam::aws:policy/AWSCodeBuildAdminAccess', 'arn:aws:iam::aws:policy/AmazonS3FullAccess', 'arn:aws:iam::aws:policy/CloudWatchFullAccess', 'arn:aws:iam::aws:policy/AmazonSageMakerFullAccess', 'arn:aws:iam::aws:policy/AWSLambda_FullAccess', 'arn:aws:iam::aws:policy/AmazonSSMFullAccess'], \n",
      "  Role ARN: arn:aws:iam::419974056037:role/DJ-SM-PIPELINE-CodeBuildRole\n",
      "== COMPLETED ==\n",
      "CODE-BUILD-ROLE-ARN: arn:aws:iam::419974056037:role/DJ-SM-PIPELINE-CodeBuildRole\n"
     ]
    }
   ],
   "source": [
    "buildRoleArn = iam.create_role(\n",
    "    listService=listService,\n",
    "    strRoleName=strRoleName,\n",
    "    listPolicyArn = listPolicyArn,\n",
    "    strDescription=strDescription\n",
    ")\n",
    "print (f\"CODE-BUILD-ROLE-ARN: {buildRoleArn}\")"
   ]
  },
  {
   "cell_type": "markdown",
   "id": "b9a09e07-80a0-40a2-a8a2-9cf763aa11a6",
   "metadata": {
    "tags": []
   },
   "source": [
    "### 1.5 role-codepipeline"
   ]
  },
  {
   "cell_type": "code",
   "execution_count": 14,
   "id": "12eb5771-59de-4e66-aa2d-bfad4d9ac422",
   "metadata": {
    "tags": []
   },
   "outputs": [],
   "source": [
    "listService = [\"codepipeline.amazonaws.com\", \"codebuild.amazonaws.com\"]\n",
    "strRoleName = \"-\".join([strPrefix, \"CodePipelineRole\"])\n",
    "listPolicyArn = [\n",
    "    \"arn:aws:iam::aws:policy/AWSCodeCommitFullAccess\",\n",
    "    \"arn:aws:iam::aws:policy/AmazonS3FullAccess\",\n",
    "    \"arn:aws:iam::aws:policy/AWSCodeBuildAdminAccess\",\n",
    "    \"arn:aws:iam::aws:policy/AWSCodeDeployFullAccess\",\n",
    "    \"arn:aws:iam::aws:policy/AWSCodePipeline_FullAccess\"\n",
    "]\n",
    "strDescription=\"Role for CodePipeline\""
   ]
  },
  {
   "cell_type": "code",
   "execution_count": 15,
   "id": "b144f1f6-660d-4d82-b233-4cda985f62ad",
   "metadata": {
    "tags": []
   },
   "outputs": [
    {
     "name": "stdout",
     "output_type": "stream",
     "text": [
      "== CREATE ROLE ==\n",
      "  Role Name: [DJ-SM-PIPELINE-CodePipelineRole] is already exist!!, so, this will be deleted and re-created.\n",
      "{'ResponseMetadata': {'RequestId': '5fcbff43-2a75-47ed-baf2-d6ddbc8096cb', 'HTTPStatusCode': 200, 'HTTPHeaders': {'x-amzn-requestid': '5fcbff43-2a75-47ed-baf2-d6ddbc8096cb', 'content-type': 'text/xml', 'content-length': '212', 'date': 'Fri, 12 May 2023 00:27:05 GMT'}, 'RetryAttempts': 0}}\n",
      "arn:aws:iam::aws:policy/AWSCodeBuildAdminAccess\n",
      "{'ResponseMetadata': {'RequestId': '82e43d60-70f3-4dd5-833f-b30e3261aac8', 'HTTPStatusCode': 200, 'HTTPHeaders': {'x-amzn-requestid': '82e43d60-70f3-4dd5-833f-b30e3261aac8', 'content-type': 'text/xml', 'content-length': '212', 'date': 'Fri, 12 May 2023 00:27:05 GMT'}, 'RetryAttempts': 0}}\n",
      "arn:aws:iam::aws:policy/AWSCodeCommitFullAccess\n",
      "{'ResponseMetadata': {'RequestId': '1c3e8a4a-2fd0-4719-9327-1ef97f0cf963', 'HTTPStatusCode': 200, 'HTTPHeaders': {'x-amzn-requestid': '1c3e8a4a-2fd0-4719-9327-1ef97f0cf963', 'content-type': 'text/xml', 'content-length': '212', 'date': 'Fri, 12 May 2023 00:27:05 GMT'}, 'RetryAttempts': 0}}\n",
      "arn:aws:iam::aws:policy/AWSCodeDeployFullAccess\n",
      "{'ResponseMetadata': {'RequestId': 'f7795f79-94b3-473f-a7b4-a0038f81b88b', 'HTTPStatusCode': 200, 'HTTPHeaders': {'x-amzn-requestid': 'f7795f79-94b3-473f-a7b4-a0038f81b88b', 'content-type': 'text/xml', 'content-length': '212', 'date': 'Fri, 12 May 2023 00:27:05 GMT'}, 'RetryAttempts': 0}}\n",
      "arn:aws:iam::aws:policy/AmazonS3FullAccess\n",
      "{'ResponseMetadata': {'RequestId': '1fb7998b-2376-4d25-8b65-0aa1ed5c5472', 'HTTPStatusCode': 200, 'HTTPHeaders': {'x-amzn-requestid': '1fb7998b-2376-4d25-8b65-0aa1ed5c5472', 'content-type': 'text/xml', 'content-length': '212', 'date': 'Fri, 12 May 2023 00:27:05 GMT'}, 'RetryAttempts': 0}}\n",
      "arn:aws:iam::aws:policy/AWSCodePipeline_FullAccess\n",
      "  Service name: ['codepipeline.amazonaws.com', 'codebuild.amazonaws.com'], \n",
      "  Role name: DJ-SM-PIPELINE-CodePipelineRole, \n",
      "  Policys: ['arn:aws:iam::aws:policy/AWSCodeCommitFullAccess', 'arn:aws:iam::aws:policy/AmazonS3FullAccess', 'arn:aws:iam::aws:policy/AWSCodeBuildAdminAccess', 'arn:aws:iam::aws:policy/AWSCodeDeployFullAccess', 'arn:aws:iam::aws:policy/AWSCodePipeline_FullAccess'], \n",
      "  Role ARN: arn:aws:iam::419974056037:role/DJ-SM-PIPELINE-CodePipelineRole\n",
      "== COMPLETED ==\n",
      "CODE-PIPELINE-ROLE-ARN: arn:aws:iam::419974056037:role/DJ-SM-PIPELINE-CodePipelineRole\n"
     ]
    }
   ],
   "source": [
    "pipelineRoleArn = iam.create_role(\n",
    "    listService=listService,\n",
    "    strRoleName=strRoleName,\n",
    "    listPolicyArn = listPolicyArn,\n",
    "    strDescription=strDescription\n",
    ")\n",
    "\n",
    "print (f\"CODE-PIPELINE-ROLE-ARN: {pipelineRoleArn}\")"
   ]
  },
  {
   "cell_type": "markdown",
   "id": "347b6fb0-4702-48a1-8a89-85c87a8cb656",
   "metadata": {},
   "source": [
    "### 1.6 role-eventbridge"
   ]
  },
  {
   "cell_type": "code",
   "execution_count": 16,
   "id": "854cefcd-0170-4ecd-8ed9-f8065759ca18",
   "metadata": {
    "tags": []
   },
   "outputs": [],
   "source": [
    "listService = [\"events.amazonaws.com\"]\n",
    "strRoleName = \"-\".join([strPrefix, \"EventBridgeRole\"])\n",
    "listPolicyArn = [\n",
    "    \"arn:aws:iam::aws:policy/AmazonEventBridgeFullAccess\",\n",
    "]\n",
    "strDescription=\"Role for EventBridge\""
   ]
  },
  {
   "cell_type": "code",
   "execution_count": 17,
   "id": "c2e365a8-9925-4b6f-80d0-9a0ecec3ec3b",
   "metadata": {
    "tags": []
   },
   "outputs": [
    {
     "name": "stdout",
     "output_type": "stream",
     "text": [
      "== CREATE ROLE ==\n",
      "  Role Name: [DJ-SM-PIPELINE-EventBridgeRole] is already exist!!, so, this will be deleted and re-created.\n",
      "{'ResponseMetadata': {'RequestId': '2fc1967a-9804-45c6-9dd3-edfca7947627', 'HTTPStatusCode': 200, 'HTTPHeaders': {'x-amzn-requestid': '2fc1967a-9804-45c6-9dd3-edfca7947627', 'content-type': 'text/xml', 'content-length': '212', 'date': 'Fri, 12 May 2023 00:27:06 GMT'}, 'RetryAttempts': 0}}\n",
      "arn:aws:iam::aws:policy/AmazonEventBridgeFullAccess\n",
      "  Service name: ['events.amazonaws.com'], \n",
      "  Role name: DJ-SM-PIPELINE-EventBridgeRole, \n",
      "  Policys: ['arn:aws:iam::aws:policy/AmazonEventBridgeFullAccess'], \n",
      "  Role ARN: arn:aws:iam::419974056037:role/DJ-SM-PIPELINE-EventBridgeRole\n",
      "== COMPLETED ==\n",
      "CODE-PIPELINE-ROLE-ARN: arn:aws:iam::419974056037:role/DJ-SM-PIPELINE-EventBridgeRole\n"
     ]
    }
   ],
   "source": [
    "eventBridgeRoleArn = iam.create_role(\n",
    "    listService=listService,\n",
    "    strRoleName=strRoleName,\n",
    "    listPolicyArn = listPolicyArn,\n",
    "    strDescription=strDescription\n",
    ")\n",
    "\n",
    "print (f\"CODE-PIPELINE-ROLE-ARN: {eventBridgeRoleArn}\")"
   ]
  },
  {
   "cell_type": "markdown",
   "id": "811c5923-3a13-4c78-9633-0e6944bfad2c",
   "metadata": {},
   "source": [
    "## 2. Set datasets and utils"
   ]
  },
  {
   "cell_type": "code",
   "execution_count": 18,
   "id": "b8069438-088e-4e49-a7c6-332e34efe1cb",
   "metadata": {
    "tags": []
   },
   "outputs": [],
   "source": [
    "import os\n",
    "import boto3\n",
    "import sagemaker\n",
    "import pandas as pd\n",
    "from utils.s3 import s3_handler\n",
    "from utils.ssm import parameter_store"
   ]
  },
  {
   "cell_type": "markdown",
   "id": "700aa0b5-bb6e-43d4-97f8-77e7cbb5bc2b",
   "metadata": {},
   "source": [
    "### 2.1 download and manipulate data"
   ]
  },
  {
   "cell_type": "code",
   "execution_count": 19,
   "id": "40fe7b9c-3ffa-4a6a-8232-44dae004f519",
   "metadata": {
    "tags": []
   },
   "outputs": [],
   "source": [
    "s3 = boto3.client(\"s3\")"
   ]
  },
  {
   "cell_type": "code",
   "execution_count": 20,
   "id": "2ffed1ad-2a53-41e2-a7a9-94a340f2a581",
   "metadata": {
    "tags": []
   },
   "outputs": [],
   "source": [
    "strDataPath = os.path.join(\"./dataset\", \"abalone.csv\")\n",
    "s3.download_file(\"sagemaker-sample-files\", f\"datasets/tabular/uci_abalone/abalone.csv\", strDataPath)\n",
    "\n",
    "listFeatureName = [\n",
    "    \"Sex\",\n",
    "    \"Length\",\n",
    "    \"Diameter\",\n",
    "    \"Height\",\n",
    "    \"Whole weight\",\n",
    "    \"Shucked weight\",\n",
    "    \"Viscera weight\",\n",
    "    \"Shell weight\",\n",
    "    \"Rings\",\n",
    "]\n",
    "pdData = pd.read_csv(strDataPath, header=None, names=listFeatureName)\n",
    "\n",
    "# SageMaker XGBoost has the convention of label in the first column\n",
    "pdData = pdData[listFeatureName[-1:] + listFeatureName[:-1]]\n",
    "pdData[\"Sex\"] = pdData[\"Sex\"].astype(\"category\").cat.codes\n",
    "pdData.to_csv(strDataPath, header=True, index=False)"
   ]
  },
  {
   "cell_type": "markdown",
   "id": "d6d053e1-ec27-4b41-94af-4ba446a51bb8",
   "metadata": {},
   "source": [
    "### 2.2 upload to S3 and regiter path to parameter store"
   ]
  },
  {
   "cell_type": "code",
   "execution_count": 21,
   "id": "1914da42-1b51-4445-b792-1393f00ae739",
   "metadata": {
    "tags": []
   },
   "outputs": [
    {
     "name": "stdout",
     "output_type": "stream",
     "text": [
      "This is a S3 handler with [None] region.\n"
     ]
    }
   ],
   "source": [
    "strRegionName=boto3.Session().region_name\n",
    "s3 = s3_handler()\n",
    "pm = parameter_store(strRegionName)"
   ]
  },
  {
   "cell_type": "code",
   "execution_count": 22,
   "id": "dbc35d69-f77f-4d66-816d-1e29f3376c20",
   "metadata": {
    "tags": []
   },
   "outputs": [],
   "source": [
    "strBucketName = sagemaker.Session().default_bucket()"
   ]
  },
  {
   "cell_type": "code",
   "execution_count": 23,
   "id": "7f3248eb-4a05-449e-8c5d-0b6adcd46642",
   "metadata": {
    "tags": []
   },
   "outputs": [
    {
     "name": "stdout",
     "output_type": "stream",
     "text": [
      "Upload:[./dataset] was uploaded to [s3://sagemaker-us-east-1-419974056037/DJ-SM-PIPELINE-DATA]successfully\n"
     ]
    },
    {
     "data": {
      "text/plain": [
       "'Store suceess'"
      ]
     },
     "execution_count": 23,
     "metadata": {},
     "output_type": "execute_result"
    }
   ],
   "source": [
    "source_dir, target_bucket, target_dir = os.path.dirname(strDataPath), strBucketName, \"-\".join([strPrefix, \"DATA\"])\n",
    "s3.upload_dir(source_dir, target_bucket, target_dir)\n",
    "pm.put_params(key=\"-\".join([strPrefix, \"DATA-PATH\"]), value=f\"s3://{target_bucket}/{target_dir}\", overwrite=True)"
   ]
  },
  {
   "cell_type": "markdown",
   "id": "6d26e1db-491b-44b2-b9f6-4ad01893710b",
   "metadata": {
    "tags": []
   },
   "source": [
    "### 2.3 Copy utils to pipeline/utils"
   ]
  },
  {
   "cell_type": "code",
   "execution_count": 24,
   "id": "146571c8-d96f-48ac-bdb3-59f34a761224",
   "metadata": {
    "tags": []
   },
   "outputs": [],
   "source": [
    "from distutils.dir_util import copy_tree"
   ]
  },
  {
   "cell_type": "code",
   "execution_count": 25,
   "id": "e8e83634-fe63-4887-b431-9e458d790e6b",
   "metadata": {
    "tags": []
   },
   "outputs": [
    {
     "data": {
      "text/plain": [
       "['./mlops/pipeline/utils/lambda_func.py',\n",
       " './mlops/pipeline/utils/monitoringjob_utils.py',\n",
       " './mlops/pipeline/utils/ssm.py',\n",
       " './mlops/pipeline/utils/s3.py',\n",
       " './mlops/pipeline/utils/ecr.py',\n",
       " './mlops/pipeline/utils/iam.py',\n",
       " './mlops/pipeline/utils/.ipynb_checkpoints/s3-checkpoint.py',\n",
       " './mlops/pipeline/utils/.ipynb_checkpoints/iam-checkpoint.py',\n",
       " './mlops/pipeline/utils/.ipynb_checkpoints/lambda_func-checkpoint.py',\n",
       " './mlops/pipeline/utils/.ipynb_checkpoints/ssm-checkpoint.py',\n",
       " './mlops/pipeline/utils/.ipynb_checkpoints/monitoringjob_utils-checkpoint.py',\n",
       " './mlops/pipeline/utils/__pycache__/ssm.cpython-39.pyc',\n",
       " './mlops/pipeline/utils/__pycache__/ecr.cpython-310.pyc',\n",
       " './mlops/pipeline/utils/__pycache__/s3.cpython-310.pyc',\n",
       " './mlops/pipeline/utils/__pycache__/iam.cpython-310.pyc',\n",
       " './mlops/pipeline/utils/__pycache__/ssm.cpython-37.pyc',\n",
       " './mlops/pipeline/utils/__pycache__/ssm.cpython-310.pyc',\n",
       " './mlops/pipeline/utils/__pycache__/monitoringjob_utils.cpython-310.pyc',\n",
       " './mlops/pipeline/utils/__pycache__/lambda_func.cpython-310.pyc',\n",
       " './mlops/pipeline/utils/__pycache__/iam.cpython-39.pyc']"
      ]
     },
     "execution_count": 25,
     "metadata": {},
     "output_type": "execute_result"
    }
   ],
   "source": [
    "copy_tree(\"./utils\", \"./mlops/pipeline/utils\")"
   ]
  },
  {
   "cell_type": "markdown",
   "id": "23fd5c8d-3910-41d2-bba4-94cfe9426504",
   "metadata": {},
   "source": [
    "## 3. Create custom docker image"
   ]
  },
  {
   "cell_type": "code",
   "execution_count": 38,
   "id": "787608b1-d482-4c89-908b-a97e128e50cc",
   "metadata": {
    "tags": []
   },
   "outputs": [],
   "source": [
    "from utils.ecr import ecr_handler\n",
    "ecr = ecr_handler()\n",
    "strAccountID = boto3.client(\"sts\").get_caller_identity().get(\"Account\")"
   ]
  },
  {
   "cell_type": "markdown",
   "id": "849e4cfc-495f-4d4b-972d-eb742ba8464f",
   "metadata": {},
   "source": [
    "### 3.1 For preprocessing"
   ]
  },
  {
   "cell_type": "code",
   "execution_count": 47,
   "id": "17daa7b8-198a-49e0-9a39-9745030f85f1",
   "metadata": {
    "tags": []
   },
   "outputs": [
    {
     "name": "stdout",
     "output_type": "stream",
     "text": [
      "Overwriting custom-docker/Dockerfile-prep\n"
     ]
    }
   ],
   "source": [
    "%%writefile custom-docker/Dockerfile-prep\n",
    "\n",
    "FROM 366743142698.dkr.ecr.ap-northeast-2.amazonaws.com/sagemaker-scikit-learn:1.0-1-cpu-py3\n",
    "RUN pip install -U pip\n",
    "RUN pip install -U sagemaker\n",
    "RUN pip3 install pyathena awswrangler \n",
    "ENV PYTHONUNBUFFERED=TRUE"
   ]
  },
  {
   "cell_type": "code",
   "execution_count": 48,
   "id": "0da15be4-e7fb-447d-9ee0-361c02d966a7",
   "metadata": {
    "tags": []
   },
   "outputs": [],
   "source": [
    "strRepositoryName=\"mlops-image-prep\"  ## <-- 원하는 docker repostory 이름을 추가\n",
    "strRepositoryName = strRepositoryName.lower()\n",
    "strDockerFile = \"Dockerfile-prep\"\n",
    "strDockerDir = \"./custom-docker/\"\n",
    "strTag = \"latest\""
   ]
  },
  {
   "cell_type": "code",
   "execution_count": 49,
   "id": "f2bb4903-16e1-46a8-bc79-337e8f1d3614",
   "metadata": {
    "tags": []
   },
   "outputs": [
    {
     "name": "stdout",
     "output_type": "stream",
     "text": [
      "/home/ec2-user/SageMaker/mlops-step-alert/2.building-pipelines\n",
      "/home/ec2-user/SageMaker/mlops-step-alert/2.building-pipelines/custom-docker\n",
      "strDockerFile Dockerfile-prep\n",
      "aws ecr get-login --region 'ap-northeast-2' --registry-ids '366743142698' --no-include-email\n"
     ]
    },
    {
     "name": "stderr",
     "output_type": "stream",
     "text": [
      "WARNING! Using --password via the CLI is insecure. Use --password-stdin.\n",
      "WARNING! Your password will be stored unencrypted in /home/ec2-user/.docker/config.json.\n",
      "Configure a credential helper to remove this warning. See\n",
      "https://docs.docker.com/engine/reference/commandline/login/#credentials-store\n",
      "\n"
     ]
    },
    {
     "name": "stdout",
     "output_type": "stream",
     "text": [
      "Login Succeeded\n",
      "\n",
      "Sending build context to Docker daemon  7.168kB\n",
      "\n",
      "Step 1/5 : FROM 366743142698.dkr.ecr.ap-northeast-2.amazonaws.com/sagemaker-scikit-learn:1.0-1-cpu-py3\n",
      "1.0-1-cpu-py3: Pulling from sagemaker-scikit-learn\n",
      "68e7bb398b9f: Pulling fs layer\n",
      "497a1f968dd9: Pulling fs layer\n",
      "d97e19e8a6be: Pulling fs layer\n",
      "cdd802750018: Pulling fs layer\n",
      "0e8c1b3f12bc: Pulling fs layer\n",
      "fa32be0c079f: Pulling fs layer\n",
      "c566384c41d8: Pulling fs layer\n",
      "e450908e073e: Pulling fs layer\n",
      "e8a86a4af30f: Pulling fs layer\n",
      "7dfba4ed7c4c: Pulling fs layer\n",
      "3ca9131ed516: Pulling fs layer\n",
      "045f5284d8f0: Pulling fs layer\n",
      "fa32be0c079f: Waiting\n",
      "f30007c75ed5: Pulling fs layer\n",
      "d4f14c478a48: Pulling fs layer\n",
      "87161d3a9f33: Pulling fs layer\n",
      "31e5c31b9623: Pulling fs layer\n",
      "40aa6dfd7717: Pulling fs layer\n",
      "f892a107f29d: Pulling fs layer\n",
      "e5907f94f874: Pulling fs layer\n",
      "c566384c41d8: Waiting\n",
      "cdd802750018: Waiting\n",
      "e450908e073e: Waiting\n",
      "e8a86a4af30f: Waiting\n",
      "7dfba4ed7c4c: Waiting\n",
      "d4f14c478a48: Waiting\n",
      "3ca9131ed516: Waiting\n",
      "87161d3a9f33: Waiting\n",
      "045f5284d8f0: Waiting\n",
      "40aa6dfd7717: Waiting\n",
      "f892a107f29d: Waiting\n",
      "0e8c1b3f12bc: Waiting\n",
      "d97e19e8a6be: Verifying Checksum\n",
      "d97e19e8a6be: Download complete\n",
      "68e7bb398b9f: Download complete\n",
      "68e7bb398b9f: Pull complete\n",
      "0e8c1b3f12bc: Verifying Checksum\n",
      "0e8c1b3f12bc: Download complete\n",
      "497a1f968dd9: Verifying Checksum\n",
      "497a1f968dd9: Download complete\n",
      "c566384c41d8: Verifying Checksum\n",
      "c566384c41d8: Download complete\n",
      "fa32be0c079f: Verifying Checksum\n",
      "fa32be0c079f: Download complete\n",
      "e8a86a4af30f: Verifying Checksum\n",
      "e8a86a4af30f: Download complete\n",
      "497a1f968dd9: Pull complete\n",
      "7dfba4ed7c4c: Verifying Checksum\n",
      "7dfba4ed7c4c: Download complete\n",
      "3ca9131ed516: Verifying Checksum\n",
      "3ca9131ed516: Download complete\n",
      "045f5284d8f0: Verifying Checksum\n",
      "045f5284d8f0: Download complete\n",
      "d97e19e8a6be: Pull complete\n",
      "f30007c75ed5: Verifying Checksum\n",
      "f30007c75ed5: Download complete\n",
      "d4f14c478a48: Download complete\n",
      "e450908e073e: Verifying Checksum\n",
      "e450908e073e: Download complete\n",
      "87161d3a9f33: Verifying Checksum\n",
      "87161d3a9f33: Download complete\n",
      "31e5c31b9623: Verifying Checksum\n",
      "31e5c31b9623: Download complete\n",
      "40aa6dfd7717: Download complete\n",
      "f892a107f29d: Download complete\n",
      "e5907f94f874: Verifying Checksum\n",
      "e5907f94f874: Download complete\n",
      "cdd802750018: Verifying Checksum\n",
      "cdd802750018: Download complete\n",
      "cdd802750018: Pull complete\n",
      "0e8c1b3f12bc: Pull complete\n",
      "fa32be0c079f: Pull complete\n",
      "c566384c41d8: Pull complete\n",
      "e450908e073e: Pull complete\n",
      "e8a86a4af30f: Pull complete\n",
      "7dfba4ed7c4c: Pull complete\n",
      "3ca9131ed516: Pull complete\n",
      "045f5284d8f0: Pull complete\n",
      "f30007c75ed5: Pull complete\n",
      "d4f14c478a48: Pull complete\n",
      "87161d3a9f33: Pull complete\n",
      "31e5c31b9623: Pull complete\n",
      "40aa6dfd7717: Pull complete\n",
      "f892a107f29d: Pull complete\n",
      "e5907f94f874: Pull complete\n",
      "Digest: sha256:9dea8a5bb0ea9b48854d4b2b1f1d439e310718c29bea2fe76566a3e287c50de4\n",
      "Status: Downloaded newer image for 366743142698.dkr.ecr.ap-northeast-2.amazonaws.com/sagemaker-scikit-learn:1.0-1-cpu-py3\n",
      " ---> bb7e8d6ce69c\n",
      "Step 2/5 : RUN pip install -U pip\n",
      " ---> Running in 3b757e90ea04\n",
      "Requirement already satisfied: pip in /miniconda3/lib/python3.8/site-packages (23.0.1)\n",
      "Collecting pip\n",
      "  Downloading pip-23.1.2-py3-none-any.whl (2.1 MB)\n",
      "     ━━━━━━━━━━━━━━━━━━━━━━━━━━━━━━━━━━━━━━━━ 2.1/2.1 MB 57.3 MB/s eta 0:00:00\n",
      "Installing collected packages: pip\n",
      "  Attempting uninstall: pip\n",
      "    Found existing installation: pip 23.0.1\n",
      "    Uninstalling pip-23.0.1:\n",
      "      Successfully uninstalled pip-23.0.1\n",
      "Successfully installed pip-23.1.2\n",
      "\u001b[91mWARNING: Running pip as the 'root' user can result in broken permissions and conflicting behaviour with the system package manager. It is recommended to use a virtual environment instead: https://pip.pypa.io/warnings/venv\n",
      "\u001b[0mRemoving intermediate container 3b757e90ea04\n",
      " ---> 0edf9e614209\n",
      "Step 3/5 : RUN pip install -U sagemaker\n",
      " ---> Running in d4949cf6dac3\n",
      "Collecting sagemaker\n",
      "  Downloading sagemaker-2.154.0.tar.gz (786 kB)\n",
      "     ━━━━━━━━━━━━━━━━━━━━━━━━━━━━━━━━━━━━━━ 786.8/786.8 kB 51.3 MB/s eta 0:00:00\n",
      "  Preparing metadata (setup.py): started\n",
      "  Preparing metadata (setup.py): finished with status 'done'\n",
      "Collecting attrs<23,>=20.3.0 (from sagemaker)\n",
      "  Downloading attrs-22.2.0-py3-none-any.whl (60 kB)\n",
      "     ━━━━━━━━━━━━━━━━━━━━━━━━━━━━━━━━━━━━━━━━ 60.0/60.0 kB 11.1 MB/s eta 0:00:00\n",
      "Collecting boto3<2.0,>=1.26.28 (from sagemaker)\n",
      "  Downloading boto3-1.26.133-py3-none-any.whl (135 kB)\n",
      "     ━━━━━━━━━━━━━━━━━━━━━━━━━━━━━━━━━━━━━━ 135.6/135.6 kB 22.5 MB/s eta 0:00:00\n",
      "Collecting cloudpickle==2.2.1 (from sagemaker)\n",
      "  Downloading cloudpickle-2.2.1-py3-none-any.whl (25 kB)\n",
      "Collecting google-pasta (from sagemaker)\n",
      "  Downloading google_pasta-0.2.0-py3-none-any.whl (57 kB)\n",
      "     ━━━━━━━━━━━━━━━━━━━━━━━━━━━━━━━━━━━━━━━━ 57.5/57.5 kB 10.3 MB/s eta 0:00:00\n",
      "Requirement already satisfied: numpy<2.0,>=1.9.0 in /miniconda3/lib/python3.8/site-packages (from sagemaker) (1.24.1)\n",
      "Requirement already satisfied: protobuf<4.0,>=3.1 in /miniconda3/lib/python3.8/site-packages (from sagemaker) (3.20.2)\n",
      "Collecting protobuf3-to-dict<1.0,>=0.1.5 (from sagemaker)\n",
      "  Downloading protobuf3-to-dict-0.1.5.tar.gz (3.5 kB)\n",
      "  Preparing metadata (setup.py): started\n",
      "  Preparing metadata (setup.py): finished with status 'done'\n",
      "Collecting smdebug_rulesconfig==1.0.1 (from sagemaker)\n",
      "  Downloading smdebug_rulesconfig-1.0.1-py2.py3-none-any.whl (20 kB)\n",
      "Collecting importlib-metadata<5.0,>=1.4.0 (from sagemaker)\n",
      "  Downloading importlib_metadata-4.13.0-py3-none-any.whl (23 kB)\n",
      "Collecting packaging>=20.0 (from sagemaker)\n",
      "  Downloading packaging-23.1-py3-none-any.whl (48 kB)\n",
      "     ━━━━━━━━━━━━━━━━━━━━━━━━━━━━━━━━━━━━━━━━ 48.9/48.9 kB 8.2 MB/s eta 0:00:00\n",
      "Requirement already satisfied: pandas in /miniconda3/lib/python3.8/site-packages (from sagemaker) (1.1.3)\n",
      "Collecting pathos (from sagemaker)\n",
      "  Downloading pathos-0.3.0-py3-none-any.whl (79 kB)\n",
      "     ━━━━━━━━━━━━━━━━━━━━━━━━━━━━━━━━━━━━━━━━ 79.8/79.8 kB 14.5 MB/s eta 0:00:00\n",
      "Collecting schema (from sagemaker)\n",
      "  Downloading schema-0.7.5-py2.py3-none-any.whl (17 kB)\n",
      "Collecting PyYAML==5.4.1 (from sagemaker)\n",
      "  Downloading PyYAML-5.4.1-cp38-cp38-manylinux1_x86_64.whl (662 kB)\n",
      "     ━━━━━━━━━━━━━━━━━━━━━━━━━━━━━━━━━━━━━━ 662.4/662.4 kB 55.6 MB/s eta 0:00:00\n",
      "Collecting jsonschema (from sagemaker)\n",
      "  Downloading jsonschema-4.17.3-py3-none-any.whl (90 kB)\n",
      "     ━━━━━━━━━━━━━━━━━━━━━━━━━━━━━━━━━━━━━━━━ 90.4/90.4 kB 17.0 MB/s eta 0:00:00\n",
      "Collecting platformdirs (from sagemaker)\n",
      "  Downloading platformdirs-3.5.1-py3-none-any.whl (15 kB)\n",
      "Collecting tblib==1.7.0 (from sagemaker)\n",
      "  Downloading tblib-1.7.0-py2.py3-none-any.whl (12 kB)\n",
      "Collecting botocore<1.30.0,>=1.29.133 (from boto3<2.0,>=1.26.28->sagemaker)\n",
      "  Downloading botocore-1.29.133-py3-none-any.whl (10.7 MB)\n",
      "     ━━━━━━━━━━━━━━━━━━━━━━━━━━━━━━━━━━━━━━━━ 10.7/10.7 MB 86.1 MB/s eta 0:00:00\n",
      "Requirement already satisfied: jmespath<2.0.0,>=0.7.1 in /miniconda3/lib/python3.8/site-packages (from boto3<2.0,>=1.26.28->sagemaker) (1.0.1)\n",
      "Requirement already satisfied: s3transfer<0.7.0,>=0.6.0 in /miniconda3/lib/python3.8/site-packages (from boto3<2.0,>=1.26.28->sagemaker) (0.6.0)\n",
      "Collecting zipp>=0.5 (from importlib-metadata<5.0,>=1.4.0->sagemaker)\n",
      "  Downloading zipp-3.15.0-py3-none-any.whl (6.8 kB)\n",
      "Requirement already satisfied: six in /miniconda3/lib/python3.8/site-packages (from protobuf3-to-dict<1.0,>=0.1.5->sagemaker) (1.15.0)\n",
      "Collecting importlib-resources>=1.4.0 (from jsonschema->sagemaker)\n",
      "  Downloading importlib_resources-5.12.0-py3-none-any.whl (36 kB)\n",
      "Collecting pkgutil-resolve-name>=1.3.10 (from jsonschema->sagemaker)\n",
      "  Downloading pkgutil_resolve_name-1.3.10-py3-none-any.whl (4.7 kB)\n",
      "Collecting pyrsistent!=0.17.0,!=0.17.1,!=0.17.2,>=0.14.0 (from jsonschema->sagemaker)\n",
      "  Downloading pyrsistent-0.19.3-py3-none-any.whl (57 kB)\n",
      "     ━━━━━━━━━━━━━━━━━━━━━━━━━━━━━━━━━━━━━━━━ 57.5/57.5 kB 9.9 MB/s eta 0:00:00\n",
      "Requirement already satisfied: python-dateutil>=2.7.3 in /miniconda3/lib/python3.8/site-packages (from pandas->sagemaker) (2.8.1)\n",
      "Requirement already satisfied: pytz>=2017.2 in /miniconda3/lib/python3.8/site-packages (from pandas->sagemaker) (2022.7.1)\n",
      "Collecting ppft>=1.7.6.6 (from pathos->sagemaker)\n",
      "  Downloading ppft-1.7.6.6-py3-none-any.whl (52 kB)\n",
      "     ━━━━━━━━━━━━━━━━━━━━━━━━━━━━━━━━━━━━━━━━ 52.8/52.8 kB 10.0 MB/s eta 0:00:00\n",
      "Collecting dill>=0.3.6 (from pathos->sagemaker)\n",
      "  Downloading dill-0.3.6-py3-none-any.whl (110 kB)\n",
      "     ━━━━━━━━━━━━━━━━━━━━━━━━━━━━━━━━━━━━━━ 110.5/110.5 kB 20.5 MB/s eta 0:00:00\n",
      "Collecting pox>=0.3.2 (from pathos->sagemaker)\n",
      "  Downloading pox-0.3.2-py3-none-any.whl (29 kB)\n",
      "Collecting multiprocess>=0.70.14 (from pathos->sagemaker)\n",
      "  Downloading multiprocess-0.70.14-py38-none-any.whl (132 kB)\n",
      "     ━━━━━━━━━━━━━━━━━━━━━━━━━━━━━━━━━━━━━━ 132.0/132.0 kB 24.2 MB/s eta 0:00:00\n",
      "Collecting contextlib2>=0.5.5 (from schema->sagemaker)\n",
      "  Downloading contextlib2-21.6.0-py2.py3-none-any.whl (13 kB)\n",
      "Requirement already satisfied: urllib3<1.27,>=1.25.4 in /miniconda3/lib/python3.8/site-packages (from botocore<1.30.0,>=1.29.133->boto3<2.0,>=1.26.28->sagemaker) (1.26.14)\n",
      "Building wheels for collected packages: sagemaker, protobuf3-to-dict\n",
      "  Building wheel for sagemaker (setup.py): started\n",
      "  Building wheel for sagemaker (setup.py): finished with status 'done'\n",
      "  Created wheel for sagemaker: filename=sagemaker-2.154.0-py2.py3-none-any.whl size=1062839 sha256=3ab845b04647e65a4a6a82d859100366a223cf3dc2dabec9aece8149584bf7e8\n",
      "  Stored in directory: /root/.cache/pip/wheels/b6/4a/51/d1252adfe32fe9484888b7163d0ab36109cb43201e5afa4fe4\n",
      "  Building wheel for protobuf3-to-dict (setup.py): started\n",
      "  Building wheel for protobuf3-to-dict (setup.py): finished with status 'done'\n",
      "  Created wheel for protobuf3-to-dict: filename=protobuf3_to_dict-0.1.5-py3-none-any.whl size=4014 sha256=853def0219544d4ca39fa77042ff0d7d2f3982d6768ff22e480df79955d26051\n",
      "  Stored in directory: /root/.cache/pip/wheels/fc/10/27/2d1e23d8b9a9013a83fbb418a0b17b1e6f81c8db8f53b53934\n",
      "Successfully built sagemaker protobuf3-to-dict\n",
      "Installing collected packages: zipp, tblib, smdebug_rulesconfig, PyYAML, pyrsistent, protobuf3-to-dict, ppft, pox, platformdirs, pkgutil-resolve-name, packaging, google-pasta, dill, contextlib2, cloudpickle, attrs, schema, multiprocess, importlib-resources, importlib-metadata, botocore, pathos, jsonschema, boto3, sagemaker\n",
      "  Attempting uninstall: botocore\n",
      "    Found existing installation: botocore 1.27.18\n",
      "    Uninstalling botocore-1.27.18:\n",
      "      Successfully uninstalled botocore-1.27.18\n",
      "  Attempting uninstall: boto3\n",
      "    Found existing installation: boto3 1.24.17\n",
      "    Uninstalling boto3-1.24.17:\n",
      "      Successfully uninstalled boto3-1.24.17\n",
      "\u001b[91mERROR: pip's dependency resolver does not currently take into account all the packages that are installed. This behaviour is the source of the following dependency conflicts.\n",
      "sagemaker-sklearn-container 2.0 requires boto3==1.24.17, but you have boto3 1.26.133 which is incompatible.\n",
      "sagemaker-sklearn-container 2.0 requires botocore==1.27.18, but you have botocore 1.29.133 which is incompatible.\n",
      "\u001b[0mSuccessfully installed PyYAML-5.4.1 attrs-22.2.0 boto3-1.26.133 botocore-1.29.133 cloudpickle-2.2.1 contextlib2-21.6.0 dill-0.3.6 google-pasta-0.2.0 importlib-metadata-4.13.0 importlib-resources-5.12.0 jsonschema-4.17.3 multiprocess-0.70.14 packaging-23.1 pathos-0.3.0 pkgutil-resolve-name-1.3.10 platformdirs-3.5.1 pox-0.3.2 ppft-1.7.6.6 protobuf3-to-dict-0.1.5 pyrsistent-0.19.3 sagemaker-2.154.0 schema-0.7.5 smdebug_rulesconfig-1.0.1 tblib-1.7.0 zipp-3.15.0\n",
      "\u001b[91mWARNING: Running pip as the 'root' user can result in broken permissions and conflicting behaviour with the system package manager. It is recommended to use a virtual environment instead: https://pip.pypa.io/warnings/venv\n",
      "\u001b[0mRemoving intermediate container d4949cf6dac3\n",
      " ---> 0833fe1c04b1\n",
      "Step 4/5 : RUN pip3 install pyathena awswrangler\n",
      " ---> Running in 1deabdb892a1\n",
      "Collecting pyathena\n",
      "  Downloading pyathena-3.0.0-py3-none-any.whl (71 kB)\n",
      "     ━━━━━━━━━━━━━━━━━━━━━━━━━━━━━━━━━━━━━━━━ 71.7/71.7 kB 8.1 MB/s eta 0:00:00\n",
      "Collecting awswrangler\n",
      "  Downloading awswrangler-3.0.0-py3-none-any.whl (327 kB)\n",
      "     ━━━━━━━━━━━━━━━━━━━━━━━━━━━━━━━━━━━━━━ 327.1/327.1 kB 36.6 MB/s eta 0:00:00\n",
      "Requirement already satisfied: boto3>=1.26.4 in /miniconda3/lib/python3.8/site-packages (from pyathena) (1.26.133)\n",
      "Requirement already satisfied: botocore>=1.29.4 in /miniconda3/lib/python3.8/site-packages (from pyathena) (1.29.133)\n",
      "Collecting fsspec (from pyathena)\n",
      "  Downloading fsspec-2023.5.0-py3-none-any.whl (160 kB)\n",
      "     ━━━━━━━━━━━━━━━━━━━━━━━━━━━━━━━━━━━━━━ 160.1/160.1 kB 28.4 MB/s eta 0:00:00\n",
      "Collecting tenacity>=4.1.0 (from pyathena)\n",
      "  Downloading tenacity-8.2.2-py3-none-any.whl (24 kB)\n",
      "Requirement already satisfied: numpy<2.0,>=1.18 in /miniconda3/lib/python3.8/site-packages (from awswrangler) (1.24.1)\n",
      "Collecting pandas!=1.5.0,<2.0.0,>=1.2.0 (from awswrangler)\n",
      "  Downloading pandas-1.5.3-cp38-cp38-manylinux_2_17_x86_64.manylinux2014_x86_64.whl (12.2 MB)\n",
      "     ━━━━━━━━━━━━━━━━━━━━━━━━━━━━━━━━━━━━━━━━ 12.2/12.2 MB 70.8 MB/s eta 0:00:00\n",
      "Requirement already satisfied: pyarrow>=7.0.0 in /miniconda3/lib/python3.8/site-packages (from awswrangler) (10.0.1)\n",
      "Collecting typing-extensions<5.0.0,>=4.4.0 (from awswrangler)\n",
      "  Downloading typing_extensions-4.5.0-py3-none-any.whl (27 kB)\n",
      "Requirement already satisfied: jmespath<2.0.0,>=0.7.1 in /miniconda3/lib/python3.8/site-packages (from boto3>=1.26.4->pyathena) (1.0.1)\n",
      "Requirement already satisfied: s3transfer<0.7.0,>=0.6.0 in /miniconda3/lib/python3.8/site-packages (from boto3>=1.26.4->pyathena) (0.6.0)\n",
      "Requirement already satisfied: python-dateutil<3.0.0,>=2.1 in /miniconda3/lib/python3.8/site-packages (from botocore>=1.29.4->pyathena) (2.8.1)\n",
      "Requirement already satisfied: urllib3<1.27,>=1.25.4 in /miniconda3/lib/python3.8/site-packages (from botocore>=1.29.4->pyathena) (1.26.14)\n",
      "Requirement already satisfied: pytz>=2020.1 in /miniconda3/lib/python3.8/site-packages (from pandas!=1.5.0,<2.0.0,>=1.2.0->awswrangler) (2022.7.1)\n",
      "Requirement already satisfied: six>=1.5 in /miniconda3/lib/python3.8/site-packages (from python-dateutil<3.0.0,>=2.1->botocore>=1.29.4->pyathena) (1.15.0)\n",
      "Installing collected packages: typing-extensions, tenacity, fsspec, pandas, pyathena, awswrangler\n",
      "  Attempting uninstall: pandas\n",
      "    Found existing installation: pandas 1.1.3\n",
      "    Uninstalling pandas-1.1.3:\n",
      "      Successfully uninstalled pandas-1.1.3\n",
      "\u001b[91mERROR: pip's dependency resolver does not currently take into account all the packages that are installed. This behaviour is the source of the following dependency conflicts.\n",
      "sagemaker-sklearn-container 2.0 requires boto3==1.24.17, but you have boto3 1.26.133 which is incompatible.\n",
      "sagemaker-sklearn-container 2.0 requires botocore==1.27.18, but you have botocore 1.29.133 which is incompatible.\n",
      "sagemaker-sklearn-container 2.0 requires pandas==1.1.3, but you have pandas 1.5.3 which is incompatible.\n",
      "\u001b[0mSuccessfully installed awswrangler-3.0.0 fsspec-2023.5.0 pandas-1.5.3 pyathena-3.0.0 tenacity-8.2.2 typing-extensions-4.5.0\n",
      "\u001b[91mWARNING: Running pip as the 'root' user can result in broken permissions and conflicting behaviour with the system package manager. It is recommended to use a virtual environment instead: https://pip.pypa.io/warnings/venv\n",
      "\u001b[0mRemoving intermediate container 1deabdb892a1\n",
      " ---> cfde0bbe97d5\n",
      "Step 5/5 : ENV PYTHONUNBUFFERED=TRUE\n",
      " ---> Running in 3df00e8169d2\n",
      "Removing intermediate container 3df00e8169d2\n",
      " ---> 83626299ebf1\n",
      "Successfully built 83626299ebf1\n",
      "Successfully tagged mlops-image-prep:latest\n",
      "\n",
      "/home/ec2-user/SageMaker/mlops-step-alert/2.building-pipelines\n"
     ]
    }
   ],
   "source": [
    "ecr.build_docker(strDockerDir, strDockerFile, strRepositoryName, strRegionName=\"ap-northeast-2\", strAccountId=\"366743142698\")"
   ]
  },
  {
   "cell_type": "code",
   "execution_count": 50,
   "id": "55c6f58c-7682-47a3-b09a-d3ee0fda7ad7",
   "metadata": {
    "tags": []
   },
   "outputs": [
    {
     "name": "stdout",
     "output_type": "stream",
     "text": [
      "== REGISTER AN IMAGE TO ECR ==\n",
      "  processing_repository_uri: 419974056037.dkr.ecr.us-east-1.amazonaws.com/mlops-image-prep:latest\n",
      "aws ecr get-login --region 'us-east-1' --registry-ids '419974056037' --no-include-email\n"
     ]
    },
    {
     "name": "stderr",
     "output_type": "stream",
     "text": [
      "WARNING! Using --password via the CLI is insecure. Use --password-stdin.\n",
      "WARNING! Your password will be stored unencrypted in /home/ec2-user/.docker/config.json.\n",
      "Configure a credential helper to remove this warning. See\n",
      "https://docs.docker.com/engine/reference/commandline/login/#credentials-store\n",
      "\n"
     ]
    },
    {
     "name": "stdout",
     "output_type": "stream",
     "text": [
      "Login Succeeded\n",
      "\n",
      "aws ecr create-repository --repository-name 'mlops-image-prep'\n",
      "docker tag 'mlops-image-prep:latest' '419974056037.dkr.ecr.us-east-1.amazonaws.com/mlops-image-prep:latest'\n",
      "docker push '419974056037.dkr.ecr.us-east-1.amazonaws.com/mlops-image-prep:latest'\n",
      "== REGISTER AN IMAGE TO ECR ==\n",
      "==============================\n"
     ]
    }
   ],
   "source": [
    "strEcrRepositoryUri = ecr.register_image_to_ecr(strRegionName, strAccountID, strRepositoryName, strTag)"
   ]
  },
  {
   "cell_type": "markdown",
   "id": "ae07b37c-3b2a-40b6-b774-94ed7637b932",
   "metadata": {},
   "source": [
    "### 3.2 For training"
   ]
  },
  {
   "cell_type": "code",
   "execution_count": 55,
   "id": "6088857c-1042-4029-8a8a-3e38601144ae",
   "metadata": {
    "tags": []
   },
   "outputs": [
    {
     "name": "stdout",
     "output_type": "stream",
     "text": [
      "Overwriting custom-docker/Dockerfile-tr\n"
     ]
    }
   ],
   "source": [
    "%%writefile custom-docker/Dockerfile-tr\n",
    "\n",
    "FROM 366743142698.dkr.ecr.ap-northeast-2.amazonaws.com/sagemaker-xgboost:1.5-1\n",
    "RUN pip install -U pip\n",
    "RUN pip install -U sagemaker\n",
    "RUN pip install shap\n",
    "RUN pip install sagemaker-inference\n",
    "RUN pip install seaborn==0.11.2\n",
    "ENV PATH=\"/opt/ml/code:${PATH}\"\n",
    "ENV SAGEMAKER_SUBMIT_DIRECTORY /opt/ml/code\n",
    "\n",
    "# /opt/ml and all subdirectories are utilized by SageMaker, \n",
    "# use the /code subdirectory to store your user code.\n",
    "#COPY train.py /opt/ml/code/train.py\n",
    "\n",
    "# Defines train.py as script entrypoint\n",
    "#ENV SAGEMAKER_PROGRAM train.py\n",
    "ENV PYTHONUNBUFFERED=TRUE"
   ]
  },
  {
   "cell_type": "code",
   "execution_count": 56,
   "id": "59f3c134-58dd-462d-9cd2-cb345ee6dcd2",
   "metadata": {
    "tags": []
   },
   "outputs": [],
   "source": [
    "strTrRepositoryName=\"mlops-image-tr\"  ## <-- 원하는 docker repostory 이름을 추가\n",
    "strTrRepositoryName = strTrRepositoryName.lower()\n",
    "strDockerFile = \"Dockerfile-tr\"\n",
    "strDockerDir = \"./custom-docker/\"\n",
    "strTag = \"latest\""
   ]
  },
  {
   "cell_type": "code",
   "execution_count": 57,
   "id": "90c345f7-9999-4678-bea7-c712a4b6f98f",
   "metadata": {
    "tags": []
   },
   "outputs": [
    {
     "name": "stdout",
     "output_type": "stream",
     "text": [
      "/home/ec2-user/SageMaker/mlops-step-alert/2.building-pipelines\n",
      "/home/ec2-user/SageMaker/mlops-step-alert/2.building-pipelines/custom-docker\n",
      "strDockerFile Dockerfile-tr\n",
      "aws ecr get-login --region 'ap-northeast-2' --registry-ids '366743142698' --no-include-email\n"
     ]
    },
    {
     "name": "stderr",
     "output_type": "stream",
     "text": [
      "WARNING! Using --password via the CLI is insecure. Use --password-stdin.\n"
     ]
    },
    {
     "name": "stdout",
     "output_type": "stream",
     "text": [
      "Login Succeeded\n",
      "\n",
      "Sending build context to Docker daemon  7.168kB\n",
      "\n",
      "Step 1/9 : FROM 366743142698.dkr.ecr.ap-northeast-2.amazonaws.com/sagemaker-xgboost:1.5-1\n",
      " ---> 2dee2c955721\n",
      "Step 2/9 : RUN pip install -U pip\n",
      " ---> Using cache\n",
      " ---> 657d6c353448\n",
      "Step 3/9 : RUN pip install -U sagemaker\n",
      " ---> Using cache\n",
      " ---> 6018b8f1f76f\n",
      "Step 4/9 : RUN pip install shap\n",
      " ---> Using cache\n",
      " ---> dd58906f9e8c\n",
      "Step 5/9 : RUN pip install sagemaker-inference\n",
      " ---> Using cache\n",
      " ---> dd416b9ce3a3\n",
      "Step 6/9 : RUN pip install seaborn==0.11.2\n",
      " ---> Using cache\n",
      " ---> 250208a89bcb\n",
      "Step 7/9 : ENV PATH=\"/opt/ml/code:${PATH}\"\n",
      " ---> Using cache\n",
      " ---> 6d4f3d1f4ad9\n",
      "Step 8/9 : ENV SAGEMAKER_SUBMIT_DIRECTORY /opt/ml/code\n",
      " ---> Using cache\n",
      " ---> e74595f60710\n",
      "Step 9/9 : ENV PYTHONUNBUFFERED=TRUE\n",
      " ---> Using cache\n",
      " ---> 4686be875f2e\n",
      "Successfully built 4686be875f2e\n",
      "Successfully tagged mlops-image-tr:latest\n",
      "\n",
      "/home/ec2-user/SageMaker/mlops-step-alert/2.building-pipelines\n"
     ]
    },
    {
     "name": "stderr",
     "output_type": "stream",
     "text": [
      "WARNING! Your password will be stored unencrypted in /home/ec2-user/.docker/config.json.\n",
      "Configure a credential helper to remove this warning. See\n",
      "https://docs.docker.com/engine/reference/commandline/login/#credentials-store\n",
      "\n"
     ]
    }
   ],
   "source": [
    "ecr.build_docker(strDockerDir, strDockerFile, strTrRepositoryName, strRegionName=\"ap-northeast-2\", strAccountId=\"366743142698\")"
   ]
  },
  {
   "cell_type": "code",
   "execution_count": 58,
   "id": "b7337998-00f3-459f-b112-062fd9340813",
   "metadata": {
    "tags": []
   },
   "outputs": [
    {
     "name": "stdout",
     "output_type": "stream",
     "text": [
      "== REGISTER AN IMAGE TO ECR ==\n",
      "  processing_repository_uri: 419974056037.dkr.ecr.us-east-1.amazonaws.com/mlops-image-tr:latest\n",
      "aws ecr get-login --region 'us-east-1' --registry-ids '419974056037' --no-include-email\n"
     ]
    },
    {
     "name": "stderr",
     "output_type": "stream",
     "text": [
      "WARNING! Using --password via the CLI is insecure. Use --password-stdin.\n",
      "WARNING! Your password will be stored unencrypted in /home/ec2-user/.docker/config.json.\n",
      "Configure a credential helper to remove this warning. See\n",
      "https://docs.docker.com/engine/reference/commandline/login/#credentials-store\n",
      "\n"
     ]
    },
    {
     "name": "stdout",
     "output_type": "stream",
     "text": [
      "Login Succeeded\n",
      "\n",
      "aws ecr create-repository --repository-name 'mlops-image-tr'\n",
      "docker tag 'mlops-image-tr:latest' '419974056037.dkr.ecr.us-east-1.amazonaws.com/mlops-image-tr:latest'\n",
      "docker push '419974056037.dkr.ecr.us-east-1.amazonaws.com/mlops-image-tr:latest'\n",
      "== REGISTER AN IMAGE TO ECR ==\n",
      "==============================\n"
     ]
    }
   ],
   "source": [
    "strTrEcrRepositoryUri = ecr.register_image_to_ecr(strRegionName, strAccountID, strTrRepositoryName, strTag)"
   ]
  },
  {
   "cell_type": "markdown",
   "id": "87fe7a4b-03e1-4422-8bd5-62d30e0a419f",
   "metadata": {},
   "source": [
    "## 4. Set default parameters"
   ]
  },
  {
   "cell_type": "code",
   "execution_count": 59,
   "id": "0cbbe6c5-469a-4952-ae8d-927d0dcdc19e",
   "metadata": {
    "tags": []
   },
   "outputs": [
    {
     "data": {
      "text/plain": [
       "'Store suceess'"
      ]
     },
     "execution_count": 59,
     "metadata": {},
     "output_type": "execute_result"
    }
   ],
   "source": [
    "pm.put_params(key=\"PREFIX\", value=strPrefix, overwrite=True)\n",
    "pm.put_params(key=\"-\".join([strPrefix, \"REGION\"]), value=strRegionName, overwrite=True)\n",
    "pm.put_params(key=\"-\".join([strPrefix, \"BUCKET\"]), value=strBucketName, overwrite=True)\n",
    "pm.put_params(key=\"-\".join([strPrefix, \"SAGEMAKER-ROLE-ARN\"]), value=get_execution_role(), overwrite=True)\n",
    "pm.put_params(key=\"-\".join([strPrefix, \"ACCOUNT-ID\"]), value=strAccountID, overwrite=True)\n",
    "pm.put_params(key=\"-\".join([strPrefix, \"IMAGE-URI-PREP\"]), value=strEcrRepositoryUri, overwrite=True)\n",
    "pm.put_params(key=\"-\".join([strPrefix, \"IMAGE-URI-TR\"]), value=strTrEcrRepositoryUri, overwrite=True)\n",
    "pm.put_params(key=\"-\".join([strPrefix, \"LAMBDA-ROLE-ARN\"]), value=lambdaRoleArn, overwrite=True)\n",
    "pm.put_params(key=\"-\".join([strPrefix, \"CODE-BUILD-ROLE-ARN\"]), value=buildRoleArn, overwrite=True)\n",
    "pm.put_params(key=\"-\".join([strPrefix, \"CODE-PIPELINE-ROLE-ARN\"]), value=pipelineRoleArn, overwrite=True)\n",
    "pm.put_params(key=\"-\".join([strPrefix, \"CODE-EVENTBRIDGE-ROLE-ARN\"]), value=eventBridgeRoleArn, overwrite=True)"
   ]
  },
  {
   "cell_type": "code",
   "execution_count": 60,
   "id": "91146dd9-d048-4a6b-86cc-f0aa93e2c2f8",
   "metadata": {
    "tags": []
   },
   "outputs": [
    {
     "name": "stdout",
     "output_type": "stream",
     "text": [
      "PREFIX:  DJ-SM-PIPELINE\n",
      "REGION:  us-east-1\n",
      "BUCKET:  sagemaker-us-east-1-419974056037\n",
      "SAGEMAKER-ROLE-ARN:  arn:aws:iam::419974056037:role/service-role/AmazonSageMaker-ExecutionRole-20221206T163436\n",
      "ACCOUNT-ID:  419974056037\n",
      "IMAGE-URI-PREP:  419974056037.dkr.ecr.us-east-1.amazonaws.com/mlops-image-prep:latest\n",
      "IMAGE-URI-TR:  419974056037.dkr.ecr.us-east-1.amazonaws.com/mlops-image-tr:latest\n",
      "LAMBDA-ROLE-ARN:  arn:aws:iam::419974056037:role/DJ-SM-PIPELINE-LabmdaRole\n",
      "CODE-BUILD-ROLE-ARN:  arn:aws:iam::419974056037:role/DJ-SM-PIPELINE-CodeBuildRole\n",
      "CODE-PIPELINE-ROLE-ARN:  arn:aws:iam::419974056037:role/DJ-SM-PIPELINE-CodePipelineRole\n",
      "CODE-EVENTBRIDGE-ROLE-ARN:  arn:aws:iam::419974056037:role/DJ-SM-PIPELINE-EventBridgeRole\n",
      "DATA-PATH:  s3://sagemaker-us-east-1-419974056037/DJ-SM-PIPELINE-DATA\n"
     ]
    }
   ],
   "source": [
    "print (\"PREFIX: \", pm.get_params(key=\"PREFIX\"))\n",
    "print (\"REGION: \", pm.get_params(key=\"-\".join([strPrefix, \"REGION\"])))\n",
    "print (\"BUCKET: \", pm.get_params(key=\"-\".join([strPrefix, \"BUCKET\"])))\n",
    "print (\"SAGEMAKER-ROLE-ARN: \", pm.get_params(key=\"-\".join([strPrefix, \"SAGEMAKER-ROLE-ARN\"])))\n",
    "print (\"ACCOUNT-ID: \", pm.get_params(key=\"-\".join([strPrefix, \"ACCOUNT-ID\"])))\n",
    "print (\"IMAGE-URI-PREP: \", pm.get_params(key=\"-\".join([strPrefix, \"IMAGE-URI-PREP\"])))\n",
    "print (\"IMAGE-URI-TR: \", pm.get_params(key=\"-\".join([strPrefix, \"IMAGE-URI-TR\"])))\n",
    "print (\"LAMBDA-ROLE-ARN: \", pm.get_params(key=\"-\".join([strPrefix, \"LAMBDA-ROLE-ARN\"])))\n",
    "print (\"CODE-BUILD-ROLE-ARN: \", pm.get_params(key=\"-\".join([strPrefix, \"CODE-BUILD-ROLE-ARN\"])))\n",
    "print (\"CODE-PIPELINE-ROLE-ARN: \", pm.get_params(key=\"-\".join([strPrefix, \"CODE-PIPELINE-ROLE-ARN\"])))\n",
    "print (\"CODE-EVENTBRIDGE-ROLE-ARN: \", pm.get_params(key=\"-\".join([strPrefix, \"CODE-EVENTBRIDGE-ROLE-ARN\"])))\n",
    "print (\"DATA-PATH: \", pm.get_params(key=\"-\".join([strPrefix, \"DATA-PATH\"])))"
   ]
  },
  {
   "cell_type": "code",
   "execution_count": null,
   "id": "9abc16f3-3c76-4481-9a38-9fd63dce799e",
   "metadata": {},
   "outputs": [],
   "source": []
  },
  {
   "cell_type": "code",
   "execution_count": null,
   "id": "8f9b0f15-7ba7-44d7-86a1-4f4b223af646",
   "metadata": {},
   "outputs": [],
   "source": []
  },
  {
   "cell_type": "code",
   "execution_count": 47,
   "id": "1af8f738-8ac8-4373-bb3b-c6e9d7c6b53c",
   "metadata": {
    "tags": []
   },
   "outputs": [],
   "source": [
    "container = sagemaker.image_uris.retrieve(\"xgboost\", strRegionName, \"1.7-1\")"
   ]
  },
  {
   "cell_type": "code",
   "execution_count": 48,
   "id": "0947cf16-7ddf-4290-a43e-33d990d4d188",
   "metadata": {
    "tags": []
   },
   "outputs": [
    {
     "data": {
      "text/plain": [
       "'683313688378.dkr.ecr.us-east-1.amazonaws.com/sagemaker-xgboost:1.7-1'"
      ]
     },
     "execution_count": 48,
     "metadata": {},
     "output_type": "execute_result"
    }
   ],
   "source": [
    "container"
   ]
  },
  {
   "cell_type": "code",
   "execution_count": null,
   "id": "79a630c1-180e-4b09-aee5-09cad3fea296",
   "metadata": {},
   "outputs": [],
   "source": []
  }
 ],
 "metadata": {
  "kernelspec": {
   "display_name": "conda_python3",
   "language": "python",
   "name": "conda_python3"
  },
  "language_info": {
   "codemirror_mode": {
    "name": "ipython",
    "version": 3
   },
   "file_extension": ".py",
   "mimetype": "text/x-python",
   "name": "python",
   "nbconvert_exporter": "python",
   "pygments_lexer": "ipython3",
   "version": "3.10.8"
  },
  "vscode": {
   "interpreter": {
    "hash": "1f4a227f2552de404565d6626d9115986c409361ad6ef0bf195ad88ccd012b73"
   }
  }
 },
 "nbformat": 4,
 "nbformat_minor": 5
}
