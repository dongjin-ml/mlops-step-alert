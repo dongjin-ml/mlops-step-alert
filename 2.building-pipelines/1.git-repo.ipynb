{
 "cells": [
  {
   "cell_type": "markdown",
   "id": "122ba731-463f-49f9-b8c2-127accc86f99",
   "metadata": {},
   "source": [
    "# <B> Create Git Repository using CodeCommit </B>\n",
    "* Container: conda_python3"
   ]
  },
  {
   "cell_type": "markdown",
   "id": "3665e531-a675-4aee-bd46-5315171c71d2",
   "metadata": {},
   "source": [
    "## AutoReload"
   ]
  },
  {
   "cell_type": "code",
   "execution_count": 1,
   "id": "df10ee57-06f1-40d4-ba1b-2094f60120ff",
   "metadata": {
    "tags": []
   },
   "outputs": [],
   "source": [
    "%load_ext autoreload\n",
    "%autoreload 2"
   ]
  },
  {
   "cell_type": "markdown",
   "id": "40aa16e2-669a-4293-b7d9-b3231b7582cc",
   "metadata": {},
   "source": [
    "## 1. parameter store 설정"
   ]
  },
  {
   "cell_type": "code",
   "execution_count": 2,
   "id": "7f719a0f-a802-40ad-9f7f-4d34608cda86",
   "metadata": {
    "tags": []
   },
   "outputs": [],
   "source": [
    "import boto3\n",
    "from utils.ssm import parameter_store"
   ]
  },
  {
   "cell_type": "code",
   "execution_count": 3,
   "id": "68e05dfe-f8c2-48cf-98cc-1280fab494be",
   "metadata": {
    "tags": []
   },
   "outputs": [],
   "source": [
    "strRegionName=boto3.Session().region_name\n",
    "pm = parameter_store(strRegionName)\n",
    "strPrefix = pm.get_params(key=\"PREFIX\")"
   ]
  },
  {
   "cell_type": "code",
   "execution_count": 4,
   "id": "1189a873-dd03-4c0c-9eb7-fee399a50824",
   "metadata": {
    "tags": []
   },
   "outputs": [],
   "source": [
    "strBucketName = pm.get_params(key=\"-\".join([strPrefix, \"BUCKET\"]))\n",
    "strExecutionRole = pm.get_params(key=\"-\".join([strPrefix, \"SAGEMAKER-ROLE-ARN\"]))"
   ]
  },
  {
   "cell_type": "code",
   "execution_count": 5,
   "id": "e305a0fc-6aca-48be-a100-dcfd60683bd8",
   "metadata": {
    "tags": []
   },
   "outputs": [
    {
     "name": "stdout",
     "output_type": "stream",
     "text": [
      "strBucketName: sagemaker-us-east-1-419974056037\n",
      "strExecutionRole: arn:aws:iam::419974056037:role/service-role/AmazonSageMaker-ExecutionRole-20221206T163436\n"
     ]
    }
   ],
   "source": [
    "print (f'strBucketName: {strBucketName}')\n",
    "print (f'strExecutionRole: {strExecutionRole}')"
   ]
  },
  {
   "cell_type": "markdown",
   "id": "fa447026-e4d9-48af-b5af-e60965123f53",
   "metadata": {},
   "source": [
    "## 2. CodeCommit 생성하기"
   ]
  },
  {
   "cell_type": "code",
   "execution_count": 6,
   "id": "4dc778b8-7e07-41ad-89d3-1bf916180b43",
   "metadata": {
    "tags": []
   },
   "outputs": [],
   "source": [
    "import boto3"
   ]
  },
  {
   "cell_type": "code",
   "execution_count": 7,
   "id": "cb058ab9-9e9f-4c21-b3c8-29e0455cb8dc",
   "metadata": {
    "tags": []
   },
   "outputs": [],
   "source": [
    "iam_client = boto3.client('iam')\n",
    "codecommit_client = boto3.client('codecommit')"
   ]
  },
  {
   "cell_type": "markdown",
   "id": "deae6a6e-d45b-4fb0-bbd8-29176ebc7def",
   "metadata": {},
   "source": [
    "### 2.1 CodeCommit 관련 Credentials 생성 및 Parameter store에 저장하기"
   ]
  },
  {
   "cell_type": "markdown",
   "id": "e56168ff-7418-4e6a-b38a-7644d5c200ad",
   "metadata": {
    "tags": []
   },
   "source": [
    "* CodeCommit Credentials"
   ]
  },
  {
   "cell_type": "code",
   "execution_count": 8,
   "id": "be004075-b6f7-45bf-967c-0bd376838e92",
   "metadata": {
    "tags": []
   },
   "outputs": [
    {
     "name": "stdout",
     "output_type": "stream",
     "text": [
      "codecommit_cred: codecommit-cred-dongjin\n"
     ]
    }
   ],
   "source": [
    "user_name = 'dongjin' ## ==> IAM에서 사용자 아이디 확인합니다.\n",
    "codecommit_cred = 'codecommit-cred-' + user_name\n",
    "print (f'codecommit_cred: {codecommit_cred}')"
   ]
  },
  {
   "cell_type": "code",
   "execution_count": 9,
   "id": "748dfc1f-0cb9-4cbe-b595-84e3a6079b6c",
   "metadata": {
    "tags": []
   },
   "outputs": [
    {
     "name": "stdout",
     "output_type": "stream",
     "text": [
      "ServiceUserName : dongjin-at-419974056037 \n",
      "ServicePassword : NNOrSohFz6EWG7yGDje7FWyGcopbNWexrvyN7sTe8VE=\n"
     ]
    }
   ],
   "source": [
    "try:\n",
    "    response = iam_client.list_service_specific_credentials(\n",
    "        UserName=user_name,\n",
    "        ServiceName='codecommit.amazonaws.com'\n",
    "    )\n",
    "    if len(response['ServiceSpecificCredentials']) > 0:\n",
    "        response = iam_client.delete_service_specific_credential(\n",
    "            UserName=user_name,\n",
    "            ServiceSpecificCredentialId=response['ServiceSpecificCredentials'][-1]['ServiceSpecificCredentialId']\n",
    "        )\n",
    "except:\n",
    "    print(\"Create new codecommit crendentials\")\n",
    "    pass\n",
    "finally:\n",
    "    response = iam_client.create_service_specific_credential(\n",
    "        UserName=user_name,\n",
    "        ServiceName='codecommit.amazonaws.com'\n",
    "    )\n",
    "    ServiceUserName = response['ServiceSpecificCredential']['ServiceUserName']\n",
    "    ServicePassword = response['ServiceSpecificCredential']['ServicePassword']\n",
    "print(f\"ServiceUserName : {ServiceUserName} \\nServicePassword : {ServicePassword}\")"
   ]
  },
  {
   "cell_type": "code",
   "execution_count": 10,
   "id": "24297515-7810-468d-94b2-5b6b37e0cd52",
   "metadata": {},
   "outputs": [],
   "source": [
    "code_repository_name = 'TRAIN-CODE' ## ==> 사용할 code repository 폴더 명을 넣습니다. ex) model_code\n",
    "local_code_dir = './sources' ## ==> 생성한 local의 code repository 폴더 명을 넣습니다. ex) code"
   ]
  },
  {
   "cell_type": "code",
   "execution_count": 11,
   "id": "98fa276b-6498-4c68-9595-6ec26f8c1460",
   "metadata": {
    "tags": []
   },
   "outputs": [],
   "source": [
    "try:\n",
    "    response = codecommit_client.create_repository(\n",
    "        repositoryName=code_repository_name,\n",
    "        repositoryDescription='Data Scientists share their training code using this Repository'\n",
    "    )\n",
    "except:\n",
    "    \n",
    "    print(\"Repository already exists\")\n",
    "    response = codecommit_client.get_repository(\n",
    "        repositoryName=code_repository_name\n",
    "    )"
   ]
  },
  {
   "cell_type": "code",
   "execution_count": 12,
   "id": "820e6414-f8e7-41fb-94cc-21dbbbe599f6",
   "metadata": {
    "tags": []
   },
   "outputs": [
    {
     "data": {
      "text/plain": [
       "'https://git-codecommit.us-east-1.amazonaws.com/v1/repos/TRAIN-CODE'"
      ]
     },
     "execution_count": 12,
     "metadata": {},
     "output_type": "execute_result"
    }
   ],
   "source": [
    "codecommit_repo = response['repositoryMetadata']['cloneUrlHttp']\n",
    "codecommit_repo"
   ]
  },
  {
   "cell_type": "code",
   "execution_count": 14,
   "id": "2ac3d7d9-355c-499e-8ea7-1e3e99ef5c0c",
   "metadata": {
    "tags": []
   },
   "outputs": [
    {
     "name": "stdout",
     "output_type": "stream",
     "text": [
      "\u001b[33mhint: Using 'master' as the name for the initial branch. This default branch name\u001b[m\n",
      "\u001b[33mhint: is subject to change. To configure the initial branch name to use in all\u001b[m\n",
      "\u001b[33mhint: of your new repositories, which will suppress this warning, call:\u001b[m\n",
      "\u001b[33mhint: \u001b[m\n",
      "\u001b[33mhint: \tgit config --global init.defaultBranch <name>\u001b[m\n",
      "\u001b[33mhint: \u001b[m\n",
      "\u001b[33mhint: Names commonly chosen instead of 'master' are 'main', 'trunk' and\u001b[m\n",
      "\u001b[33mhint: 'development'. The just-created branch can be renamed via this command:\u001b[m\n",
      "\u001b[33mhint: \u001b[m\n",
      "\u001b[33mhint: \tgit branch -m <name>\u001b[m\n",
      "Initialized empty Git repository in /home/ec2-user/SageMaker/mlops-step-alert/2.building-pipelines/.git/\n",
      "Switched to a new branch 'main'\n",
      "[main (root-commit) 65af44a] code-update\n",
      " 15 files changed, 850 insertions(+)\n",
      " create mode 100644 sources/evaluation/.ipynb_checkpoints/evaluation-checkpoint.py\n",
      " create mode 100644 sources/evaluation/.ipynb_checkpoints/requirements-checkpoint.txt\n",
      " create mode 100644 sources/evaluation/evaluation.py\n",
      " create mode 100644 sources/evaluation/requirements.txt\n",
      " create mode 100644 sources/inference/.ipynb_checkpoints/inference-checkpoint.py\n",
      " create mode 100644 sources/inference/inference.py\n",
      " create mode 100644 sources/inference/requirements.txt\n",
      " create mode 100644 sources/preprocessing/.ipynb_checkpoints/preprocessing-checkpoint.py\n",
      " create mode 100644 sources/preprocessing/.ipynb_checkpoints/requirements-checkpoint.txt\n",
      " create mode 100644 sources/preprocessing/preprocessing.py\n",
      " create mode 100644 sources/preprocessing/requirements.txt\n",
      " create mode 100644 sources/train/.ipynb_checkpoints/requirements-checkpoint.txt\n",
      " create mode 100644 sources/train/.ipynb_checkpoints/xgboost_regression-checkpoint.py\n",
      " create mode 100644 sources/train/requirements.txt\n",
      " create mode 100644 sources/train/xgboost_regression.py\n",
      "Enumerating objects: 18, done.\n",
      "Counting objects: 100% (18/18), done.\n",
      "Delta compression using up to 8 threads\n",
      "Compressing objects: 100% (14/14), done.\n",
      "Writing objects: 100% (18/18), 6.43 KiB | 3.21 MiB/s, done.\n",
      "Total 18 (delta 0), reused 0 (delta 0), pack-reused 0\n",
      "remote: Validating objects: 100%\u001b[K\n",
      "To https://git-codecommit.us-east-1.amazonaws.com/v1/repos/TRAIN-CODE\n",
      " * [new branch]      main -> main\n",
      "branch 'main' set up to track 'origin/main'.\n"
     ]
    }
   ],
   "source": [
    "!rm -rf .git/\n",
    "\n",
    "!git init\n",
    "!git remote add origin $codecommit_repo\n",
    "!git checkout -b main\n",
    "!git add $local_code_dir\n",
    "!git commit -m \"code-update\"\n",
    "!git push --set-upstream origin main"
   ]
  },
  {
   "cell_type": "markdown",
   "id": "aa02a082-26ea-4ef1-a335-148c917c2c7c",
   "metadata": {},
   "source": [
    "## 3. parameter 저장하기"
   ]
  },
  {
   "cell_type": "code",
   "execution_count": 15,
   "id": "d00df8a4-7bc7-4c9e-ad22-a68d7eb993ce",
   "metadata": {
    "tags": []
   },
   "outputs": [
    {
     "data": {
      "text/plain": [
       "'Store suceess'"
      ]
     },
     "execution_count": 15,
     "metadata": {},
     "output_type": "execute_result"
    }
   ],
   "source": [
    "pm.put_params(key=\"-\".join([strPrefix, \"CODECOMMIT-USERNAME\"]), value=ServiceUserName, overwrite=True, enc=True)\n",
    "pm.put_params(key=\"-\".join([strPrefix, \"CODECOMMIT-PWD\"]), value=ServicePassword, overwrite=True, enc=True)\n",
    "pm.put_params(key=\"-\".join([strPrefix, \"CODE-REPO\"]), value=codecommit_repo.replace('https://',''), overwrite=True)  ## https:// 있을 경우 입력 못함"
   ]
  },
  {
   "cell_type": "code",
   "execution_count": 16,
   "id": "151ff9da-be0d-4633-8bad-a85bbf682584",
   "metadata": {
    "tags": []
   },
   "outputs": [
    {
     "name": "stdout",
     "output_type": "stream",
     "text": [
      "CODE-REPO: git-codecommit.us-east-1.amazonaws.com/v1/repos/TRAIN-CODE\n",
      "CODECOMMIT-USERNAME: AQICAHixC/mZVJcnQEHIgIK/d13m2pRN5MnNJb7dfKPh/9fZ0QFrilThQ9dQDTaj9rVv7WH1AAAAdTBzBgkqhkiG9w0BBwagZjBkAgEAMF8GCSqGSIb3DQEHATAeBglghkgBZQMEAS4wEQQM09Q1uQwVhS25FvOlAgEQgDIzYaRZtjxLyeN/ByJFidEg+38L5QwnbzEXfTLy9RruSVzm6nI4Td1ZnjFVGZllQMqFtQ==\n",
      "CODECOMMIT-PWD: AQICAHixC/mZVJcnQEHIgIK/d13m2pRN5MnNJb7dfKPh/9fZ0QHH+D/Rg6+ttvaxzS/8qtuTAAAAizCBiAYJKoZIhvcNAQcGoHsweQIBADB0BgkqhkiG9w0BBwEwHgYJYIZIAWUDBAEuMBEEDAgw+IkxgtJ9qspolQIBEIBHA1fZrpEPWkV9khpEAAQMAo45AxxLmN+nlVQU9Z7A1XDRqIxDomG1f2z/isKsKzHQtlV4CnYPrJSWIlheR3pSjlHUtSRTAew=\n"
     ]
    }
   ],
   "source": [
    "print (f'CODE-REPO: {pm.get_params(key=\"-\".join([strPrefix, \"CODE-REPO\"]), enc=False)}')\n",
    "print (f'CODECOMMIT-USERNAME: {pm.get_params(key=\"-\".join([strPrefix, \"CODECOMMIT-USERNAME\"]), enc=False)}')\n",
    "print (f'CODECOMMIT-PWD: {pm.get_params(key=\"-\".join([strPrefix, \"CODECOMMIT-PWD\"]), enc=False)}')"
   ]
  }
 ],
 "metadata": {
  "kernelspec": {
   "display_name": "conda_python3",
   "language": "python",
   "name": "conda_python3"
  },
  "language_info": {
   "codemirror_mode": {
    "name": "ipython",
    "version": 3
   },
   "file_extension": ".py",
   "mimetype": "text/x-python",
   "name": "python",
   "nbconvert_exporter": "python",
   "pygments_lexer": "ipython3",
   "version": "3.10.8"
  }
 },
 "nbformat": 4,
 "nbformat_minor": 5
}
